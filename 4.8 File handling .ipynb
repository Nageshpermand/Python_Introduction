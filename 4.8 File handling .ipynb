{
 "cells": [
  {
   "cell_type": "markdown",
   "metadata": {},
   "source": [
    "# FILE I/O"
   ]
  },
  {
   "cell_type": "markdown",
   "metadata": {},
   "source": [
    "File is a named location on disk to store related information. It is used to permanently store data in a non-volatile memory (e.g. hard disk).\n",
    "\n",
    "Since, random access memory (RAM) is volatile which loses its data when computer is turned off, we use files for future use of the data.\n",
    "\n",
    "When we want to read from or write to a file we need to open it first. When we are done, it needs to be closed, so that resources that are tied with the file are freed.\n",
    "\n",
    "File operation:\n",
    "\n",
    "    Open a file\n",
    "\n",
    "    Read or write (perform operation)\n",
    "\n",
    "    Close the file\n",
    "\n"
   ]
  },
  {
   "cell_type": "markdown",
   "metadata": {},
   "source": [
    "# Opening a File"
   ]
  },
  {
   "cell_type": "markdown",
   "metadata": {},
   "source": [
    "Python has a built-in function open() to open a file. This function returns a file object, also called a handle, as it is used to read or modify the file accordingly."
   ]
  },
  {
   "cell_type": "code",
   "execution_count": 4,
   "metadata": {},
   "outputs": [],
   "source": [
    "f = open(\"example.txt\") #open file in current direcotry"
   ]
  },
  {
   "cell_type": "markdown",
   "metadata": {},
   "source": [
    "We can specify the mode while opening a file. In mode, we specify whether we want to read 'r', write 'w' or append 'a' to the file. We also specify if we want to open the file in text mode or binary mode.\n"
   ]
  },
  {
   "cell_type": "markdown",
   "metadata": {},
   "source": [
    "# Python File Modes"
   ]
  },
  {
   "cell_type": "markdown",
   "metadata": {},
   "source": [
    "'r' Open a file for reading. (default)\n",
    "\n",
    "'w' Open a file for writing. Creates a new file if it does not exist or truncates the file if it exists.\n",
    "\n",
    "'x' Open a file for exclusive creation. If the file already exists, the operation fails.\n",
    "\n",
    "'a' Open for appending at the end of the file without truncating it. Creates a new file if it does not exist.\n",
    "\n",
    "'t' Open in text mode. (default)\n",
    "\n",
    "'b' Open in binary mode.\n",
    "\n",
    "'+' Open a file for updating (reading and writing)\n"
   ]
  },
  {
   "cell_type": "code",
   "execution_count": 5,
   "metadata": {},
   "outputs": [],
   "source": [
    "f = open('example.txt')  #equivalent to 'r' \n",
    "\n",
    "f = open('example.txt', 'r')\n",
    "\n",
    "f = open('example.txt', 'w')"
   ]
  },
  {
   "cell_type": "code",
   "execution_count": 1,
   "metadata": {},
   "outputs": [
    {
     "ename": "FileNotFoundError",
     "evalue": "[Errno 2] No such file or directory: 'example1.txt'",
     "output_type": "error",
     "traceback": [
      "\u001b[0;31m---------------------------------------------------------------------------\u001b[0m",
      "\u001b[0;31mFileNotFoundError\u001b[0m                         Traceback (most recent call last)",
      "\u001b[0;32m<ipython-input-1-fe2a58e75065>\u001b[0m in \u001b[0;36m<module>\u001b[0;34m\u001b[0m\n\u001b[0;32m----> 1\u001b[0;31m \u001b[0mf\u001b[0m \u001b[0;34m=\u001b[0m \u001b[0mopen\u001b[0m\u001b[0;34m(\u001b[0m\u001b[0;34m'example1.txt'\u001b[0m\u001b[0;34m)\u001b[0m\u001b[0;34m\u001b[0m\u001b[0;34m\u001b[0m\u001b[0m\n\u001b[0m",
      "\u001b[0;31mFileNotFoundError\u001b[0m: [Errno 2] No such file or directory: 'example1.txt'"
     ]
    }
   ],
   "source": [
    "f = open('example1.txt')"
   ]
  },
  {
   "cell_type": "code",
   "execution_count": 7,
   "metadata": {},
   "outputs": [],
   "source": [
    "f = open('example1.txt','w')    #it creates a new file in current directory "
   ]
  },
  {
   "cell_type": "code",
   "execution_count": 8,
   "metadata": {},
   "outputs": [],
   "source": [
    "f = open('example1.txt','a')    #it creates a new file in current directory "
   ]
  },
  {
   "cell_type": "code",
   "execution_count": 10,
   "metadata": {},
   "outputs": [
    {
     "data": {
      "text/plain": [
       "<function TextIOWrapper.close()>"
      ]
     },
     "execution_count": 10,
     "metadata": {},
     "output_type": "execute_result"
    }
   ],
   "source": [
    "f = open('example1.txt','a')    #it appends \"hello\"  at last line\n",
    "f.write (\"hello\")\n",
    "f.close"
   ]
  },
  {
   "cell_type": "code",
   "execution_count": 12,
   "metadata": {},
   "outputs": [],
   "source": [
    "f = open('example1.txt','a')    #it appends \"Hyderabad\"  at last line\n",
    "\n",
    "f.write (\"/tHyderabad\")\n",
    "f.close()"
   ]
  },
  {
   "cell_type": "code",
   "execution_count": 13,
   "metadata": {},
   "outputs": [],
   "source": [
    "f = open(\"testing.txt\", \"x\")  #Open a file for exclusive creation. If the file already exists, the operation fails\n"
   ]
  },
  {
   "cell_type": "code",
   "execution_count": 14,
   "metadata": {},
   "outputs": [
    {
     "ename": "FileExistsError",
     "evalue": "[Errno 17] File exists: 'testing.txt'",
     "output_type": "error",
     "traceback": [
      "\u001b[0;31m---------------------------------------------------------------------------\u001b[0m",
      "\u001b[0;31mFileExistsError\u001b[0m                           Traceback (most recent call last)",
      "\u001b[0;32m<ipython-input-14-8ee46bd117e0>\u001b[0m in \u001b[0;36m<module>\u001b[0;34m\u001b[0m\n\u001b[0;32m----> 1\u001b[0;31m \u001b[0mf\u001b[0m \u001b[0;34m=\u001b[0m \u001b[0mopen\u001b[0m\u001b[0;34m(\u001b[0m\u001b[0;34m\"testing.txt\"\u001b[0m\u001b[0;34m,\u001b[0m \u001b[0;34m\"x\"\u001b[0m\u001b[0;34m)\u001b[0m  \u001b[0;31m#Open a file for exclusive creation. If the file already exists, the operation fails\u001b[0m\u001b[0;34m\u001b[0m\u001b[0;34m\u001b[0m\u001b[0m\n\u001b[0m",
      "\u001b[0;31mFileExistsError\u001b[0m: [Errno 17] File exists: 'testing.txt'"
     ]
    }
   ],
   "source": [
    "f = open(\"testing.txt\", \"x\")  #Open a file for exclusive creation. If the file already exists, the operation fails\n"
   ]
  },
  {
   "cell_type": "code",
   "execution_count": 17,
   "metadata": {},
   "outputs": [
    {
     "ename": "ValueError",
     "evalue": "Must have exactly one of create/read/write/append mode and at most one plus",
     "output_type": "error",
     "traceback": [
      "\u001b[0;31m---------------------------------------------------------------------------\u001b[0m",
      "\u001b[0;31mValueError\u001b[0m                                Traceback (most recent call last)",
      "\u001b[0;32m<ipython-input-17-98895ffbd827>\u001b[0m in \u001b[0;36m<module>\u001b[0;34m\u001b[0m\n\u001b[0;32m----> 1\u001b[0;31m \u001b[0mf\u001b[0m \u001b[0;34m=\u001b[0m \u001b[0mopen\u001b[0m\u001b[0;34m(\u001b[0m\u001b[0;34m'example1.txt'\u001b[0m\u001b[0;34m,\u001b[0m\u001b[0;34m'b'\u001b[0m\u001b[0;34m)\u001b[0m\u001b[0;34m\u001b[0m\u001b[0;34m\u001b[0m\u001b[0m\n\u001b[0m",
      "\u001b[0;31mValueError\u001b[0m: Must have exactly one of create/read/write/append mode and at most one plus"
     ]
    }
   ],
   "source": [
    "f = open('example1.txt','b') "
   ]
  },
  {
   "cell_type": "code",
   "execution_count": 22,
   "metadata": {},
   "outputs": [],
   "source": [
    "f = open('example1.txt','rb')\n",
    "\n",
    "f.read()\n",
    "f.close()\n"
   ]
  },
  {
   "cell_type": "code",
   "execution_count": 21,
   "metadata": {},
   "outputs": [
    {
     "name": "stdout",
     "output_type": "stream",
     "text": [
      "b'helloHyderabad/tHyderabad'\n"
     ]
    }
   ],
   "source": [
    "f = open('example1.txt','rb')\n",
    "\n",
    "print(f.read())\n",
    "f.close()\n"
   ]
  },
  {
   "cell_type": "code",
   "execution_count": 27,
   "metadata": {},
   "outputs": [],
   "source": [
    "f = open('example1.txt','+w')      #for updating file\n",
    "\n",
    "f.write(\"Hello\")\n",
    "\n",
    "f.close()"
   ]
  },
  {
   "cell_type": "code",
   "execution_count": 28,
   "metadata": {},
   "outputs": [
    {
     "name": "stdout",
     "output_type": "stream",
     "text": [
      "Hello\n"
     ]
    }
   ],
   "source": [
    "f = open('example1.txt','r')      # \"+w\"for updating file\n",
    "\n",
    "print(f.read())\n",
    "\n",
    "f.close()"
   ]
  },
  {
   "cell_type": "code",
   "execution_count": 35,
   "metadata": {},
   "outputs": [
    {
     "ename": "ValueError",
     "evalue": "must have exactly one of create/read/write/append mode",
     "output_type": "error",
     "traceback": [
      "\u001b[0;31m---------------------------------------------------------------------------\u001b[0m",
      "\u001b[0;31mValueError\u001b[0m                                Traceback (most recent call last)",
      "\u001b[0;32m<ipython-input-35-4a39a16d459b>\u001b[0m in \u001b[0;36m<module>\u001b[0;34m\u001b[0m\n\u001b[0;32m----> 1\u001b[0;31m \u001b[0mf\u001b[0m \u001b[0;34m=\u001b[0m \u001b[0mopen\u001b[0m\u001b[0;34m(\u001b[0m\u001b[0;34m\"hello.txt\"\u001b[0m\u001b[0;34m,\u001b[0m \u001b[0;34m\"w+r\"\u001b[0m\u001b[0;34m)\u001b[0m       \u001b[0;31m#must have only one either write,append and read\u001b[0m\u001b[0;34m\u001b[0m\u001b[0;34m\u001b[0m\u001b[0m\n\u001b[0m\u001b[1;32m      2\u001b[0m \u001b[0mf\u001b[0m\u001b[0;34m.\u001b[0m\u001b[0mwrite\u001b[0m\u001b[0;34m(\u001b[0m\u001b[0;34m\"hello hello\"\u001b[0m\u001b[0;34m)\u001b[0m\u001b[0;34m\u001b[0m\u001b[0;34m\u001b[0m\u001b[0m\n\u001b[1;32m      3\u001b[0m \u001b[0;34m\u001b[0m\u001b[0m\n\u001b[1;32m      4\u001b[0m \u001b[0mprint\u001b[0m\u001b[0;34m(\u001b[0m\u001b[0mf\u001b[0m\u001b[0;34m.\u001b[0m\u001b[0mread\u001b[0m\u001b[0;34m(\u001b[0m\u001b[0;34m)\u001b[0m\u001b[0;34m)\u001b[0m\u001b[0;34m\u001b[0m\u001b[0;34m\u001b[0m\u001b[0m\n\u001b[1;32m      5\u001b[0m \u001b[0mf\u001b[0m\u001b[0;34m.\u001b[0m\u001b[0mclose\u001b[0m\u001b[0;34m(\u001b[0m\u001b[0;34m)\u001b[0m\u001b[0;34m\u001b[0m\u001b[0;34m\u001b[0m\u001b[0m\n",
      "\u001b[0;31mValueError\u001b[0m: must have exactly one of create/read/write/append mode"
     ]
    }
   ],
   "source": [
    "f = open(\"hello.txt\", \"w+r\")       #must have only one either write,append and read\n",
    "f.write(\"hello hello\")\n",
    "\n",
    "print(f.read())\n",
    "f.close()"
   ]
  },
  {
   "cell_type": "code",
   "execution_count": 33,
   "metadata": {},
   "outputs": [
    {
     "name": "stdout",
     "output_type": "stream",
     "text": [
      "b'\\xff\\xd8\\xff\\xe0\\x00\\x10JFIF\\x00\\x01\\x01\\x00\\x00\\x01\\x00\\x01\\x00\\x00\\xff\\xdb\\x00\\x84\\x00\\t\\x06\\x07\\x13\\x13\\x10\\x15\\x13\\x11\\x13\\x16\\x13\\x15\\x17\\x15\\x17\\x19\\x16\\x18\\x18\\x18\\x1b\\x18\\x17\\x15\\x15\\x18\\x19\\x16\\x1a\\x1a\\x16\\x1a\\x17\\x18 ( \\x1a\\x1a\\'\\x1b\\x18\\x1a!1!%*+0..\\x18\\x1f383.7(/.-\\x01\\n\\n\\n\\x05\\x05\\x05\\x0e\\x05\\x05\\x0e+\\x19\\x13\\x19++++++++++++++++++++++++++++++++++++++++++++++++++\\xff\\xc0\\x00\\x11\\x08\\x00\\xd9\\x00\\xe8\\x03\\x01\"\\x00\\x02\\x11\\x01\\x03\\x11\\x01\\xff\\xc4\\x00\\x1c\\x00\\x01\\x00\\x02\\x02\\x03\\x01\\x00\\x00\\x00\\x00\\x00\\x00\\x00\\x00\\x00\\x00\\x00\\x06\\x07\\x04\\x05\\x02\\x03\\x08\\x01\\xff\\xc4\\x00F\\x10\\x00\\x02\\x01\\x02\\x04\\x04\\x04\\x04\\x02\\x07\\x05\\x04\\x0b\\x01\\x00\\x00\\x01\\x02\\x11\\x00\\x03\\x04\\x12!1\\x05\\x06AQ\\x07\\x13\"a2q\\x81\\x91B\\xa1\\x14#Rbr\\xb1\\xd13\\x82\\x92\\xc1\\xf0\\x08$CS\\x1645Dcs\\xb2\\xb3\\xd2\\xe1\\xf1\\x15\\xff\\xc4\\x00\\x14\\x01\\x01\\x00\\x00\\x00\\x00\\x00\\x00\\x00\\x00\\x00\\x00\\x00\\x00\\x00\\x00\\x00\\x00\\xff\\xc4\\x00\\x14\\x11\\x01\\x00\\x00\\x00\\x00\\x00\\x00\\x00\\x00\\x00\\x00\\x00\\x00\\x00\\x00\\x00\\x00\\xff\\xda\\x00\\x0c\\x03\\x01\\x00\\x02\\x11\\x03\\x11\\x00?\\x00\\xbck\\x1b\\x88c\\xedX\\xb6n^u\\xb6\\x83vc\\x03\\xe4;\\x9fa\\xa9\\xae\\x9e;\\xc5\\x17\\ra\\xef0\\xcd\\x94zV@.\\xe7\\xe1@N\\xd2z\\xf4\\xd4\\xf4\\xaas\\x88\\xf1\\x0b\\xf8\\x8b\\xee\\xf7\\xd8\\xb99\\n\\x85\\x8c\\x96T\\xcf\\xc2\\x1b\\xb1\\x07]\\xcc\\x89\\xf6\\t\\x8f\\x14\\xf1\\x178\\x8c\\r\\xb9\\xdcy\\xb7T\\x85\\x06$\\x11jC0\\xf7%~F\\xa3\\xaf\\x8c\\xbd\\x88x\\xbf\\x88r\\x0eb\\xd2HEX\\'\\xfb4\\x80t\\xd3mt\\xadu\\xcb\\xb0D\\xecz\\xee\\']\\xfbm\\xb9\\xef\\\\0|EM\\xf4[d\\\\$1\"a\\x02@\\x04\\xbbn\\x07\\xa8Dk$hh7~]\\xb9\\x1eU\\xdc\\x8c\\x0f\\xc4\\xcam\\xce\\x9b\\x06\\x0cc\\xe4{\\xefY\\x169\\x83\\x11\\x86b._i\\x06\\n\\xb42Li\\x9b9\\x98\\xeb\\x0b\\x1d5\\xadV%\\x14IB\\xa4\\x8e\\x81\\x9a\\x0f\\xb0\\xce\\x82>\\xa6*\\x15\\xcd\\x18|}\\xc7\\xf3\\x8a\\xe6@\\xca\\xea\\xadq.\\\\\\x8bAs\\x00P\\x9c\\xa3oI3\\xd4oA\\xe9\\x0e\\t\\x8f7\\xf0\\xf6\\xef\\x15\\xcb\\x9dA\\x8e\\x9fI\\xe9\\xd6\\xb3\\xaa\\xa7\\xe5\\x1ec\\xbdjQ\\xee;\\xe5\\xc3;\\x0bo\\xaf\\xa9@\\xc8t\\x04.\\xc4@ {j*\"<d\\xbc\\x973\\xfe\\xb1\\xc8q(\\xc4\\x01\\x1e\\xac\\xc2\\x00\\x88\\xd0h;\\xf4\\x8a\\x0fCR\\xb5\\xdc\\x0b\\x8c[\\xc5a\\xed^\\xb6t\\xb8\\xa1\\x80\\x9dGq\\xef\\xf3\\xad\\x8d\\x02\\xb8]\\xba\\xaa\\xa5\\x98\\x85P$\\x92`\\x01\\xdc\\x93\\xb0\\xaeF\\xabO\\x1dx\\x95\\xeb<=\\x1a\\xdc\\xa872\\x9e\\xba\\x91\\xa1\\xd3\\xa8\\xd6\\'\\xacu\\x88\\t\\xc6\\x17\\x98p\\xd7.\\x8bV\\xee\\x86s1\\x13\\x06\\x01$\\x03\\xb6\\xc0\\x9f\\x90\\xad\\xa5P\\x1e\\x07r\\x85\\xfb\\x97\\x93\\x88^\\xb8R\\xd0fkk\\xbb_q\\x99KI\\xd9CL\\xeeI\\x1d7\\xab\\xfe\\x81JR\\x81JR\\x81JR\\x81J\\x8as/7y/\\xe5X\\n\\xce>6i\\xc9l\\xf6\\x81\\xab\\xb7\\xb4\\x80;\\xce\\x95\\x0f\\xc5s.1\\xc9\\xff\\x00yu\\x13\\xa0UE\\x81\\x11\\x00\\xe5\\x98\\xeb\\xa9\\xebAm\\xd2\\xaa,?2c\\x13lK\\xb6\\xdf\\x10F\\xdb\\xa6\\xab5\\xbf\\xe1\\\\\\xfeT\\xc60(N\\xb7W@\\x83\\xbb\\xa9?\\x0fv\\x1bv\\xec\\x13\\xeaW\\xc0k\\xed\\x02\\x94\\xa5\\x02\\x94\\xa5\\x05[\\xe2\\xb7\\x15\\x0fw\\xf4|\\xc3-\\xbbe\\x9c1\\x85l\\xe0\\x83\\x9aD\\x00\\xaaT\\xc9\\xd3\\xd6j\\'r\\xe41A:.bw,\\xd2#,\\x1e\\x91\\xa8\\x883\\xf3\\xa8\\xbf3\\xf3)\\xb9\\xc4q$\\xb3\\x15{\\xcd\\xe9\\x19\\x9am\\x89TT\\x01\\xe0\\x96V\\x12\\x0eX\\xc8:\\xe9Z~#\\xcd\\x0e\\xe6\\xdb\\x94\\xb6]T\\x88d\\x0c\\xb0N\\xfa\\x92A\\xd2:oA\\xb5\\xe6.9\\x16\\x88-\\x99\\xce\\x80\\x08\\x83\\xb1\\x17\\x0c\\x1c\\xc9\\x00+\\x01\\xe9 \\xc4\\xccV\\x8f\\x93\\xf8\\xc5\\xdb\\x18\\xa0m\\xaa\\xdd7A\\xb6\\xca\\xe4\\xc3\\x06*w\\x06A\\x95S>\\xd5\\xa6\\xbf|\\xbe\\xa4\\t,\\xcd\\xa0\\x8d\\xe3H\\x1a\\x00#A\\xd2\\xb8\\xda\\xb8U\\x83)\\x82\\x0c\\x824\\x82=\\xc5\\x05\\xcd\\x89\\xe38A\\x88[\\x01\\x99n0\\n3\\x10b\\xe1\\xcb#\\xd3\\xe9\\nI\\x11\\x9a\\x0e\\xfe\\xd3\\x14\\xe2\\xf7L]/}\\xad\\xbb\\xdbi\\xb6\\x12\"\\xd8\\xc9!\\x8b\"\\xe7b\\x19\\x80\\x03Q\\x94\\xcb(:\\xe9\\xf9s\\x856+\\x14o\\x16\\n\\x03\\xf9\\x8c&X\\xcb\\x12#Mu\\x04O\\xf5\\x15\\xe9\\xee\\t\\x83\\xb7\\x89\\xc0\\xd9\\xfd&\\xd2^\\xf4\\xc8\\x17\\x11\\\\D\\x9c\\xa4\\x06\\x11\\xf0\\xc5\\x05S\\xfe\\xcf\\xb8T\\xbaq-r\\xc1pP\\xa3\\xdepH`\\xe4M\\xb9:j\\x04\\x98\\xf6\\x9e\\x93\\xbb\\xe7/\\x07\\xec\\xe2\\x88l\\x00\\xb7\\x86%\\x81v|\\xed\\x9cG\\xc4\\xa2L}~)\\'\\xdc\\xd9\\xf6\\xb0\\x88\\xa0Z\\xb6\\xabn\\xda\\xfe\\x14\\x01G\\xb2\\x80\\xba\\x01\\xdc|\\xbb\\xd6]\\x04k\\x92yS\\xf4\\x0b)l\\xdek\\xc5P$\\xc6T\\x8d\\xf4Y:\\xfb\\x92`h\"\\xa4\\xb4\\xa5\\x02\\xb8^\\xb2\\xae\\xa5]C)\\x10A\\x12\\x08\\xecA\\xaet\\xa0\\xe8\\xc3\\xe0\\xad\\xa5\\xb1i-\\xaa[\\x13\\x08\\xaa\\x02\\x892aF\\x83S\\\\\\x19\\x9a\\xd9\\xd6Y\\t\\xdf\\xad\\xbf\\x9fu\\xf7\\xdcu\\xd2H\\xca\\xa5\\x02\\x95\\xd3e\\xa0\\x94;\\x8dD\\xf5_\\x9fR\\x0e\\x87\\xe9\\xde\\xbb\\xa8\\x14\\xa5(\\x15\\x85\\xc6\\xb1\\x06\\xde\\x1a\\xf3\\xaf\\xc4\\xb6\\xdc\\x8fb\\x01\\x83\\xf4\\xde\\xb3k\\xaf\\x13d:26\\xaa\\xcaT\\xfc\\x88\\x83AL\"\\x02\\'X\\x02\\x0e\\x92g\\xb9?3\\xd7\\xf3\\xae\\xa8\\xac\\x9e!a\\xac\\xdd6\\x9c\\xea\\x8c@\\x8d3\\x00F\\xa3\\xde\\x08?Q]\\x0e5\\xdc\\x19\\xd7N\\x93\\xad\\x07\\nR\\xban\\xe2@`\\x8a3\\xdco\\x86\\xda\\xc6f\\xf9N\\x80{\\x98\\x02\\x82\\xd4\\xf0\\xff\\x00\\x17\\xe6p\\xfbBg\\xcb/kS\\x98\\xc5\\xa6(\\x01=NP=\\xfb\\xebR:\\x8c\\xf2&\\x08Y\\xc3\"~(sv\\x07\\xa7\\xccw7\\x08\\x1a\\x9d\\x01v\\x8a\\x93P)JP)JPx\\xb3\\x8d\\xdb\\x7f\\xd2/\\x06\\r\\xe8\\xba\\xeafHO[z}\\xb5\\x9d>u\\x82\\xeeI\\x92I:ju\\xdbA\\xf9T\\xa7\\xc5>\\x18p\\xfc_\\x16\\x90@k\\xa6\\xe2\\xfb\\xad\\xcf^\\x9fV#\\xe9QJ\\x05++\\x07\\x827&:@\\x8d\\xd9\\x89\\x0caG]\\x14\\xff\\x00\\xad*_k\\x85\\xe1\\x0e\\x15\\x15B\\x8b\\xd7\\x11\\x08c\\xac9\\n\\x0e\\xac@PZ@\\xd7y\\x89\\x88\\xa0\\xd9r\\x97\\x0e\\xb7\\x84 b\\x19\\x05\\xd6\\x02\\x104\\xb6R\\xc7A\\'@}2G\\xec\\xd5\\xe9\\xca\\x9cr\\xd3X[d\\xaa2(\\x01f%vX\\x98\\x93\\xd2;\\x8fq^|\\xc6p\\x84\\xc3\\xe5\\xbc\\xc1\\xae]\\xb8\\xf0U\\xd82\\xc4\\xebl\\xbfC\\x92Ac\\x98@a\\x1a\\x8a\\x9e\\xf8y\\x8c\\xff\\x00y\\xb2\\x1c\\t/\\x01s\\x19\\x19\\x84\\xfa\\x83\\t\\x04\\x039N\\xd2\\xba\\xe94\\x17U)PO\\x15y\\xd2\\xe7\\x0f\\xc3\\x93eA\\xb8\\xc3F;,\\x98\\x10;\\x89\\x9f\\xa4u\\xd0\\'t\\xaf*`x\\xff\\x00\\x1a\\xe2WJZ\\xc4_\\xb8\\xf10\\x87 \\x1bh\\xb9 )\\xd3\\xdb@\\xdd&\\xa5<\\'\\x9e\\xb8\\xbf\\x0ce\\x1cC\\xfd\\xe7\\x0eNR\\xc5\\xd2\\xe3\\x02\\xa2J\\x8b\\xcaO\\xae\\x01\\xf4\\xb9\\x93\\x06;\\xd0z\\n\\x95\\x828\\xa5\\xb3e/\\x86\\xfd[d3\\xfb\\xaf\\x10Oo\\x88\\x1a\\xd5\\xf3\\x1f7\\xd8\\xc2[v\\';&PUd\\xc3<\\x84\\x0cT\\x1c\\xb3\\xbfx\\xd6\\r\\x06\\xfb\\x11}QK\\xbb\\x05P$\\x92`\\x01\\xf35\\x8d\\x82\\xe2\\x96\\xee\\xaet2\\xb0\\x0c\\x82\\x18A\\xdbj\\xa0|i\\xc7\\xdf\\xcfk\\xcc\\xc5\\xda\\xbc.\\x80\\xe3\\x0c\\xb6\\xca\\x1c:\\xe8\\xcb\\x99Y\\x89\\xcc\\xc0\\xc1&\\t\\x83\\xa0\\xa9g\\x82\\xd7\\xae&\\x0f\\xd4B\\x06V#(\\x10ZIS\\x954\\',v\\xde\\x0e\\xb4\\x16\\'0bE\\xab\\xd8[\\x9bM\\xd3h\\xff\\x00\\x05\\xc5\\xd4}\\xd5[\\xfb\\xb5\\xbb\\xa8W9q\\x0f\\xf7+\\x0c\\xa3\\xd4o\\xacI\\x91(\\xb7\\x0e\\xfb\\xc7\\xa7\\xde\\xb6\\xfc?\\x9bp\\xb7\\x00\\x9b\\x82\\xd3\\x1e\\x8f\\xe9\\xd7\\xb6c\\xe9?z\\r\\xf5+\\xae\\xcd\\xe5a(\\xc1\\x87pA\\x1f\\x95vP+\\x1b\\x88c\\x92\\xcd\\xb6\\xb9p\\xc2\\xaf\\xdc\\x9e\\x80\\x0e\\xa4\\xd6MU\\xbc\\xeb\\xc7<\\xfb\\xb0\\x84\\x9bV\\xe6\\x00\\x04\\xe7n\\xae\\x00\\xf8\\xbb\\x0f\\xcbz\\r\\xc6#\\x85X\\xe2\\x98\\x7f4\\x1f&\\xeb]e\\xdb0,\\x84\\xe5WBu!@9\\x86V\\xecb\\xa1\\xd8\\xde[\\xbdf\\xe1\\xb0\\xd7M\\xb7\"Cg\\xce\\xa4f\\x9c\\xcan\\xa9;t;}+K\\x82\\xe7s\\xc3q\\'87-^`\\xec\\x16\\x18[d%3[x\\x1a\\x95@\\xae\\xb1\\xb3ht\\xd6\\xd4\\xb1\\xc5\\xb0\\xbcJ\\xc2\\xdd\\xc3\\xb2\\xb9Q!\\x90\\x8f6\\xd6\\xd2\\n\\x18 n5\\x8f\\xf2\\xa0\\x88\\xd8\\xe5\\xb0\\xa4\\x9b\\xd8\\xb7o\\xdd\\x02\\xda\\x05\\xd0\\xe9!su\\xd3\\xe5[~\\x15\\xc3l\\xd9\\x1f\\xa9C\\xea\\x92]\\x89g?\\xc4\\xd7\\x0eh\\xec+*\\xc5\\xa6]\\xdf?\\xbeP\\x18\\xc7RF\\x87\\xed]\\x97.\\x05\\x05\\x98\\xc2\\x81$\\x9d\\x80\\xefA\\xbc\\xe5\\x81\\xf1\\xef\\xbf\\xd3e\\xd7\\xeb\\xfeF\\xb7\\xd5\\x1f\\xe4\\xcb\\xa6\\xe5\\x83x\\xaeP\\xecB\\x0e\\xa1\\x10\\x91\\xacnKgol\\xc0t\\xa9\\x05\\x02\\x94\\xa5\\x02\\x94\\xa5\\x05?\\xfe\\xd0\\\\\\xa4oXLu\\xa1/de\\xbb\\xefjd7\\xf7I?F\\xaf>W\\xb8n\\xdb\\x0c\\xa5X\\x06R\\x08 \\x89\\x04\\x1d\\x08 \\xee\"\\xbc\\xd1\\xe2\\xcf\\x86m\\x80s\\x88\\xc3\\x02\\xf8F:\\xf56\\x18\\x9f\\x85\\xbb\\xa4\\xec\\xdfC\\xac\\x12\\x10<%\\xbb\\x831\\xb6\\x0b\\x0c\\xc1[!\\x9322\\x19\\x12@\\xcd\\x10z\\x91\\x15\\xdf\\x80r\\x18\\xb2\\\\Ur\\x07\\xad\\x98\\x01\\x98\\x90H*\\xcaN\\xf1\\xea\\xd8\\x15\\x99\\xadm\\xab\\x8c\\xa6T\\x95=\\xc1\\x83\\xf7\\x15\\xf6\\xc0Y\\xf5LCl@3\\x065>\\xf1\\xa7]\\xa8%Wx\\xb4\\xbb\\x0b\\xac\\x05\\xb5v[\\x9e^h>~`\\xe3]4\\x83\\xb0\\x92A \\xeb[\\x9eG\\xc7\\xb5\\xb7LE\\xd1vsYe?\\x84\\x8bc)l\\xe4zC\\x00A\\xd4\\xed\\xae\\xe0\\x18f\\x16\\xc5\\xa8\\x05\\x9c.h!YZtb\\x00\\xce\\x00X \\th\\xd8\\x9e\\xa2\\x0c\\x8f\\x951\\xc4\\x82JL+\\x17\\x9f)W(\\x13\\x9b;C\\x83\\x02%\\x89\\x04\\xce\\xa24\\x0fU#\\x02\\x01\\x1a\\x82${\\x8a\\x89\\xf8\\x81\\xcb\\xed\\x88\\xb6\\x1e\\xdc\\x16U`A\\x00\\xfa\\x083\\x00\\xeew\\xd3\\xb1\\xad_\\x87\\x9c\\xe2\\xadd\\xe1\\xee\\x81\\x9e\\xcf\\xc3\\x91\\xb3\\x07\\xb0I\\xc8\\xc3\\xdc\\x10\\xd6\\xc8\\x9d\\n\\x03\\xb1\\xd2_o\\x8d\\xda\"L\\x83\\xd8\\x8e\\x9d\\xe4i\\xb7\\xbf\\xb6\\xf4\\x14W\\x03\\xc5\\xbf\\n\\xbfr\\xf6\\x19-\\x8c\\xe1\\xf3\\xad\\xe3\\x91Y|\\xc5\\x19\\x03|6\\xe2FRN\\xbb\\x15\\xed\\xdd\\xc2-^\\xe2i\\x7f\\t\\x81\\xc1\\xf9\\x16\\xf1\\x0e\\x8f\\x8a\\xc4^\\xbe\\xd8\\x85@\\xaeX*zB\\xabz\\xa4\\x01\\xa9\\x1e\\xda\\x8b_\\x89p\\xac\\x16$\\xe6dl\\xcd\\xa1T\\x02Z\\'R\\x00 \\xe9\\xfe\\xb7\\xad\\x9f-\\xda\\xb1n\\xdb%\\x8bki\\x15\\xa64\\x04\\xc8\\x92\\xcd\\xef\\x9au4\\x1d\\xbc/\\x83\\xad\\x8c*a\\xad\\x90U\\x11Qs\\t\\xf4\\xa8\\x03P\"N\\x9b\\xf7\\xa8\\'1r\\x08\\xb9v\\xe5\\xff\\x002\\xf6\\x1d\\xeeG\\x98\\xd6\\x1e\\x11\\xc8\\x10\\xac\\xd6\\xd8\\x9d\\xa1v\\xcb\\xd7i\\x9a\\xb3-\\xdc\\x0c%H#\\xb82>\\xe2\\xa3|\\xfb\\xcc)\\x85\\xc2\\\\\\x8c\\xaft\\xac%\\xb9\\xd5\\xc9\\xd0,\\ru\\xd8w$\\n\\n\\xb3\\x0f\\xe1F\\x1dng{\\xd7.\\xfe\"XjN\\x84\\x92\\xa9&\\x7f\\xbc~\\xb5`X\\xb6\\xb6\\xed\\xf9v\\xc4,\\xc9\\x9d\\xc9\\xd7\\x7f\\xb9\\xd2\\xbea\\xdc\\xe5R\\xc0\\x06\\x80H\\xe8\\x18\\x8dG\\xd0\\x9a\\xc5\\xe2\\xfcJ\\xde\\x1a\\xcb\\xde\\xbca\\x10I\\xeeO\\xec\\x89\\xdd\\x8fj\\x08\\xb7\\x8b\\xdc\\xca\\xb6\\x96\\xc6\\x188\\x81\\x87k\\x8c\\x80\\x06\\xcfr\\xea\\xb0\\xb4Ha\\xf0\\x8c\\xaeX\\x7f\\xe2.\\x84\\x1a\\xa7p<~\\xfd\\xa6\\x0c\\xaeg\\xf1\\x1df\\xe0\\x02\\x00f\\xdc\\xc0\\xd0v\\xaf\\x9c\\xc9\\xc6\\xeec1W1\\x17~\\':\\x00I\\x08\\xa3EA=\\x00\\xd2\\xb5\\x94\\x16?\\x06\\xe7\\xb6\\x0c\\xb0\\n\\x96\\x04E\\xb2s~)i\\x07Q\\x94m\\x00\\xe9\"gI\\x7f\\x0f\\xf1P\\xa2\\xa9{\\xba\\x11\\xa6s\\x9au:\\x93\\xa9;F\\x95E\\x03\\xda\\xb9\\xe1\\xed\\x16uU\\xd5\\x99\\x80\\x03\\xb9&\\x07\\xe7A\\xe8\\xdb\\xfc\\xfc\\xf8\\x8c3\\x85\\x19\\x15\\xb4\\xf3!\\x92T\\tb\\x19\\xa0\\x10Dz\\x86\\x90MA\\xb8\\xfe)QX8\\r\\xe9f\\n\\xc0\\xe4\\x08\\x86\\xd8|\\xc0j\\xdf\\x1c\\x81\\xb7\\xa7\\xdb\\\\\\xdc5\\x83j\\xca\\xa4\\xc3\\x80\\xb9\\xa4\\xcc\\xbc\\x0c\\xfa\\xc6\\xba\\x03\\xd3a\\xd2\\xab>9\\xc5\\x19\\xcbZ\\x1f\\xabDf\\x01@\\xcb\\x98+B\\xab*\\xe9*?\\x97}\\xc3\\x87\\x1d\\xe2Mu\\xa3\\xd0\\x10\\xb3<&\\x81\\x98\\xb3~\\xb1\\x87G\\xcb\\x03]t\\xf7\\xad~\\x13\\x17r\\xd3g\\xb4\\xedm\\xbfiX\\xa9\\x8e\\xd2+\\xa6\\x94\\x12\\xcb\\x1e#\\xf1\\x15\\x11\\xe7\\xe6\\xf7dB~\\xf1]\\xbc/\\x98q\\xb8\\xccB%\\xc3s\\x117\\x16\\x10h\\x8aX\\xe8`\\r!\\xb2\\xeb\\xd0f\\x1dj\\x1dS_\\x0c\\x9d,_\\xfd1\\xc0\\x9b_\\xd9\\xe7\\x07\\xcb\\xce\\xda\\x02`\\x8c\\xcd;\\x01\\xd4Oj\\x0fSp\\xec \\xb5i-\\xae\\xc8\\xa0|\\xe0j~\\xa7_\\xaddTC\\x87s\\xfe\\x1d\\x98%\\xef\\xd51$\\x032\\xad\\x00\\x1f\\x9e\\xc6v w\\xa9e\\x9b\\xca\\xea\\x19\\x182\\x9d\\x882\\x0f\\xd4Ps\\xa5)@\\xa5)@\\xae\\x17\\xad+)WP\\xca\\xc0\\x86R$\\x10t \\x83\\xb8\\xaet\\xa0\\xa0<S\\xf0\\x8d\\xac\\xe6\\xc5\\xf0\\xe5-kSr\\xc8\\xd5\\xad\\x81\\xbb[\\xea\\xc9\\xfb\\xbb\\x8fq\\xb57^\\xe3\\xaas\\xc5\\x7f\\t\\x85\\xf2\\xf8\\xce\\x1c\\xa0]\\xde\\xed\\x91\\x01n\\xf7t\\xec\\xfd\\xc6\\xcd\\xbe\\xff\\x00\\x10QXlA.<\\xc1\\xe6f\\x85\\xf5fb\\x04\\x83\"\\x082>}Oz\\xd8p\\xcb\\xdeSIh\\n\\xa4\\x9dH\\xccA\\x19B\\x83\\x90\\x83\\x07I$C6\\x9a\\x91Zs\\x99[\\xaa\\xb0?\"\\x08\\xfeF\\xbbZ\\xe6a,]\\x9eu$\\xcf\\xa3\\xe6d\\x834\\x1b\\xcc_1^W\\xb1~\\xdb\\xe5q\\xea\\x1a\\x96$\\x070\\x18\\xe9\\xe9\\xd3)^\\xb9d\\xf4\\xab\\x7f\\x93\\xb9\\xd2\\xce9\\x00\\x91n\\xf8\\x1e\\xabg\\xaf\\xba\\x93\\xf1\\x0f\\xce\\xa8{\\xd1\\x92Te\\r\\x98\\xc1\\x83\\xb1]\\x15\\xb7\\xfb\\xc7^\\xf5\\x8fj\\xe1V\\x0c\\xa4\\xa9\\x06A\\x06\\x08=\\xc1\\x14\\x1e\\xb2\\xc0\\xe3Z\\xd4\\xe5\\x8dw\\xd3]6\\x8a\\xe8\\xf3\\x9aI\\x92I\\x10d\\xfcCM\\x0f}\\xaa\\x94\\xe5\\xdf\\x15/\\xda\\x85\\xc5/\\x9e\\x90\\x04\\x8d.\\x0fr\\x7f\\x11\\xf9\\xc5O\\xb8G\\x888\\x1b\\xe2|\\xdf$\\xc4\\x95\\xbb\\xe9\\x811\\xf1|?cA\\x87\\xc6x\\x0e6\\xdb0\\xc0\\xe3\\xfc\\x94`I\\xb7u\\x99@\\x93\\xaeK\\x80\\x12@\\x10!\\x89\\x81\\xb9:V\\x0f.r\\xc5\\xe7\\xbf\\xe7cq\\x03\\x15r\\xd5\\xc9\\xb6\\x96\\xf35\\x90\\xc0O\\x9bq\\xd1B\\xc8\\xd6\\x14\\x19,\\xb1\\xd6\\xa6\\t\\xcc\\x982$b\\xac\\x11\\xff\\x00\\x98\\xb1\\x1a\\xfb\\xfb\\x1a\\xd6q\\xcf\\x13\\xb0\\x96-d\\x17\\xff\\x00H\\xfd\\x94\\xb4\\x14\\x8d\"\\x01`\\x00\\x00i\\xd4\\x9f\\x9d\\x04\\x8f\\x11}QY\\xee0UQ,\\xc4\\xc0\\x00\\rI&\\xa8\\xbf\\x11y\\xd1\\xb1\\xd7|\\xbbD\\x8c:7\\xa6w\\xba\\xdf\\xf3\\x1au\\x03\\xb0?]v\\xc1\\xe6\\xbeu\\xc4c\\xbd.|\\xbb[\\x8bk\\xb4\\xf7\\'v\\xfa\\xe9\\xa5F\\xa8\\x14\\xa5}\\x02\\x83\\xe5K\\xfc=\\xe1Y\\xee\\x9b\\xee\\xb2\\xa9\\xa2\\x1e\\x9ef\\x86~j\\x08\\xff\\x00\\x10=+\\x17\\x87\\xf2F.\\xea\\x07*-\\xa9\\xea\\xf3\\xb1\\x8e\\x8a\\x0co\\xb1\\x8a\\x9bp|)\\xc2\\xdbK7\\x19r\\xa5\\x8f1\\x8c\\xc0\\x05\\xee\\xde\\x96\\xd7\\xa6P\\xba\\xfe\\xed\\x06\\x076b\\xc0\\x05.+\\xe4R\\x8c\\xd9\\\\\\xa0(\\xebqa\\xa0\\x12F`\\x06\\x9az\\x84\\xfb\\xd6\\xd7n\\x16b\\xc7rd\\xe8\\x06\\xa7\\xd8h+u\\xcd\\x17\\xd5\\xdc\\x90\\xf7\\t&J\\xbd\\xc1pC\\xfa\\x80\\xb6WL\\xa2 \\xc9\\xed\\xd8\\xd6\\x8a\\x81JR\\x83\\x92\\x01\"L\\t\\xd4\\xf6\\x158\\xc6XK\\x18$\\xb5\\xe9T\\xbb\\xfa\\xeb\\x93\\xfa\\xc2\\x15\\x8d\\xb5@\\n\\xb2\\x92\\x16f@3\\xde*\\x1f\\xc30\\xdem\\xebv\\xf6\\xcc\\xe0\\x1dcBu\\xd7\\xa6\\x95\\x95\\xcc\\xb7\\xd1\\xf1/\\xe5\\x7ff\\xb0\\xa9\\xbf\\xc2\\xa0\\x00$\\xea@\\x88\\x1e\\xd1\\xd2\\x83u\\x87\\xe3\\xd7@\\xb7\\x05I\\xb8I\\x9f\\xd6*.\\xe1\\x81-\\x19\\xdaH:\\x1d \\t3\\x152\\xe5.|{@\\x13p[\\xb90\\xe0\\xc1\\xb2\\xc7\\xb9\\x86\\x81\\xb8\\x91!\\xb5\\xaa~\\xb2\\xb0\\xd7A`\\xb7\\'!bH@\\'1\\x1a@\\xd2G\\xb4\\xf51A\\xeb\\xde_\\xe6k8\\x91\\x13\\x92\\xe7\\xec\\x13\\xbfYS\\xf8\\x84}\\x7f\\x9do+\\xcb\\xdc\\xa3\\xc7SKAr\\x92\\xd1\\xe9C\\xe9\"r\\xe6=\\xe1\\x17\\xd5\\xbe\\x9bD\\x91qr\\xf7;\\x95\\x0112\\xcb\\xd2\\xe4z\\x87\\xf1/_\\xe7\\xech\\'\\xf4\\xae\\x9c&).\\xa0{l\\x1dN\\xc4\\x19\\x14\\xa0\\xee\\xa5)@\\xa5)AVx\\xb1\\xe1j\\xe3Cb\\xb0`&(\\tu\\xd9o\\x81\\xfc\\xaev=v=\\xc7\\x9d\\x1b:\\x16S\\x99\\x0e\\xaa\\xeaeN\\x87Ua\\xf3\\x1b\\x1e\\xd5\\xed\\xea\\xab\\xbc^\\xf0\\xcdq\\xa8\\xd8\\xbc\"\\x85\\xc5(\\xf5(\\xdb\\x10\\xa0l{\\\\\\x00hz\\xecz\\x10\\x1en\\x0cD\\xc1\\xdf\\x7fq\\xbf\\xf3\\x03\\xedY\\x97\\xae\\xf9\\xaa\\t\\x19|\\xbbh\\x826c?\\x88\\x93\\xa1 \\x93\\xa4\\xed\\xdblGB\\t\\x04\\x10A\\x82\\x0e\\x84\\x11\\xb8\"\\xbbl\\xac\\x92=e\\x04\\x93\\x03X\\x00\\xc3\\x11\\xa8\\x1b\\xfd$\\xd0lG\\tRng\\xbe\\xbf\\xab\\xca\\xa4\\x8fVc\\x1d\\x0f\\xec\\xae\\x80\\x9e\\xdb\\x0e\\x95\\xa9t \\xc1\\x11\\xa0?B\\x01\\x07\\xecA\\xa9O\\x07\\xe5\\x0b\\xd7n\\x06\\xb9)o\\xf0\\x96_[\\x00HQ\\xe5\\x9d\\xb4\\x03y\\x10F\\xf5lpO\\ns[\\tu\\x15RI_4\\x07u\\r\\xf8W\\xa8\\x1bu\\xf7\\xa0\\xf3\\xe5r\\xb7l\\xb1\\x01Abv\\x00I?A^\\x95O\\x05\\xf0*\\xd9\\x80\\xcd&r\\xb4\\xc4\\xe9\\xb4l4\\xdb\\xdc\\xeb[\\\\\\'#[\\xb2\\xb1j\\xcd\\xa1\\x1d\\x07\\xb9\\x9e\\xa27\\xa0\\xf3&\\x1b\\x80\\xe2\\xae6T\\xc3\\xddc\\xa7\\xe0:\\x03\\xb4\\x98\\x81\\xbdml\\xf2\\x17\\x10o\\xfb\\xb3\\x01\\xdc\\x91\\x1f\\x91\\xafJ/\\x05\\xbb\\xb0P\\x07\\xcc@\\xfbWr\\xf0\\x1b\\x9dYG\\xdc\\xfeP(<\\xe0\\xbe\\x1aq\\x08\\'\\xcbPw\\x030\\xd4u\\xf9\\x1fc\\xefS\\xceG\\xe44\\xc1*_\\xc5\\x8c\\xf8\\x8b\\x99\\xbc\\xb4\\nX[\\xb6\"Z\\x08\\xf8\\x8e\\xd3\\xdaG\\xce\\xde\\xb5\\xc0\\x13\\xf137\\xcb\\xd3\\xf3\\xf7\\xfc\\xebO\\xcc\\x96\\x18\\xe2AW\\n\\xabiT\\x00\\xa0\\x91\\xa9\\'S\\xb0\\x8c\\xba\\x0e\\xd4\\x1a\\xff\\x00\\xd2`\\x80Q\\xd7X\\x04\\x81\\x13\\xf4&\\xa0\\x9e(\\xdbkW\\xd1\\x92b\\xed\\xab\\x96\\x08]\\t*U\\x96\\x0f\\xed\\x15\\xce\\xa3x,csS;\\xe0\\xad\\xcby\\xeeJ\\xe6c\\x04\\x05\\xd4) \\xc8\\xf7\\xe9\\xfd+U\\xe2\\'\\x088\\x9e\\x1fu\\x10K\\xac:i\\xac\\xa9\\x92\\x07\\xb9Y\\x14\\x14\\x0e;\\x14n\\\\,t\\x9f\\x84L\\xe5^\\x8a\\x0f\\xb0\\xacz\\xfa[ooo\\xaf\\xd7z\\xf9@\\xa5)A\\xb8\\xe5\\x1b\\xa11\\xd6\\x19\\x81 >\\xb0b4:\\xcf\\xb6\\xff\\x00J\\xe9\\xe6.\\x16p\\xd8\\x9b\\x96\\x8e\\xc0\\x92\\x87\\xa3!\\xf8H\\x9fj\\xd7)\\x83S\\xbf\\x100\\xfef\\x17\\r\\x89\\xd2A\\xf2_Q2T\\\\Q\\xb9\\x98\\x97\\xef\\xd2\\x82\\x07\\\\\\xd1\\x80\\x89Y\\x83\\']\\xc6\\x9a{u\\xd7\\xde\\xb8W+hX\\x80\\xa0\\x92L\\x005$\\x9d\\x80\\x1dM\\x04\\xc3\\x918Pg\\x17\\\\\\x88 \\xe5M\\xc9\\xc8\\xcb\\xea\\xd4\\xec\\x1b/}H\\xae\\xfe\\'\\xcdX\\x97\\xce0\\xf6\\x8a\\xa8\\x9fVR\\xcc\\xa1d4\\xc8\\xcb\\xd8\\xe91\\xa5`p\\x9e$\\xd8\\x11v\\xcd\\xeb.\\xb7\\x14\\xa8t:hN\\xb9\\x94\\xec\\xc04{\\xca\\x8d#^\\xae\\x0f\\xcd\\xd7-\"\\xa3f*\\xac\\xc5@ \"\\xab\\x12\\xc5\\x15#Ibu\\x9e\\xa3M\"\\x82\\xca\\xf0\\xc3\\x9c\\x89ei\\xd6Uo\\xae\\xc0\\x86&\\x1c\\x0f\\xb9\\x1f\")X\\xdc\\x9f\\x8e\\xb1\\x8b\\xbdm,!\\xcdr\\xe2\\x9b\\xa0)\\x80H\\x19\\xb34A0 \\x91\\xf3\\xf7\\xa5\\x05\\xfbJR\\x81JR\\x81JR\\x82\\x9a\\xf1\\xb3\\xc3\\x7f5[\\x1f\\x83O\\xd6\\x018\\x8bj?\\xb4Q\\xff\\x00\\x15G\\xed\\x8e\\xa3\\xa8\\xd7q\\xads\\xe1\\x9f\\x08[\\xce\\xcd\\x97;\\x86UE\\xe9&L\\xc7\\xd0o\\xb4Mz\\xae\\xa08\\x1eO\\\\\\x0f\\x17\\xfd&\\xc2\\x81\\x87\\xc4\\xc8u\\xe9b\\xfeV\\x86Q\\xfb/\\xa8\\xf6&6\"\\x03\\x7f\\xcb\\x1c\\xb4\\x98e\\x0c\\xc05\\xd25n\\x89?\\x85}\\xbd\\xfa\\xfeU\\xbf\\xa5(\\x14\\xa5(\\x14\\xa5(\\x15\\x11\\xe6\\xa6+\\x88\\x04\\xb0DkB\\t\\xdc\\xb2\\xb3N\\xfa\\r\\x19{\\xcf\\xd2\\xa5\\xd5\\xa7\\xe6[\\x00\\xdb\\xf3O\\xfc9\\'\\xf8LL}\\x85\\x05}\\x8a\\xc5\\xb38P\\xd9\\x81\\x1e\\x96#\\'\\xa9\\x94\\x8d\\xe3mk{`z\\x17@=#N\\x83M\\xbeU\\xa3\\xe38\\xe9\\x01M\\xb2\\xa4\\x10A$H\\xd8\\xfc#\\xa5m8f#5\\x95f\\xd3\\xa4\\xf7\\x83\\x1fy\\xa0\\xa1|@\\xe0g\\t\\x8e\\xb8\\xb0r97-\\x9e\\x85X\\xc9\\x03\\xe4d}\\xaa5W\\xdf=p\\xbbx\\xa46\\xae\\x03\\x98\\x10m\\xbc\\x89BGi\\xd5zA\\x1d\\xf5\\xda\\xa9\\x1e-\\xc2\\xeea\\xee\\x9bwV\\x08&\\x08\\xd5X~\\xd2\\xb6\\xc4PaR\\x94\\xa0\\xe4\\x88I\\x00\\x02I0\\x00\\xd4\\x92v\\x00U\\xb7\\xcc\\xfc7\\xca\\xe5\\xd4\\xb6~%6\\x99\\xa4\\x93\\xea\\xd2r\\x96\\xe9\\xaci\\xa7A\\xda\\xa3>\\x1fr\\xeb3\\x8cU\\xd5\\x8bi\\x19\\'\\xf1\\x13\\xf8\\xa3x\\x03n\\xfd6\\xab\\xaf\\x96ly\\xb8\\x8by\\x80*\\x03\\x180\\xc3\\xd3\\x11\\x12I\\x99\\xeb\\xd4\\xa9=\\xa8(N\\\\\\xe4\\x0e!\\x8de\\xf2p\\xce\\xa8\\xd1\\xfa\\xcb\\x80\\xdb\\xb6\\x01\\xfcY\\x98z\\x87\\xf0\\xc9\\xf6\\xab\\xe3\\xc3\\xdf\\n0\\xfc<\\xad\\xfb\\xa7\\xf4\\x8cH\\xd9\\x88\\x84\\xb6\\x7fq{\\xfe\\xf1\\xd7\\xb4U\\x89J\\n\\xeb\\xc4O\\n,\\xf1+\\xc3\\x11n\\xef\\xe8\\xd7\\xa0\\x0b\\x8d\\x93:\\xdd\\x00@%ea\\x80\\x81\\x9av\\x11\\x15\\x17\\xb3\\xfe\\xcf\\xaa\\x07\\xaf\\x1eI\\xe9\\x16\\x00\\x1fPn\\x19\\xab\\xb6\\x94\\x11\\x8eN\\xe4\\xbb8\\x05\\xf4\\xb1\\xba\\xf1\\x19\\xd9U@\\x1dr\\xa2\\x00\\xab=\\xf5>\\xf5\\xf6\\xa4\\xd4\\xa0R\\x94\\xa0R\\x94\\xa0R\\x94\\xa0W\\x0b\\xd6\\x83)\\x07\\xff\\x00\\xc25\\x07\\xe6\\x0c\\x1f\\xa5s\\xa5\\x07\\x0b,J\\x89\\x89\\xeb\\x1bOZ\\xe7]1\\x0f\\xec\\xdb\\xff\\x00\\x10\\x88\\xfb\\x89\\xfb\\n\\xee\\xa0R\\x94\\xa0R\\x94\\xa0W\\x1b\\xb6\\xc3)V\\x12\\x08 \\x8e\\xe0\\xe8k\\x95(+\\xfe#\\x80\\xb5\\x86b.\\xfa\\xbb3\\xfa\\x99\\x87H\\xfbEG/c\\xbdg\\xca,\\xa8L\\xc6\\x9a\\x1d&\\x07M\\xaa\\xce\\xe6N\\x14\\xb8\\x8b\\x05H\\xf5/\\xa9H\\xdc\\x11\\xb8\\x1f1U\\x9f\\x13\\xb5e\\x01T\\x0cn\\x03\\xac\\xf4\\xd3P&\\x07\\xd6(1\\xef^\\xcc\\xe4\\xb0\\xd2u\\x1d@\\xec:\\xf5\\xdb\\xda\\xb1q\\xfc:\\xd5\\xeby/ p`\\xf6+\\xd6A\\x00\\x1f}:\\x11\\\\\\xf0\\x8c\\x1dCA\\x1am\\xbb\\x03\\x07\\xd3\\xa1\"dA\\x83\\xd2\\xb2l8 \\xce\\x92zm\\xd7C\\xaf\\xc3\\xb0\\xd7\\xa1;\\xf4\\x08f/\\xc3\\xcb3)u\\xd0m\\x94\\xe5b\\x0fn\\x91\\xb6\\xe7\\xbf\\xd2\\xb3x_$\\xe1\\xad6r\\x1a\\xf1\\x03\\\\\\xfa\\xa8c\\x02@Q\\x07R7\\x9f\\xf32[\\xd7\\x06\\x80\\x8d\\x0f]\\xccK\\x02zI=\\xbd\\x87Y\\xaf\\x96\\x1at\\x9c\\xb1\\xae\\x9bL\\xa8\\xfeZ\\xf4\\xd7\\xb5\\x07<\\xd2\\x04(\\x10W\\xd2$\\x00\\x04\\xfa}\\xf6\\x02On\\xba\\xd4\\x9b\\x90\\xa0\\xe2\\x18\\x81\\xa8@I\\x07|\\xd9\\x84\\x91\\x1e\\xc3\\xf9t\\xa8\\xa5\\xc3\\xa0\\x8d\\x0ct\\xd8\\xeau\\x1f\\xd3\\xbc\\xd4\\xd3\\xc3k\\x7f\\xda\\xb4\\xc9\\xd0m\\x1e\\x93\\xb7\\xfe\\x9f\\xe7A7\\xa5)@\\xa5)@\\xa5)@\\xa5)@\\xa5)@\\xa5)@\\xa5)A\\xc2\\xed\\xbc\\xc0\\x83#\\xdcn\\x0fB)f\\xe4\\x8e\\xc4hGb+\\x9du]$\\x10\\x7f\\x0e\\xc4v\\xfd\\xef\\xeb\\xff\\x00\\xd5\\x07m)J\\x05)J\\x05|\\xcd\\xacu\\xff\\x00_\\xeb\\xeb_.8\\x02I\\x03\\xdc\\xedZ\\x8cO\\x17\\x00\\x91\\x04\\xe5:\\xc3D\\xc6X#\\xbf\\xaaA\\x1d\\x81\\xd0\\xc8\\xa0\\xcf|Q\\x07\\xd4\\xb9\\x10Nfb\\x07\\xca\"\\x7f8\\xa8\\x0f9`\\xad\\xf9\\xfej\\x15\\x0bqsH#+\\x18\\xf8\\x84w?Y\\xd7\\xbdH1\\xdcC\\xcc^\\xb2\\x0e\\x87\\xe1\\xd3\\xf8A:\\xfb\\xc8\\xdfj\\xd0q\\xfbMr\\xd13\\xaa\\x90\\xda\\xc9\\xd0hv\\xd7c\\xd6\\x82#\\xc3\\xef\\xdb\\xce\\xf6\\xd0\\x81\\x94\\x06h\\x10\\xa3>h;A\\x92\\x18\\x98\\xf7\\xac\\xebJ\\xb1\\'\\xf7\\xb2\\xeb\\xa1#.\\xfaLu\\x83\\xf9u\\xc2\\xc1a\\x87\\x9e\\xce\\xc6C\\x04\\x11\\x1a\\xc2g1\\xbe\\xa4\\x96=\\xbaV_\\x10\\xc4\\xe7l\\xda\\xfc\\x80f;\\x0f\\xa9=4\\xedA\\xd4\\xcf06\\x00\\x7fRL\\xf7\\xf6\\xd3a\\\\\\x94\\x10\\t\\x06\"5\\x9e\\xbb\\xfb\\x1f\\xca\\xb1^\\xe9\\xfc\"\\x06S3\\xf1\\xab\\t\\x04dY\\x9d\\x87^\\xbd\\xc6\\xbc\\xed\\\\\\x91#\\xbb\\x0f\\xb1*\\x7f\\x95\\x07)\\xeaj\\xcf\\xe4;\\x19p`\\xc1\\x19\\x99\\x8e\\xbd\\xa6;{Uej\\xd9f\\n\\xa2Y\\x88\\x00w$\\xc0\\xab\\x9b\\x87aE\\xab6\\xed\\r\\x91\\x15g\\xbc\\x00\\'\\xe6w\\xa0\\xc9\\xa5)@\\xa5)@\\xa5)@\\xa5)@\\xa5)@\\xa5)@\\xa5)@\\xa1\\x14\\xa5\\x06\\x1b^\\xf2\\x8c9\\xf4\\x1f\\x85\\xbfgoA\\x8f\\xac\\x1f\\xa6\\xfb\\xf2<B\\xdeP\\xd9\\xb4 \\x91\\xa1\\x06\\x01\\x82`\\xff\\x00\\xad+\"\\xe2\\x06\\x04\\x11 \\xee*1\\xc4\\xf8k[2$\\xa7C\\xb9\\x1f?\\xebA\\xb7~3llg\\xef\\xa6\\x9dA\\x13\\xf6\\x06\\xb1\\xff\\x00\\xfe\\xd8\\xfc\\x08w\\xd6H\\x1b\\xccF\\xbaz\\xa2OI5\\xa1\\xa5\\x06\\xe3\\x15\\xc6s+.PD\\x1ddN\\xa4\\xc1\\xcaF\\xb0 \\xcfsZ\\x97#\\xa0\\x8f\\xf3\\xf7\\xfa\\xef\\xfef\\xbe\\x13_(\\x15\\xa7\\xe6\\xbb\\xf9p\\xc6\\x08RX\\x00H$\\x03\\xa9\\x1e\\x90Am\\xa2\\x01\\xd6kqQ~k\\tx\\xf9L\\x03\\xa8\\x1e\\xa0v\\xcd\\xbf\\xdci\\xafJ\\x08\\xaf\\x08\\xe2\\x17\\xaffq\\xe5\\x94\\xcd\\x95\\x08\\xd00\\xf5+\\xc9$\\xce\\xf2#\\xf6~\\xfb\\x81\\x0b*\\xb1\\xbc\\x18 \\x89:\\x9e\\xfa\\xeb?Z\\xe9\\xc0\\xe0\\x92\\xd5\\xb0\\x8a\\xa1Th\\xab\\xea\\xf8u\"su\\xd7\\xf3\\xfa\\x0f\\xb7\\xed\\xe6\\'0\\x04\\x11\\xf6 \\xf5?P{\\xe9A\\xd3l\\x05r@\\x00\\x9d4]\\xc4\\x92\\x01\\xda \\xbf\\xbe\\xe7mMe\\xd9C\\x97X\\x9e\\xb1\\xf9\\x98\\xed]6lf(\\x02lC\\r\\x009\\x8e`D\\x02=Q\\xed\\x1f:\\xd8`0\\xafv\\xe2\\xda\\xb7\\xab9\\x03\\xdbO\\xc4G`5\\xa0\\x92r\\x07\\x0c\\xf3/\\x1b\\xe4zm\\xe8\\xbe\\xf7\\x08\\x8f\\xc8k\\xfd\\xe1V%bp\\xae\\x1e\\x96--\\xa4\\xd9F\\xfdX\\x9d\\xc9\\xf7&\\xb2\\xe8\\x14\\xa5(\\x14\\xa5(\\x14\\xa5(\\x14\\xa5(\\x14\\xa5(\\x14\\xa5(\\x14\\xa5(\\x14\\xa5(\\x15\\xf0\\x8a\\xfbJ\\rN3\\x81\\xabko\\xd0{~\\x13\\xf4\\xe9\\xf4\\xfbV\\x9b\\x11\\x80\\xb8\\x9f\\x12\\xe9\\xdcj?-\\xbe\\xb1R\\xfaPA\\xe9[\\x1ez\\xba-a\\xb3\\xa2\\x80\\xedqT4\\t\\x03r}\\xf4\\x1f\\x9d@\\xef\\xf1k\\xac#6Q\\xfb\\xba~{\\xd0e\\xf3\\x1f\\x1f\\xc8\\x86\\xde\\x18\\x87\\xbe\\xc0\\x84\\x88*\\x86>6=\\x87\\xf9\\x8a\\x8f`p\\xe5\\x17\\xd6\\xedq\\x8e\\xac\\xc4\\xee\\xde\\xc3\\xa2\\xf6\\x1fy:\\xd7u\\xabj\\xa0*\\x80\\xaa6\\x00@\\x1f +\\x95\\x07N\\'\\xe10\\xc4D\\xc9\\x88;\\xce\\x93\\xa0\\x81\\xa4\\xed\\xd7\\xda\\xba\\xed[\\n\\xc1\\xa5\\xc2\\x95\\xd4\\x18\\x00DA\"$\\x18\\x11\\xf4\\xd7\\xa5wa\\xc3\\x1b`\\xfd\\xce\\xbd\\xcf\\xedk\\xb0#\\xe9X\\x18\\xee5\\x86\\xb2O\\x9buE\\xc4 \\x15S&gQ\\x95d\\x91\\xa6\\xb3A\\xb5S\\x00\\xf7\\x1d{\\xef\\xfdw\\x15br\\'\\x04\\xf2\\xad\\xf9\\xf7\\x07\\xae\\xe0\\xf4\\xfe\\xed\\xb3\\x07\\xeew\\xfbT?\\x900\\x96\\xf1\\xb7s\\xa1\\xcff\\xdc3\\x1da\\x8c\\x9c\\xa9\\xea\\x02v3\\x1d\\x04u\\xabl\\n\\x05)J\\x05)J\\x05)J\\x05)J\\x05)J\\x05)J\\x05)J\\x05)J\\x05)J\\x05)J\\x05)J\\x08O\\x8ax\\x80\\x96,\\x960\\xbel\\x13\\xd0\\x12\\xa4\\x02{\\t\\xfeu\\x01\\xbfyQK;\\x05Q\\xb9b\\x00\\x1fSV?\\x8aX\\x07\\xbd\\xc3.\\xad\\xb5F`$\\x87\\x12\\n\\xfe(\\x12=]F\\xa3P+\\xcb|U\\x98\\xaa\\xc9\\xbaT3\\x8ba\\xc9 \\'\\xa7c\\x10L\\xe8c\\xb5\\x05\\x81\\x8f\\xe7\\x1c-\\xb9\\x867[\\xb2\\r?\\xc4t\\xad\\x1f\\x10\\xf1\\x05\\xcc\\x8b6\\x82\\r \\xb1\\x93\\xd3\\\\\\xa2\\x07N\\xb3P\\x9aPf\\xe3\\xb8\\xb5\\xfb\\xdf\\xda\\xddw\\x1d\\x89\\xf4\\xff\\x00\\x84iX\\x88\\xa4\\x90\\x00\\x92L\\x007$\\xf4\\xae5\"\\xe4\\x8e\\x13\\xfaN*\\xdd\\x82\\xac\\x05\\xe7\\t\\x9c\\x12!?\\x18\\xec~%\\xf9Pz?\\xc2\\x9e\\\\\\x18>\\x1dnG\\xeb.\\xaa\\xbb\\x9c\\xb9L\\x11*\\xa7\\xe4\\t\\xfb\\xd4\\xca\\xbe\"\\x80\\x00\\x02\\x00\\x10\\x00\\xe8\\x07J\\xfb@\\xa5)@\\xa5)@\\xa5)@\\xa5)@\\xa5)@\\xa5)@\\xa5)@\\xa5)@\\xa5)@\\xa5)@\\xa5)A\\xc2\\xf5\\xb0\\xcaT\\xecA\\x07\\xe4t\\xaa\\'\\xc4\\x1f\\n\\x15n\\x1b\\x96.\\xad\\xb0\\xe4\\x90\\x1czK\\x16bT2\\xed\\xa1\\x98 \\xed\\xa1\\x80b\\xf7w\\x00\\x12L\\x00$\\x93\\xb0\\x03sP\\xbe+\\xc7m\\xe2P\\xa9\\xb6\\xfeT\\x8d\\x87\\xac\\x12H\\r\\x07\\xdaLn=\\x8e\\xc1\\xe7\\xbcG cP\\xc6[m\\xa4\\xe9u\\x00?\\xe2#\\xb5c\\xff\\x00\\xd0\\xaco\\xfc\\xa1\\xbc\\x7fkk\\xff\\x00\\x9d\\\\x\\xde\\x1a@\\xcfk\\xf5\\x96\\xc8\\x99P\\xd3:\\xe8P\\x8c\\xc1\\xb7\\xd3^\\xd5\\x8ff\\xf2\\r\\x0f\\x98\\x08\\xf8\\xb2\\xb0\\x1dH:e\\x9d\\xc1\\xdf\\xb5\\x05m\\x83\\xf0\\xcf\\x1a\\xfa\\xb1\\xb3mu\\x92\\xd7T\\xc6\\x93>\\x89\\x11Vw\\x84\\xfc\\x97c\\r\\x8b\\xce\\x1cb.\\xaa\\xb7\\xaf)U\\xb6\\x0e\\x9e\\x91\\xaef3\\x13\\xd0f\\xae\\x9b\\xf7\\xad\\x9db\\xe3v\\x97\\x07N\\xdf\\x0c\\xd5\\x97\\xca<\\x1f\\xf4{\\'0\\x87\\xb8s0\\xea\\xa3\\xf0\\xa4\\xc9\\x98\\x1f\\x994\\x1b\\xdaR\\x94\\nR\\x94\\nR\\x94\\nR\\x94\\nR\\x94\\nR\\x94\\nR\\x94\\nR\\x94\\nR\\x94\\nR\\x94\\nR\\x94\\nR\\x94\\x11\\x7f\\x10\\xf8\\xa2\\xda\\xc2dc\\x06\\xf3d\\x13\\xb4|M\\'m\\x84GY\\xaa\\xc9\\xb8\\xa0Y\\x17n\\xa2\\xb6l\\xda\\xb8\\x1dL\\x1fQ\\xde\"j\\xcf\\xf1\\x13\\xfe\\xa1s\\xeb\\xfc\\x9a\\xaa\\xbeQ\\xff\\x00\\xb4/\\x7f\\x19\\xff\\x00\\xd9\\xb3A\\xd9\\x87\\xe6\\x9bvnB\\xb3\\\\\\x98%-#\\\\\\x95&3\\x0c\\xa0\\x81\\xd7\\xaf\\xf9V\\xe1q\\x17q\\x1a\\xd9\\xc0c\\x18\\x91\\xf15\\x94D-\\xbe\\xbe{\\xaeQ\\xa6\\xe3\\xdbz\\xb2\\xf8/\\xc2?\\x84V\\xce\\x82\\xb6\\xe0\\\\\\xb7\\x8d8\\xab7_\\x0ff\\xc5\\xa4l\\xd7\\x05\\xc7\\x0fq\\x88\\x1aeKa\\x91H:\\xfc{\\x80zU\\x93JP)JP)JP)JP)JP)JP\\x7f\\xff\\xd9'\n"
     ]
    }
   ],
   "source": [
    "f = open(\"indeximage.bmp\", \"r+b\")     #bmp(bitmap image read and write in binarymode)\n",
    "                                       #we can do jpg images also read and write in binary mode\n",
    "\n",
    "print(f.read())\n",
    "f.close()"
   ]
  },
  {
   "cell_type": "code",
   "execution_count": 41,
   "metadata": {},
   "outputs": [
    {
     "ename": "TypeError",
     "evalue": "'list' object is not callable",
     "output_type": "error",
     "traceback": [
      "\u001b[0;31m---------------------------------------------------------------------------\u001b[0m",
      "\u001b[0;31mTypeError\u001b[0m                                 Traceback (most recent call last)",
      "\u001b[0;32m<ipython-input-41-6262603f6abc>\u001b[0m in \u001b[0;36m<module>\u001b[0;34m\u001b[0m\n\u001b[1;32m      1\u001b[0m \u001b[0;32mimport\u001b[0m \u001b[0msys\u001b[0m\u001b[0;34m\u001b[0m\u001b[0;34m\u001b[0m\u001b[0m\n\u001b[1;32m      2\u001b[0m \u001b[0;34m\u001b[0m\u001b[0m\n\u001b[0;32m----> 3\u001b[0;31m \u001b[0mf\u001b[0m \u001b[0;34m=\u001b[0m \u001b[0mopen\u001b[0m\u001b[0;34m(\u001b[0m\u001b[0msys\u001b[0m\u001b[0;34m.\u001b[0m\u001b[0mpath\u001b[0m\u001b[0;34m(\u001b[0m\u001b[0;34m\"kcr.jpeg\"\u001b[0m\u001b[0;34m,\u001b[0m\u001b[0;34m\"r+b\"\u001b[0m\u001b[0;34m)\u001b[0m\u001b[0;34m)\u001b[0m\u001b[0;34m\u001b[0m\u001b[0;34m\u001b[0m\u001b[0m\n\u001b[0m",
      "\u001b[0;31mTypeError\u001b[0m: 'list' object is not callable"
     ]
    }
   ],
   "source": [
    "import sys\n",
    "\n",
    "f"
   ]
  },
  {
   "cell_type": "markdown",
   "metadata": {},
   "source": [
    "The default encoding is platform dependent. In windows, it is 'cp1252' but 'utf-8' in Linux.\n",
    "\n",
    "So, we must not also rely on the default encoding or else our code will behave differently in different platforms.\n",
    "\n",
    "Hence, when working with files in text mode, it is highly recommended to specify the encoding type"
   ]
  },
  {
   "cell_type": "markdown",
   "metadata": {},
   "source": [
    "# Closing a File"
   ]
  },
  {
   "cell_type": "markdown",
   "metadata": {},
   "source": [
    "Closing a file will free up the resources that were tied with the file and is done using the close() method.\n",
    "\n",
    "Python has a garbage collector to clean up unreferenced objects but, we must not rely on it to close the file"
   ]
  },
  {
   "cell_type": "code",
   "execution_count": 7,
   "metadata": {},
   "outputs": [
    {
     "name": "stdout",
     "output_type": "stream",
     "text": [
      "<_io.TextIOWrapper name='example.txt' mode='r' encoding='UTF-8'>\n"
     ]
    }
   ],
   "source": [
    "f = open('example.txt')  #equivalent to 'r' \n",
    "\n",
    "print(f)"
   ]
  },
  {
   "cell_type": "code",
   "execution_count": 46,
   "metadata": {},
   "outputs": [],
   "source": [
    "f = open('example1.txt')  #equivalent to 'r' \n",
    "\n",
    "f.close()\n"
   ]
  },
  {
   "cell_type": "code",
   "execution_count": 47,
   "metadata": {},
   "outputs": [],
   "source": [
    "f = open('example1.txt', \"w\")  #equivalent to 'r' \n",
    "\n",
    "f.write(\"hello\\nHyderabad\\ngoodmorning\")\n",
    "\n",
    "f.close()\n"
   ]
  },
  {
   "cell_type": "code",
   "execution_count": 48,
   "metadata": {},
   "outputs": [
    {
     "name": "stdout",
     "output_type": "stream",
     "text": [
      "hello\n",
      "Hyderabad\n",
      "goodmorning\n",
      "[]\n"
     ]
    }
   ],
   "source": [
    "f = open('example1.txt', \"r\")  \n",
    "\n",
    "print(f.read())\n",
    "\n",
    "print(f.readlines())\n",
    "\n",
    "f.close()\n"
   ]
  },
  {
   "cell_type": "code",
   "execution_count": 50,
   "metadata": {},
   "outputs": [
    {
     "name": "stdout",
     "output_type": "stream",
     "text": [
      "hello\n",
      "Hyderabad\n",
      "goodmorning\n",
      "[]\n",
      "example1.txt\n"
     ]
    }
   ],
   "source": [
    "f = open('example1.txt', \"r\")  \n",
    "\n",
    "print(f.read())\n",
    "\n",
    "print(f.readlines())\n",
    "\n",
    "print(f.name)\n",
    "\n",
    "f.close()\n"
   ]
  },
  {
   "cell_type": "code",
   "execution_count": 54,
   "metadata": {},
   "outputs": [
    {
     "name": "stdout",
     "output_type": "stream",
     "text": [
      "hello\n",
      "Hyderabad\n",
      "goodmorning\n",
      "example1.txt\n"
     ]
    }
   ],
   "source": [
    "f = open('example1.txt', \"r\")  \n",
    "\n",
    "print(f.read())\n",
    "\n",
    "\n",
    "print(f.name)\n",
    "\n",
    "\n"
   ]
  },
  {
   "cell_type": "code",
   "execution_count": 57,
   "metadata": {},
   "outputs": [
    {
     "data": {
      "text/plain": [
       "'hello\\n'"
      ]
     },
     "execution_count": 57,
     "metadata": {},
     "output_type": "execute_result"
    }
   ],
   "source": [
    "f.seek(0)\n",
    "\n",
    "f.readline()\n"
   ]
  },
  {
   "cell_type": "markdown",
   "metadata": {},
   "source": [
    "This method is not entirely safe. If an exception occurs when we are performing some operation with the file, the code exits without closing the file.\n",
    "\n",
    "A safer way is to use a try...finally block"
   ]
  },
  {
   "cell_type": "code",
   "execution_count": 58,
   "metadata": {},
   "outputs": [
    {
     "data": {
      "text/plain": [
       "['hello\\n', 'Hyderabad\\n', 'goodmorning']"
      ]
     },
     "execution_count": 58,
     "metadata": {},
     "output_type": "execute_result"
    }
   ],
   "source": [
    "f.seek(0)\n",
    "f.readlines()"
   ]
  },
  {
   "cell_type": "code",
   "execution_count": 59,
   "metadata": {},
   "outputs": [
    {
     "name": "stdout",
     "output_type": "stream",
     "text": [
      "Name of the file:  example1.txt\n",
      "read line: hello\n",
      "\n"
     ]
    },
    {
     "ename": "UnsupportedOperation",
     "evalue": "File not open for writing",
     "output_type": "error",
     "traceback": [
      "\u001b[0;31m---------------------------------------------------------------------------\u001b[0m",
      "\u001b[0;31mUnsupportedOperation\u001b[0m                      Traceback (most recent call last)",
      "\u001b[0;32m<ipython-input-59-e7ba1cd2d143>\u001b[0m in \u001b[0;36m<module>\u001b[0;34m\u001b[0m\n\u001b[1;32m     16\u001b[0m \u001b[0;34m\u001b[0m\u001b[0m\n\u001b[1;32m     17\u001b[0m \u001b[0;31m#now truncating remaining file\u001b[0m\u001b[0;34m\u001b[0m\u001b[0;34m\u001b[0m\u001b[0;34m\u001b[0m\u001b[0m\n\u001b[0;32m---> 18\u001b[0;31m \u001b[0mf\u001b[0m\u001b[0;34m.\u001b[0m\u001b[0mtruncate\u001b[0m\u001b[0;34m(\u001b[0m\u001b[0;34m)\u001b[0m\u001b[0;34m\u001b[0m\u001b[0;34m\u001b[0m\u001b[0m\n\u001b[0m\u001b[1;32m     19\u001b[0m \u001b[0;34m\u001b[0m\u001b[0m\n\u001b[1;32m     20\u001b[0m \u001b[0;31m#secound line\u001b[0m\u001b[0;34m\u001b[0m\u001b[0;34m\u001b[0m\u001b[0;34m\u001b[0m\u001b[0m\n",
      "\u001b[0;31mUnsupportedOperation\u001b[0m: File not open for writing"
     ]
    }
   ],
   "source": [
    "#truncating\n",
    "\n",
    "f = open('example1.txt', \"r\")  \n",
    "\n",
    "print(\"Name of the file: \", f.name)\n",
    "\n",
    "#file has following lines\n",
    "#hello\n",
    "#Hyderabad\n",
    "#goodmorning\n",
    "\n",
    "#first line\n",
    "line = f.readline()\n",
    "\n",
    "print(\"read line: %s\"%(line))\n",
    "\n",
    "#now truncating remaining file\n",
    "f.truncate()            \n",
    "\n",
    "#secound line\n",
    "line = f.readline()\n",
    "\n",
    "f.close()\n",
    "\n",
    "\n",
    "\n"
   ]
  },
  {
   "cell_type": "markdown",
   "metadata": {},
   "source": [
    "# clean way to close files"
   ]
  },
  {
   "cell_type": "code",
   "execution_count": 10,
   "metadata": {},
   "outputs": [],
   "source": [
    "try:\n",
    "    f = open(\"example.txt\")\n",
    "    \n",
    "finally:\n",
    "    f.close"
   ]
  },
  {
   "cell_type": "markdown",
   "metadata": {},
   "source": [
    "This way, we are guaranteed that the file is properly closed even if an exception is raised, causing program flow to stop.\n",
    "\n",
    "The best way to do this is using the with statement. This ensures that the file is closed when the block inside with is exited.\n",
    "\n",
    "We don't need to explicitly call the close() method. It is done internally.\n",
    "\n",
    "with open(\"example.txt\",encoding = 'utf-8') as f:\n",
    "\n",
    "#perform file operations"
   ]
  },
  {
   "cell_type": "code",
   "execution_count": 43,
   "metadata": {},
   "outputs": [
    {
     "data": {
      "text/plain": [
       "<_io.TextIOWrapper name='example1.txt' mode='r' encoding='utf-8'>"
      ]
     },
     "execution_count": 43,
     "metadata": {},
     "output_type": "execute_result"
    }
   ],
   "source": [
    "open(\"example1.txt\", encoding=\"utf-8\" ) "
   ]
  },
  {
   "cell_type": "markdown",
   "metadata": {},
   "source": [
    "# Writing to a File"
   ]
  },
  {
   "cell_type": "markdown",
   "metadata": {},
   "source": [
    "In order to write into a file we need to open it in write 'w', append 'a' or exclusive creation 'x' mode.\n",
    "\n",
    "We need to be careful with the 'w' mode as it will overwrite into the file if it already exists. All previous data are erased.\n",
    "\n",
    "Writing a string or sequence of bytes (for binary files) is done using write() method. This method returns the number of characters written to the file.\n"
   ]
  },
  {
   "cell_type": "code",
   "execution_count": 17,
   "metadata": {},
   "outputs": [],
   "source": [
    "f = open(\"example.txt\", \"w\")\n",
    "\n",
    "f.write(\"This is first line\\n\")\n",
    "f.write(\"hello world\\n\")\n",
    "\n",
    "f.close()"
   ]
  },
  {
   "cell_type": "markdown",
   "metadata": {},
   "source": [
    "This program will create a new file named 'test.txt' if it does not exist. If it does exist, it is overwritten."
   ]
  },
  {
   "cell_type": "markdown",
   "metadata": {},
   "source": [
    "# Reading From a File"
   ]
  },
  {
   "cell_type": "markdown",
   "metadata": {},
   "source": [
    "There are various methods available for this purpose. We can use the read(size) method to read in size number of data. If size parameter is not specified, it reads and returns up to the end of the file"
   ]
  },
  {
   "cell_type": "code",
   "execution_count": 18,
   "metadata": {},
   "outputs": [
    {
     "data": {
      "text/plain": [
       "'This is first line\\nhello world\\n'"
      ]
     },
     "execution_count": 18,
     "metadata": {},
     "output_type": "execute_result"
    }
   ],
   "source": [
    "f = open(\"example.txt\", \"r\")\n",
    "\n",
    "f.read()\n"
   ]
  },
  {
   "cell_type": "code",
   "execution_count": 29,
   "metadata": {},
   "outputs": [
    {
     "data": {
      "text/plain": [
       "'This'"
      ]
     },
     "execution_count": 29,
     "metadata": {},
     "output_type": "execute_result"
    }
   ],
   "source": [
    "# this reads 4 charecteristics in text\n",
    "f = open(\"example.txt\", \"r\")\n",
    "\n",
    "f.read(4)\n"
   ]
  },
  {
   "cell_type": "code",
   "execution_count": 30,
   "metadata": {},
   "outputs": [
    {
     "data": {
      "text/plain": [
       "' is first '"
      ]
     },
     "execution_count": 30,
     "metadata": {},
     "output_type": "execute_result"
    }
   ],
   "source": [
    "#f = open(\"test.txt\",\"r\")\n",
    "#it does not prints first charecter it prints from current cursor charecters\n",
    "f.read(10)\n"
   ]
  },
  {
   "cell_type": "code",
   "execution_count": 31,
   "metadata": {},
   "outputs": [
    {
     "data": {
      "text/plain": [
       "'line\\nhello'"
      ]
     },
     "execution_count": 31,
     "metadata": {},
     "output_type": "execute_result"
    }
   ],
   "source": [
    "f.read(10)"
   ]
  },
  {
   "cell_type": "code",
   "execution_count": 32,
   "metadata": {},
   "outputs": [
    {
     "data": {
      "text/plain": [
       "' world\\n'"
      ]
     },
     "execution_count": 32,
     "metadata": {},
     "output_type": "execute_result"
    }
   ],
   "source": [
    "f.read(10)"
   ]
  },
  {
   "cell_type": "markdown",
   "metadata": {},
   "source": [
    "we can change our current file cursor (position) using the seek() method.\n",
    "\n",
    "Similarly, the tell() method returns our current position (in number of bytes)"
   ]
  },
  {
   "cell_type": "code",
   "execution_count": 33,
   "metadata": {},
   "outputs": [
    {
     "data": {
      "text/plain": [
       "31"
      ]
     },
     "execution_count": 33,
     "metadata": {},
     "output_type": "execute_result"
    }
   ],
   "source": [
    "#tells cureent cursor location\n",
    "f.tell()"
   ]
  },
  {
   "cell_type": "code",
   "execution_count": 38,
   "metadata": {},
   "outputs": [
    {
     "data": {
      "text/plain": [
       "0"
      ]
     },
     "execution_count": 38,
     "metadata": {},
     "output_type": "execute_result"
    }
   ],
   "source": [
    "#cursor back to intialize zero\n",
    "f.seek(0)"
   ]
  },
  {
   "cell_type": "code",
   "execution_count": 39,
   "metadata": {},
   "outputs": [
    {
     "name": "stdout",
     "output_type": "stream",
     "text": [
      "This is first line\n",
      "hello world\n",
      "\n"
     ]
    }
   ],
   "source": [
    "print(f.read())  #read the entire file"
   ]
  },
  {
   "cell_type": "markdown",
   "metadata": {},
   "source": [
    "We can read a file line-by-line using a for loop. This is both efficient and fast."
   ]
  },
  {
   "cell_type": "code",
   "execution_count": 44,
   "metadata": {},
   "outputs": [
    {
     "name": "stdout",
     "output_type": "stream",
     "text": [
      "This is first line\n",
      "\n",
      "hello world\n",
      "\n"
     ]
    }
   ],
   "source": [
    "f.seek(0)\n",
    "\n",
    "for line in(f):\n",
    "    print(line)\n",
    "    \n",
    "    \n",
    "    "
   ]
  },
  {
   "cell_type": "markdown",
   "metadata": {},
   "source": [
    "Alternately, we can use readline() method to read individual lines of a file. This method reads a file till the newline, including the newline character."
   ]
  },
  {
   "cell_type": "code",
   "execution_count": 41,
   "metadata": {},
   "outputs": [
    {
     "data": {
      "text/plain": [
       "'This is first line\\n'"
      ]
     },
     "execution_count": 41,
     "metadata": {},
     "output_type": "execute_result"
    }
   ],
   "source": [
    "f = open(\"example.txt\",\"r\")\n",
    "\n",
    "f.readline()"
   ]
  },
  {
   "cell_type": "code",
   "execution_count": 42,
   "metadata": {},
   "outputs": [
    {
     "data": {
      "text/plain": [
       "'hello world\\n'"
      ]
     },
     "execution_count": 42,
     "metadata": {},
     "output_type": "execute_result"
    }
   ],
   "source": [
    "f.readline()"
   ]
  },
  {
   "cell_type": "code",
   "execution_count": 43,
   "metadata": {},
   "outputs": [
    {
     "data": {
      "text/plain": [
       "''"
      ]
     },
     "execution_count": 43,
     "metadata": {},
     "output_type": "execute_result"
    }
   ],
   "source": [
    "f.readline()"
   ]
  },
  {
   "cell_type": "markdown",
   "metadata": {},
   "source": [
    "The readlines() method returns a list of remaining lines of the entire file. All these reading method return empty values when end of file (EOF) is reached."
   ]
  },
  {
   "cell_type": "code",
   "execution_count": 45,
   "metadata": {},
   "outputs": [
    {
     "data": {
      "text/plain": [
       "['This is first line\\n', 'hello world\\n']"
      ]
     },
     "execution_count": 45,
     "metadata": {},
     "output_type": "execute_result"
    }
   ],
   "source": [
    "f.seek(0)\n",
    "f.readlines()"
   ]
  },
  {
   "cell_type": "code",
   "execution_count": 2,
   "metadata": {},
   "outputs": [
    {
     "ename": "SyntaxError",
     "evalue": "keyword can't be an expression (<ipython-input-2-9230e9a6f61f>, line 4)",
     "output_type": "error",
     "traceback": [
      "\u001b[0;36m  File \u001b[0;32m\"<ipython-input-2-9230e9a6f61f>\"\u001b[0;36m, line \u001b[0;32m4\u001b[0m\n\u001b[0;31m    rows = csv.read(f. delimator=',')\u001b[0m\n\u001b[0m                   ^\u001b[0m\n\u001b[0;31mSyntaxError\u001b[0m\u001b[0;31m:\u001b[0m keyword can't be an expression\n"
     ]
    }
   ],
   "source": [
    "#if we want to read csv files\n",
    "import csv \n",
    "with open (\"file.csv\", \"r\")as file:\n",
    "    rows = csv.read(f. delimator=',')"
   ]
  },
  {
   "cell_type": "markdown",
   "metadata": {},
   "source": [
    "1. with open(\"filename\",\"r+\") as f:\n",
    "2. data = f.read()\n",
    "3. f.seek()\n",
    "4. f.write(output)\n",
    "5. f.truncate()\n",
    "6.  above code is used for \"r+\" puprose"
   ]
  },
  {
   "cell_type": "markdown",
   "metadata": {},
   "source": [
    "# for splitting lines"
   ]
  },
  {
   "cell_type": "markdown",
   "metadata": {},
   "source": [
    "\n",
    "for each line in f.read().split((\"\\n\")[1:])\n",
    "\n",
    "number1.append(eachline.split(\"\\t\")[0])\n",
    "number2.append(eachline.split(\"\\t\")[0])"
   ]
  },
  {
   "cell_type": "markdown",
   "metadata": {},
   "source": [
    "# Renaming And Deleting Files In Python.\n",
    "\n"
   ]
  },
  {
   "cell_type": "markdown",
   "metadata": {},
   "source": [
    "While you were using the read/write functions, you may also need to rename/delete a file in Python. So, there comes a os module in Python which brings the support of file rename/delete operations.\n",
    "\n",
    "So, to continue, first of all, you should import the os module in your Python script.\n"
   ]
  },
  {
   "cell_type": "code",
   "execution_count": 46,
   "metadata": {},
   "outputs": [],
   "source": [
    "import os\n",
    "\n",
    "#Rename a file from test.txt to sample.txt\n",
    "os.rename(\"example.txt\", \"sample.txt\")"
   ]
  },
  {
   "cell_type": "code",
   "execution_count": 47,
   "metadata": {},
   "outputs": [
    {
     "data": {
      "text/plain": [
       "'This is first line\\n'"
      ]
     },
     "execution_count": 47,
     "metadata": {},
     "output_type": "execute_result"
    }
   ],
   "source": [
    "f = open(\"sample.txt\", \"r\")\n",
    "\n",
    "f.readline()"
   ]
  },
  {
   "cell_type": "code",
   "execution_count": 48,
   "metadata": {},
   "outputs": [],
   "source": [
    "#Delete a file sample.txt\n",
    "\n",
    "os.remove(\"sample.txt\")"
   ]
  },
  {
   "cell_type": "code",
   "execution_count": 49,
   "metadata": {},
   "outputs": [
    {
     "ename": "FileNotFoundError",
     "evalue": "[Errno 2] No such file or directory: 'sample.txt'",
     "output_type": "error",
     "traceback": [
      "\u001b[0;31m---------------------------------------------------------------------------\u001b[0m",
      "\u001b[0;31mFileNotFoundError\u001b[0m                         Traceback (most recent call last)",
      "\u001b[0;32m<ipython-input-49-1e91a964bec6>\u001b[0m in \u001b[0;36m<module>\u001b[0;34m\u001b[0m\n\u001b[0;32m----> 1\u001b[0;31m \u001b[0mf\u001b[0m \u001b[0;34m=\u001b[0m \u001b[0mopen\u001b[0m\u001b[0;34m(\u001b[0m\u001b[0;34m\"sample.txt\"\u001b[0m\u001b[0;34m,\u001b[0m \u001b[0;34m\"r\"\u001b[0m\u001b[0;34m)\u001b[0m\u001b[0;34m\u001b[0m\u001b[0;34m\u001b[0m\u001b[0m\n\u001b[0m\u001b[1;32m      2\u001b[0m \u001b[0;34m\u001b[0m\u001b[0m\n\u001b[1;32m      3\u001b[0m \u001b[0mf\u001b[0m\u001b[0;34m.\u001b[0m\u001b[0mreadline\u001b[0m\u001b[0;34m(\u001b[0m\u001b[0;34m)\u001b[0m\u001b[0;34m\u001b[0m\u001b[0;34m\u001b[0m\u001b[0m\n",
      "\u001b[0;31mFileNotFoundError\u001b[0m: [Errno 2] No such file or directory: 'sample.txt'"
     ]
    }
   ],
   "source": [
    "f = open(\"sample.txt\", \"r\")\n",
    "\n",
    "f.readline()"
   ]
  },
  {
   "cell_type": "markdown",
   "metadata": {},
   "source": [
    "# Python Directory and File Management"
   ]
  },
  {
   "cell_type": "markdown",
   "metadata": {},
   "source": [
    "If there are a large number of files to handle in your Python program, you can arrange your code within different directories to make things more manageable.\n",
    "\n",
    "A directory or folder is a collection of files and sub directories. Python has the os module, which provides us with many useful methods to work with directories (and files as well).\n",
    "\n",
    "Get current Directory\n",
    "\n",
    "We can get the present working directory using the getcwd() method.\n",
    "\n",
    "This method returns the current working directory in the form of a string.\n"
   ]
  },
  {
   "cell_type": "code",
   "execution_count": 51,
   "metadata": {},
   "outputs": [
    {
     "data": {
      "text/plain": [
       "'/home/nagesh/appliedaicourse/4 Python Functions'"
      ]
     },
     "execution_count": 51,
     "metadata": {},
     "output_type": "execute_result"
    }
   ],
   "source": [
    "import os\n",
    "\n",
    "os.getcwd()"
   ]
  },
  {
   "cell_type": "markdown",
   "metadata": {},
   "source": [
    "# Changing Directory"
   ]
  },
  {
   "cell_type": "markdown",
   "metadata": {},
   "source": [
    "We can change the current working directory using the chdir() method.\n",
    "\n",
    "The new path that we want to change to must be supplied as a string to this method. We can use both forward slash (/) or the backward slash () to separate path elements.\n"
   ]
  },
  {
   "cell_type": "code",
   "execution_count": 52,
   "metadata": {},
   "outputs": [],
   "source": [
    "os.chdir(\"/home/nagesh/\")"
   ]
  },
  {
   "cell_type": "code",
   "execution_count": 53,
   "metadata": {},
   "outputs": [
    {
     "data": {
      "text/plain": [
       "'/home/nagesh'"
      ]
     },
     "execution_count": 53,
     "metadata": {},
     "output_type": "execute_result"
    }
   ],
   "source": [
    "os.getcwd()"
   ]
  },
  {
   "cell_type": "markdown",
   "metadata": {},
   "source": [
    "# List Directories and Files"
   ]
  },
  {
   "cell_type": "markdown",
   "metadata": {},
   "source": [
    "All files and sub directories inside a directory can be known using the listdir() method"
   ]
  },
  {
   "cell_type": "code",
   "execution_count": 54,
   "metadata": {},
   "outputs": [
    {
     "data": {
      "text/plain": [
       "['snap',\n",
       " '.pgadmin3',\n",
       " '.face_recognisation.py.swp',\n",
       " '.bashrc',\n",
       " '.git',\n",
       " 'pdf files python',\n",
       " 'Documents',\n",
       " '.bash_logout',\n",
       " '.ipython',\n",
       " '.PlayOnLinux',\n",
       " 'Videos',\n",
       " 'app',\n",
       " '.config',\n",
       " 'examples.desktop',\n",
       " 'remote',\n",
       " '.thunderbird',\n",
       " 'Music',\n",
       " 'Downloads',\n",
       " '.mozilla',\n",
       " '.face_recognition.py.swo',\n",
       " 'appliedaicourse',\n",
       " '.profile',\n",
       " '.face_recognition.py.swp',\n",
       " '.ICEauthority',\n",
       " '.psql_history',\n",
       " '.jupyter',\n",
       " '.sudo_as_admin_successful',\n",
       " '.viminfo',\n",
       " 'Threading-seminar',\n",
       " '.zoom',\n",
       " 'project abstract.odt',\n",
       " '.bash_history',\n",
       " 'sacket_program',\n",
       " 'Templates',\n",
       " 'data.json',\n",
       " '.gphoto',\n",
       " '.pgpass',\n",
       " 'Public',\n",
       " 'get-pip.py',\n",
       " '.python_history',\n",
       " '.xinputrc',\n",
       " '.ssh',\n",
       " '.gitconfig',\n",
       " 'seaborn-data',\n",
       " '.gnupg',\n",
       " '.cache',\n",
       " 'aiclassnotes',\n",
       " 'Desktop',\n",
       " '.face_reconition.py.swp',\n",
       " '.face_recognition.swp',\n",
       " '.pki',\n",
       " 'local',\n",
       " '.dmrc',\n",
       " '.lesshst',\n",
       " '.wget-hsts',\n",
       " '.gconf',\n",
       " 'Untitled.ipynb',\n",
       " '.face_recgnition.swp',\n",
       " '.ipynb_checkpoints',\n",
       " 'batch49',\n",
       " '.local',\n",
       " 'Pictures']"
      ]
     },
     "execution_count": 54,
     "metadata": {},
     "output_type": "execute_result"
    }
   ],
   "source": [
    "os.listdir(os.getcwd())"
   ]
  },
  {
   "cell_type": "markdown",
   "metadata": {},
   "source": [
    "# Making New Directory"
   ]
  },
  {
   "cell_type": "markdown",
   "metadata": {},
   "source": [
    "We can make a new directory using the mkdir() method.\n",
    "\n",
    "This method takes in the path of the new directory. If the full path is not specified, the new directory is created in the current working directory.\n"
   ]
  },
  {
   "cell_type": "code",
   "execution_count": 82,
   "metadata": {},
   "outputs": [],
   "source": [
    "os.chdir(\"/home/nagesh/\")"
   ]
  },
  {
   "cell_type": "code",
   "execution_count": 83,
   "metadata": {},
   "outputs": [],
   "source": [
    "\n",
    "import os\n",
    "os.mkdir('test1')"
   ]
  },
  {
   "cell_type": "markdown",
   "metadata": {},
   "source": [
    "However, note that rmdir() method can only remove empty directories.\n",
    "\n",
    "In order to remove a non-empty directory we can use the rmtree() method inside the shutil module.\n"
   ]
  },
  {
   "cell_type": "code",
   "execution_count": 84,
   "metadata": {},
   "outputs": [],
   "source": [
    "os.rmdir('test1')"
   ]
  },
  {
   "cell_type": "code",
   "execution_count": 85,
   "metadata": {},
   "outputs": [
    {
     "ename": "OSError",
     "evalue": "[Errno 39] Directory not empty: 'test1'",
     "output_type": "error",
     "traceback": [
      "\u001b[0;31m---------------------------------------------------------------------------\u001b[0m",
      "\u001b[0;31mOSError\u001b[0m                                   Traceback (most recent call last)",
      "\u001b[0;32m<ipython-input-85-831f3e40e6a0>\u001b[0m in \u001b[0;36m<module>\u001b[0;34m\u001b[0m\n\u001b[1;32m      6\u001b[0m \u001b[0mf\u001b[0m\u001b[0;34m.\u001b[0m\u001b[0mwrite\u001b[0m\u001b[0;34m(\u001b[0m\u001b[0;34m\"hello world\"\u001b[0m\u001b[0;34m)\u001b[0m\u001b[0;34m\u001b[0m\u001b[0;34m\u001b[0m\u001b[0m\n\u001b[1;32m      7\u001b[0m \u001b[0mos\u001b[0m\u001b[0;34m.\u001b[0m\u001b[0mchdir\u001b[0m\u001b[0;34m(\u001b[0m\u001b[0;34m\"../\"\u001b[0m\u001b[0;34m)\u001b[0m\u001b[0;34m\u001b[0m\u001b[0;34m\u001b[0m\u001b[0m\n\u001b[0;32m----> 8\u001b[0;31m \u001b[0mos\u001b[0m\u001b[0;34m.\u001b[0m\u001b[0mrmdir\u001b[0m\u001b[0;34m(\u001b[0m\u001b[0;34m\"test1\"\u001b[0m\u001b[0;34m)\u001b[0m\u001b[0;34m\u001b[0m\u001b[0;34m\u001b[0m\u001b[0m\n\u001b[0m",
      "\u001b[0;31mOSError\u001b[0m: [Errno 39] Directory not empty: 'test1'"
     ]
    }
   ],
   "source": [
    "import shutil  #shellutil\n",
    "\n",
    "os.mkdir('test1')\n",
    "os.chdir(\"./test1\")\n",
    "f = open(\"testfile1.txt\",\"w\")\n",
    "f.write(\"hello world\")\n",
    "os.chdir(\"../\")\n",
    "os.rmdir(\"test1\")"
   ]
  },
  {
   "cell_type": "code",
   "execution_count": 88,
   "metadata": {},
   "outputs": [
    {
     "data": {
      "text/plain": [
       "'/home'"
      ]
     },
     "execution_count": 88,
     "metadata": {},
     "output_type": "execute_result"
    }
   ],
   "source": [
    "os.getcwd()"
   ]
  },
  {
   "cell_type": "code",
   "execution_count": 92,
   "metadata": {},
   "outputs": [
    {
     "ename": "FileNotFoundError",
     "evalue": "[Errno 2] No such file or directory: 'test1'",
     "output_type": "error",
     "traceback": [
      "\u001b[0;31m---------------------------------------------------------------------------\u001b[0m",
      "\u001b[0;31mFileNotFoundError\u001b[0m                         Traceback (most recent call last)",
      "\u001b[0;32m<ipython-input-92-463dae082d10>\u001b[0m in \u001b[0;36m<module>\u001b[0;34m\u001b[0m\n\u001b[1;32m      2\u001b[0m \u001b[0;34m\u001b[0m\u001b[0m\n\u001b[1;32m      3\u001b[0m \u001b[0mos\u001b[0m\u001b[0;34m.\u001b[0m\u001b[0mchdir\u001b[0m\u001b[0;34m(\u001b[0m\u001b[0;34m\"../\"\u001b[0m\u001b[0;34m)\u001b[0m         \u001b[0;31m#changing back to parent directory\u001b[0m\u001b[0;34m\u001b[0m\u001b[0;34m\u001b[0m\u001b[0m\n\u001b[0;32m----> 4\u001b[0;31m \u001b[0mshutil\u001b[0m\u001b[0;34m.\u001b[0m\u001b[0mrmtree\u001b[0m\u001b[0;34m(\u001b[0m\u001b[0;34m'test1'\u001b[0m\u001b[0;34m)\u001b[0m\u001b[0;34m\u001b[0m\u001b[0;34m\u001b[0m\u001b[0m\n\u001b[0m",
      "\u001b[0;32m/usr/lib/python3.6/shutil.py\u001b[0m in \u001b[0;36mrmtree\u001b[0;34m(path, ignore_errors, onerror)\u001b[0m\n\u001b[1;32m    469\u001b[0m             \u001b[0morig_st\u001b[0m \u001b[0;34m=\u001b[0m \u001b[0mos\u001b[0m\u001b[0;34m.\u001b[0m\u001b[0mlstat\u001b[0m\u001b[0;34m(\u001b[0m\u001b[0mpath\u001b[0m\u001b[0;34m)\u001b[0m\u001b[0;34m\u001b[0m\u001b[0;34m\u001b[0m\u001b[0m\n\u001b[1;32m    470\u001b[0m         \u001b[0;32mexcept\u001b[0m \u001b[0mException\u001b[0m\u001b[0;34m:\u001b[0m\u001b[0;34m\u001b[0m\u001b[0;34m\u001b[0m\u001b[0m\n\u001b[0;32m--> 471\u001b[0;31m             \u001b[0monerror\u001b[0m\u001b[0;34m(\u001b[0m\u001b[0mos\u001b[0m\u001b[0;34m.\u001b[0m\u001b[0mlstat\u001b[0m\u001b[0;34m,\u001b[0m \u001b[0mpath\u001b[0m\u001b[0;34m,\u001b[0m \u001b[0msys\u001b[0m\u001b[0;34m.\u001b[0m\u001b[0mexc_info\u001b[0m\u001b[0;34m(\u001b[0m\u001b[0;34m)\u001b[0m\u001b[0;34m)\u001b[0m\u001b[0;34m\u001b[0m\u001b[0;34m\u001b[0m\u001b[0m\n\u001b[0m\u001b[1;32m    472\u001b[0m             \u001b[0;32mreturn\u001b[0m\u001b[0;34m\u001b[0m\u001b[0;34m\u001b[0m\u001b[0m\n\u001b[1;32m    473\u001b[0m         \u001b[0;32mtry\u001b[0m\u001b[0;34m:\u001b[0m\u001b[0;34m\u001b[0m\u001b[0;34m\u001b[0m\u001b[0m\n",
      "\u001b[0;32m/usr/lib/python3.6/shutil.py\u001b[0m in \u001b[0;36mrmtree\u001b[0;34m(path, ignore_errors, onerror)\u001b[0m\n\u001b[1;32m    467\u001b[0m         \u001b[0;31m# lstat()/open()/fstat() trick.\u001b[0m\u001b[0;34m\u001b[0m\u001b[0;34m\u001b[0m\u001b[0;34m\u001b[0m\u001b[0m\n\u001b[1;32m    468\u001b[0m         \u001b[0;32mtry\u001b[0m\u001b[0;34m:\u001b[0m\u001b[0;34m\u001b[0m\u001b[0;34m\u001b[0m\u001b[0m\n\u001b[0;32m--> 469\u001b[0;31m             \u001b[0morig_st\u001b[0m \u001b[0;34m=\u001b[0m \u001b[0mos\u001b[0m\u001b[0;34m.\u001b[0m\u001b[0mlstat\u001b[0m\u001b[0;34m(\u001b[0m\u001b[0mpath\u001b[0m\u001b[0;34m)\u001b[0m\u001b[0;34m\u001b[0m\u001b[0;34m\u001b[0m\u001b[0m\n\u001b[0m\u001b[1;32m    470\u001b[0m         \u001b[0;32mexcept\u001b[0m \u001b[0mException\u001b[0m\u001b[0;34m:\u001b[0m\u001b[0;34m\u001b[0m\u001b[0;34m\u001b[0m\u001b[0m\n\u001b[1;32m    471\u001b[0m             \u001b[0monerror\u001b[0m\u001b[0;34m(\u001b[0m\u001b[0mos\u001b[0m\u001b[0;34m.\u001b[0m\u001b[0mlstat\u001b[0m\u001b[0;34m,\u001b[0m \u001b[0mpath\u001b[0m\u001b[0;34m,\u001b[0m \u001b[0msys\u001b[0m\u001b[0;34m.\u001b[0m\u001b[0mexc_info\u001b[0m\u001b[0;34m(\u001b[0m\u001b[0;34m)\u001b[0m\u001b[0;34m)\u001b[0m\u001b[0;34m\u001b[0m\u001b[0;34m\u001b[0m\u001b[0m\n",
      "\u001b[0;31mFileNotFoundError\u001b[0m: [Errno 2] No such file or directory: 'test1'"
     ]
    }
   ],
   "source": [
    "import shutil\n",
    "os.chdir(\"../\")         #changing back to parent directory\n",
    "shutil.rmtree('test1')"
   ]
  },
  {
   "cell_type": "code",
   "execution_count": 72,
   "metadata": {},
   "outputs": [
    {
     "data": {
      "text/plain": [
       "'/home/nagesh'"
      ]
     },
     "execution_count": 72,
     "metadata": {},
     "output_type": "execute_result"
    }
   ],
   "source": [
    "os.getcwd()"
   ]
  },
  {
   "cell_type": "code",
   "execution_count": 4,
   "metadata": {},
   "outputs": [
    {
     "data": {
      "text/plain": [
       "[(10, 14), (34, 38)]"
      ]
     },
     "execution_count": 4,
     "metadata": {},
     "output_type": "execute_result"
    }
   ],
   "source": [
    "import re\n",
    "[(m.start(), m.end()) for m in re.finditer('test','this is a test string and this is test')]"
   ]
  },
  {
   "cell_type": "code",
   "execution_count": null,
   "metadata": {},
   "outputs": [],
   "source": []
  }
 ],
 "metadata": {
  "kernelspec": {
   "display_name": "Python 3",
   "language": "python",
   "name": "python3"
  },
  "language_info": {
   "codemirror_mode": {
    "name": "ipython",
    "version": 3
   },
   "file_extension": ".py",
   "mimetype": "text/x-python",
   "name": "python",
   "nbconvert_exporter": "python",
   "pygments_lexer": "ipython3",
   "version": "3.6.7"
  }
 },
 "nbformat": 4,
 "nbformat_minor": 2
}
