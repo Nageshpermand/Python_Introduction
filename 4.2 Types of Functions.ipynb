{
 "cells": [
  {
   "cell_type": "markdown",
   "metadata": {},
   "source": [
    "# Types of Functions"
   ]
  },
  {
   "cell_type": "markdown",
   "metadata": {},
   "source": [
    "1. Built-in Functions\n",
    "\n",
    "2. User-defined Functions"
   ]
  },
  {
   "cell_type": "markdown",
   "metadata": {},
   "source": [
    "# Built-in Functions"
   ]
  },
  {
   "cell_type": "markdown",
   "metadata": {},
   "source": [
    "# 1. abs()"
   ]
  },
  {
   "cell_type": "markdown",
   "metadata": {},
   "source": [
    "absolute abs()  function used for convert negetive numbers to positive numbers"
   ]
  },
  {
   "cell_type": "code",
   "execution_count": 2,
   "metadata": {},
   "outputs": [
    {
     "name": "stdout",
     "output_type": "stream",
     "text": [
      "100\n"
     ]
    }
   ],
   "source": [
    "num = -100\n",
    "print(abs(num))"
   ]
  },
  {
   "cell_type": "code",
   "execution_count": 3,
   "metadata": {},
   "outputs": [
    {
     "name": "stdout",
     "output_type": "stream",
     "text": [
      "60\n"
     ]
    }
   ],
   "source": [
    "num = -60\n",
    "print(abs(num))"
   ]
  },
  {
   "cell_type": "code",
   "execution_count": 4,
   "metadata": {},
   "outputs": [
    {
     "name": "stdout",
     "output_type": "stream",
     "text": [
      "60.0\n"
     ]
    }
   ],
   "source": [
    "num = -60.0\n",
    "print(abs(num))"
   ]
  },
  {
   "cell_type": "code",
   "execution_count": 5,
   "metadata": {},
   "outputs": [
    {
     "name": "stdout",
     "output_type": "stream",
     "text": [
      "22\n"
     ]
    }
   ],
   "source": [
    "num = 22\n",
    "print(abs(num))"
   ]
  },
  {
   "cell_type": "code",
   "execution_count": 6,
   "metadata": {},
   "outputs": [
    {
     "name": "stdout",
     "output_type": "stream",
     "text": [
      "80\n"
     ]
    }
   ],
   "source": [
    "num = 80\n",
    "print(abs(num))"
   ]
  },
  {
   "cell_type": "code",
   "execution_count": 7,
   "metadata": {},
   "outputs": [
    {
     "name": "stdout",
     "output_type": "stream",
     "text": [
      "100\n"
     ]
    }
   ],
   "source": [
    "num = -100\n",
    "print(abs(num))"
   ]
  },
  {
   "cell_type": "code",
   "execution_count": 8,
   "metadata": {},
   "outputs": [
    {
     "name": "stdout",
     "output_type": "stream",
     "text": [
      "20\n"
     ]
    }
   ],
   "source": [
    "num = 20\n",
    "print(abs(num))"
   ]
  },
  {
   "cell_type": "code",
   "execution_count": 9,
   "metadata": {},
   "outputs": [
    {
     "name": "stdout",
     "output_type": "stream",
     "text": [
      "100\n"
     ]
    }
   ],
   "source": [
    "num = -100\n",
    "print(abs(num))"
   ]
  },
  {
   "cell_type": "code",
   "execution_count": 10,
   "metadata": {},
   "outputs": [
    {
     "name": "stdout",
     "output_type": "stream",
     "text": [
      "12\n"
     ]
    }
   ],
   "source": [
    "num = 12\n",
    "print(abs(num))"
   ]
  },
  {
   "cell_type": "markdown",
   "metadata": {},
   "source": [
    "# 2. all()"
   ]
  },
  {
   "cell_type": "markdown",
   "metadata": {},
   "source": [
    "#return value of all() function\n",
    "\n",
    "True: if all elements in an iterable are true\n",
    "\n",
    "False: if any element in an iterable is false\n"
   ]
  },
  {
   "cell_type": "code",
   "execution_count": 11,
   "metadata": {},
   "outputs": [
    {
     "name": "stdout",
     "output_type": "stream",
     "text": [
      "True\n"
     ]
    }
   ],
   "source": [
    "lst = [1,2,3,4]\n",
    "\n",
    "print(all(lst))"
   ]
  },
  {
   "cell_type": "code",
   "execution_count": 12,
   "metadata": {},
   "outputs": [
    {
     "name": "stdout",
     "output_type": "stream",
     "text": [
      "False\n"
     ]
    }
   ],
   "source": [
    "lst = [0,1,2,3]\n",
    "\n",
    "print(all(lst))       # 0 is false in python"
   ]
  },
  {
   "cell_type": "code",
   "execution_count": 13,
   "metadata": {},
   "outputs": [
    {
     "name": "stdout",
     "output_type": "stream",
     "text": [
      "True\n"
     ]
    }
   ],
   "source": [
    "lst = []\n",
    "\n",
    "print(all(lst))"
   ]
  },
  {
   "cell_type": "code",
   "execution_count": 18,
   "metadata": {},
   "outputs": [
    {
     "name": "stdout",
     "output_type": "stream",
     "text": [
      "False\n"
     ]
    }
   ],
   "source": [
    "lst = [False, 1,2]\n",
    "\n",
    "print(all(lst))"
   ]
  },
  {
   "cell_type": "markdown",
   "metadata": {},
   "source": [
    "# dir()"
   ]
  },
  {
   "cell_type": "markdown",
   "metadata": {},
   "source": [
    "The dir() tries to return a list of valid attributes of the object.\n",
    "\n",
    "If the object has dir() method, the method will be called and must return the list of attributes.\n",
    "\n",
    "If the object doesn't have dir() method, this method tries to find information from the dict attribute (if defined), and from type object. In this case, the list returned from dir() may not be complete.\n"
   ]
  },
  {
   "cell_type": "markdown",
   "metadata": {},
   "source": [
    "# 1. List attributes"
   ]
  },
  {
   "cell_type": "code",
   "execution_count": 19,
   "metadata": {},
   "outputs": [
    {
     "name": "stdout",
     "output_type": "stream",
     "text": [
      "['__add__', '__class__', '__contains__', '__delattr__', '__delitem__', '__dir__', '__doc__', '__eq__', '__format__', '__ge__', '__getattribute__', '__getitem__', '__gt__', '__hash__', '__iadd__', '__imul__', '__init__', '__init_subclass__', '__iter__', '__le__', '__len__', '__lt__', '__mul__', '__ne__', '__new__', '__reduce__', '__reduce_ex__', '__repr__', '__reversed__', '__rmul__', '__setattr__', '__setitem__', '__sizeof__', '__str__', '__subclasshook__', 'append', 'clear', 'copy', 'count', 'extend', 'index', 'insert', 'pop', 'remove', 'reverse', 'sort']\n"
     ]
    }
   ],
   "source": [
    "numbers = [1,2,3,4]        #numbers is List so dir() prints all attributes of list\n",
    "\n",
    "print(dir(numbers))"
   ]
  },
  {
   "cell_type": "code",
   "execution_count": 25,
   "metadata": {},
   "outputs": [
    {
     "name": "stdout",
     "output_type": "stream",
     "text": [
      "['__add__', '__class__', '__contains__', '__delattr__', '__delitem__', '__dir__', '__doc__', '__eq__', '__format__', '__ge__', '__getattribute__', '__getitem__', '__gt__', '__hash__', '__iadd__', '__imul__', '__init__', '__init_subclass__', '__iter__', '__le__', '__len__', '__lt__', '__mul__', '__ne__', '__new__', '__reduce__', '__reduce_ex__', '__repr__', '__reversed__', '__rmul__', '__setattr__', '__setitem__', '__sizeof__', '__str__', '__subclasshook__', 'append', 'clear', 'copy', 'count', 'extend', 'index', 'insert', 'pop', 'remove', 'reverse', 'sort']\n",
      "\n",
      "length of list attributes: 46\n"
     ]
    }
   ],
   "source": [
    "numbers = [1,2,3,4]        #numbers is List so dir() prints all attributes of list\n",
    "\n",
    "print(dir(numbers))\n",
    "\n",
    "print(\"\\nlength of list attributes:\",len(dir(numbers)))"
   ]
  },
  {
   "cell_type": "markdown",
   "metadata": {},
   "source": [
    "# 2. Tuple attributes"
   ]
  },
  {
   "cell_type": "code",
   "execution_count": 20,
   "metadata": {},
   "outputs": [
    {
     "name": "stdout",
     "output_type": "stream",
     "text": [
      "['__add__', '__class__', '__contains__', '__delattr__', '__dir__', '__doc__', '__eq__', '__format__', '__ge__', '__getattribute__', '__getitem__', '__getnewargs__', '__gt__', '__hash__', '__init__', '__init_subclass__', '__iter__', '__le__', '__len__', '__lt__', '__mul__', '__ne__', '__new__', '__reduce__', '__reduce_ex__', '__repr__', '__rmul__', '__setattr__', '__sizeof__', '__str__', '__subclasshook__', 'count', 'index']\n"
     ]
    }
   ],
   "source": [
    "numbers = (1,2,3,4)        #numbers is Tuple so dir() prints all attributes of tuple\n",
    "\n",
    "print(dir(numbers))"
   ]
  },
  {
   "cell_type": "code",
   "execution_count": 26,
   "metadata": {},
   "outputs": [
    {
     "name": "stdout",
     "output_type": "stream",
     "text": [
      "['__add__', '__class__', '__contains__', '__delattr__', '__dir__', '__doc__', '__eq__', '__format__', '__ge__', '__getattribute__', '__getitem__', '__getnewargs__', '__gt__', '__hash__', '__init__', '__init_subclass__', '__iter__', '__le__', '__len__', '__lt__', '__mul__', '__ne__', '__new__', '__reduce__', '__reduce_ex__', '__repr__', '__rmul__', '__setattr__', '__sizeof__', '__str__', '__subclasshook__', 'count', 'index']\n",
      "\n",
      "length of Tuple attributes: 33\n"
     ]
    }
   ],
   "source": [
    "numbers = (1,2,3,4)        #numbers is Tuple so dir() prints all attributes of tuple\n",
    "\n",
    "print(dir(numbers))\n",
    "\n",
    "print(\"\\nlength of Tuple attributes:\",len(dir(numbers)))"
   ]
  },
  {
   "cell_type": "markdown",
   "metadata": {},
   "source": [
    "# 3.Set attributes"
   ]
  },
  {
   "cell_type": "code",
   "execution_count": 27,
   "metadata": {},
   "outputs": [
    {
     "name": "stdout",
     "output_type": "stream",
     "text": [
      "['__and__', '__class__', '__contains__', '__delattr__', '__dir__', '__doc__', '__eq__', '__format__', '__ge__', '__getattribute__', '__gt__', '__hash__', '__iand__', '__init__', '__init_subclass__', '__ior__', '__isub__', '__iter__', '__ixor__', '__le__', '__len__', '__lt__', '__ne__', '__new__', '__or__', '__rand__', '__reduce__', '__reduce_ex__', '__repr__', '__ror__', '__rsub__', '__rxor__', '__setattr__', '__sizeof__', '__str__', '__sub__', '__subclasshook__', '__xor__', 'add', 'clear', 'copy', 'difference', 'difference_update', 'discard', 'intersection', 'intersection_update', 'isdisjoint', 'issubset', 'issuperset', 'pop', 'remove', 'symmetric_difference', 'symmetric_difference_update', 'union', 'update']\n"
     ]
    }
   ],
   "source": [
    "numbers = {1,2,3,4}        #numbers is set so dir() prints all attributes of set\n",
    "\n",
    "print(dir(numbers))"
   ]
  },
  {
   "cell_type": "code",
   "execution_count": 28,
   "metadata": {},
   "outputs": [
    {
     "name": "stdout",
     "output_type": "stream",
     "text": [
      "['__and__', '__class__', '__contains__', '__delattr__', '__dir__', '__doc__', '__eq__', '__format__', '__ge__', '__getattribute__', '__gt__', '__hash__', '__iand__', '__init__', '__init_subclass__', '__ior__', '__isub__', '__iter__', '__ixor__', '__le__', '__len__', '__lt__', '__ne__', '__new__', '__or__', '__rand__', '__reduce__', '__reduce_ex__', '__repr__', '__ror__', '__rsub__', '__rxor__', '__setattr__', '__sizeof__', '__str__', '__sub__', '__subclasshook__', '__xor__', 'add', 'clear', 'copy', 'difference', 'difference_update', 'discard', 'intersection', 'intersection_update', 'isdisjoint', 'issubset', 'issuperset', 'pop', 'remove', 'symmetric_difference', 'symmetric_difference_update', 'union', 'update']\n",
      "\n",
      "length of set attributes: 55\n"
     ]
    }
   ],
   "source": [
    "numbers = {1,2,3,4}        #numbers is set so dir() prints all attributes of set\n",
    "\n",
    "print(dir(numbers))\n",
    "\n",
    "print(\"\\nlength of set attributes:\",len(dir(numbers)))\n"
   ]
  },
  {
   "cell_type": "markdown",
   "metadata": {},
   "source": [
    "# 4. Dictionary attributes"
   ]
  },
  {
   "cell_type": "code",
   "execution_count": 30,
   "metadata": {},
   "outputs": [
    {
     "name": "stdout",
     "output_type": "stream",
     "text": [
      "['__class__', '__contains__', '__delattr__', '__delitem__', '__dir__', '__doc__', '__eq__', '__format__', '__ge__', '__getattribute__', '__getitem__', '__gt__', '__hash__', '__init__', '__init_subclass__', '__iter__', '__le__', '__len__', '__lt__', '__ne__', '__new__', '__reduce__', '__reduce_ex__', '__repr__', '__setattr__', '__setitem__', '__sizeof__', '__str__', '__subclasshook__', 'clear', 'copy', 'fromkeys', 'get', 'items', 'keys', 'pop', 'popitem', 'setdefault', 'update', 'values']\n"
     ]
    }
   ],
   "source": [
    "numbers = {}        #numbers is dictionary so dir() prints all attributes of set\n",
    "\n",
    "print(dir(numbers))\n"
   ]
  },
  {
   "cell_type": "code",
   "execution_count": 32,
   "metadata": {},
   "outputs": [
    {
     "name": "stdout",
     "output_type": "stream",
     "text": [
      "['__class__', '__contains__', '__delattr__', '__delitem__', '__dir__', '__doc__', '__eq__', '__format__', '__ge__', '__getattribute__', '__getitem__', '__gt__', '__hash__', '__init__', '__init_subclass__', '__iter__', '__le__', '__len__', '__lt__', '__ne__', '__new__', '__reduce__', '__reduce_ex__', '__repr__', '__setattr__', '__setitem__', '__sizeof__', '__str__', '__subclasshook__', 'clear', 'copy', 'fromkeys', 'get', 'items', 'keys', 'pop', 'popitem', 'setdefault', 'update', 'values']\n",
      "\n",
      "length of dict attributes: 40\n"
     ]
    }
   ],
   "source": [
    "numbers = {}        #numbers is dictionary so dir() prints all attributes of set\n",
    "\n",
    "print(dir(numbers))\n",
    "\n",
    "print(\"\\nlength of dict attributes:\",len(dir(numbers)))\n"
   ]
  },
  {
   "cell_type": "markdown",
   "metadata": {},
   "source": [
    "# 5. Strings attributes"
   ]
  },
  {
   "cell_type": "code",
   "execution_count": 4,
   "metadata": {},
   "outputs": [
    {
     "name": "stdout",
     "output_type": "stream",
     "text": [
      "['__add__', '__class__', '__contains__', '__delattr__', '__dir__', '__doc__', '__eq__', '__format__', '__ge__', '__getattribute__', '__getitem__', '__getnewargs__', '__gt__', '__hash__', '__init__', '__init_subclass__', '__iter__', '__le__', '__len__', '__lt__', '__mod__', '__mul__', '__ne__', '__new__', '__reduce__', '__reduce_ex__', '__repr__', '__rmod__', '__rmul__', '__setattr__', '__sizeof__', '__str__', '__subclasshook__', 'capitalize', 'casefold', 'center', 'count', 'encode', 'endswith', 'expandtabs', 'find', 'format', 'format_map', 'index', 'isalnum', 'isalpha', 'isdecimal', 'isdigit', 'isidentifier', 'islower', 'isnumeric', 'isprintable', 'isspace', 'istitle', 'isupper', 'join', 'ljust', 'lower', 'lstrip', 'maketrans', 'partition', 'replace', 'rfind', 'rindex', 'rjust', 'rpartition', 'rsplit', 'rstrip', 'split', 'splitlines', 'startswith', 'strip', 'swapcase', 'title', 'translate', 'upper', 'zfill']\n",
      "\n",
      "len of string attributes:  77\n"
     ]
    }
   ],
   "source": [
    "a = \"hello wotrld\"\n",
    "\n",
    "print(dir(a))\n",
    "\n",
    "print(\"\\nlen of string attributes: \",len(dir(a)))"
   ]
  },
  {
   "cell_type": "markdown",
   "metadata": {},
   "source": [
    "# divmod()"
   ]
  },
  {
   "cell_type": "markdown",
   "metadata": {},
   "source": [
    "1. The divmod() method takes two numbers and returns a pair of numbers (a tuple) consisting of their quotient and remainder\n",
    "\n",
    "2. print quotient and reminder as a tuple\n"
   ]
  },
  {
   "cell_type": "code",
   "execution_count": 34,
   "metadata": {},
   "outputs": [
    {
     "name": "stdout",
     "output_type": "stream",
     "text": [
      "(4, 1)\n"
     ]
    }
   ],
   "source": [
    "print(divmod(9, 2))"
   ]
  },
  {
   "cell_type": "code",
   "execution_count": 36,
   "metadata": {},
   "outputs": [
    {
     "name": "stdout",
     "output_type": "stream",
     "text": [
      "(0, 20)\n"
     ]
    }
   ],
   "source": [
    "print(divmod(20, 40))"
   ]
  },
  {
   "cell_type": "code",
   "execution_count": 37,
   "metadata": {},
   "outputs": [
    {
     "name": "stdout",
     "output_type": "stream",
     "text": [
      "(4, 0)\n"
     ]
    }
   ],
   "source": [
    "print(divmod(8,2))"
   ]
  },
  {
   "cell_type": "code",
   "execution_count": 38,
   "metadata": {},
   "outputs": [
    {
     "name": "stdout",
     "output_type": "stream",
     "text": [
      "(3, 0)\n"
     ]
    }
   ],
   "source": [
    "print(divmod(60,20))"
   ]
  },
  {
   "cell_type": "markdown",
   "metadata": {},
   "source": [
    "# enumerate()"
   ]
  },
  {
   "cell_type": "markdown",
   "metadata": {},
   "source": [
    "1. The enumerate() method adds counter to an iterable and returns it\n",
    "\n",
    "2. syntax: enumerate(iterable, start=0)\n",
    "3. it prints the index value and the value\n",
    "4. enumerate in english is to list"
   ]
  },
  {
   "cell_type": "code",
   "execution_count": 40,
   "metadata": {},
   "outputs": [
    {
     "name": "stdout",
     "output_type": "stream",
     "text": [
      "index0 has value10\n",
      "index1 has value20\n",
      "index2 has value30\n",
      "index3 has value40\n"
     ]
    }
   ],
   "source": [
    "numbers = [10, 20, 30, 40]\n",
    "\n",
    "for  index,num in enumerate(numbers):\n",
    "    print(\"index{0} has value{1}\".format(index, num))"
   ]
  },
  {
   "cell_type": "code",
   "execution_count": 1,
   "metadata": {},
   "outputs": [
    {
     "name": "stdout",
     "output_type": "stream",
     "text": [
      "index0 has value10\n",
      "index1 has value20\n",
      "index2 has value30\n",
      "index3 has value40\n"
     ]
    }
   ],
   "source": [
    "numbers = [10, 20, 30, 40]\n",
    "\n",
    "for  i,j in enumerate(numbers):\n",
    "    print(\"index{0} has value{1}\".format(i, j))"
   ]
  },
  {
   "cell_type": "code",
   "execution_count": 4,
   "metadata": {},
   "outputs": [
    {
     "name": "stdout",
     "output_type": "stream",
     "text": [
      "<enumerate object at 0x7f673862e990>\n"
     ]
    }
   ],
   "source": [
    "numbers = [10, 20, 30, 40]\n",
    "\n",
    "print(enumerate(numbers))\n",
    "    "
   ]
  },
  {
   "cell_type": "code",
   "execution_count": 5,
   "metadata": {},
   "outputs": [
    {
     "name": "stdout",
     "output_type": "stream",
     "text": [
      "0 10\n",
      "1 20\n",
      "2 30\n",
      "3 40\n"
     ]
    }
   ],
   "source": [
    "numbers = [10, 20, 30, 40]\n",
    "\n",
    "for  i,num in enumerate(numbers):      #enumerate takes two charecters one is index position and secound is value\n",
    "    print(i,num)"
   ]
  },
  {
   "cell_type": "code",
   "execution_count": 41,
   "metadata": {},
   "outputs": [
    {
     "name": "stdout",
     "output_type": "stream",
     "text": [
      "index4 has value10\n",
      "index5 has value20\n",
      "index6 has value30\n",
      "index7 has value40\n"
     ]
    }
   ],
   "source": [
    "numbers = [10, 20, 30, 40]\n",
    "\n",
    "for  index,num in enumerate(numbers, 4):\n",
    "    print(\"index{0} has value{1}\".format(index, num))"
   ]
  },
  {
   "cell_type": "markdown",
   "metadata": {},
   "source": [
    "# filter()"
   ]
  },
  {
   "cell_type": "markdown",
   "metadata": {},
   "source": [
    "The filter() method constructs an iterator from elements of an iterable for which a function returns true.\n",
    "\n",
    "syntax: filter(function, iterable)\n"
   ]
  },
  {
   "cell_type": "code",
   "execution_count": 112,
   "metadata": {},
   "outputs": [
    {
     "name": "stdout",
     "output_type": "stream",
     "text": [
      "range(-10, 10)\n",
      "[1, 2, 3, 4, 5, 6, 7, 8, 9]\n"
     ]
    }
   ],
   "source": [
    "def find_positive_number(num):\n",
    "    \"\"\"\n",
    "    This function returns positive number if number positive\n",
    "    \"\"\"\n",
    "    if num>0:\n",
    "        return num\n",
    "    \n",
    "number_list = range(-10,10)\n",
    "print(number_list)\n",
    "\n",
    "positive_num_lst = list(filter(find_positive_number, number_list))\n",
    "\n",
    "print(positive_num_lst)"
   ]
  },
  {
   "cell_type": "markdown",
   "metadata": {},
   "source": [
    "# isinstance()"
   ]
  },
  {
   "cell_type": "markdown",
   "metadata": {},
   "source": [
    "The isinstance() function checks if the object (first argument) is an instance or subclass of classinfo class (second argument).\n",
    "\n",
    "syntax: isinstance(object, classinfo)\n"
   ]
  },
  {
   "cell_type": "code",
   "execution_count": 52,
   "metadata": {},
   "outputs": [
    {
     "name": "stdout",
     "output_type": "stream",
     "text": [
      "True\n"
     ]
    }
   ],
   "source": [
    "lst = [1,2,3,4]\n",
    "\n",
    "print(isinstance(lst, list))"
   ]
  },
  {
   "cell_type": "code",
   "execution_count": 53,
   "metadata": {},
   "outputs": [
    {
     "name": "stdout",
     "output_type": "stream",
     "text": [
      "False\n"
     ]
    }
   ],
   "source": [
    "lst = [1,2,3,4]\n",
    "\n",
    "print(isinstance(lst, tuple))"
   ]
  },
  {
   "cell_type": "code",
   "execution_count": 56,
   "metadata": {},
   "outputs": [
    {
     "name": "stdout",
     "output_type": "stream",
     "text": [
      "True\n"
     ]
    }
   ],
   "source": [
    "lst = (1,2,3,4)\n",
    "\n",
    "print(isinstance(lst, tuple))"
   ]
  },
  {
   "cell_type": "markdown",
   "metadata": {},
   "source": [
    "# map()"
   ]
  },
  {
   "cell_type": "markdown",
   "metadata": {},
   "source": [
    "Map applies a function to all the items in an input_list.\n",
    "\n",
    "syntax: map(function_to_apply, list_of_inputs)\n"
   ]
  },
  {
   "cell_type": "code",
   "execution_count": 58,
   "metadata": {},
   "outputs": [
    {
     "name": "stdout",
     "output_type": "stream",
     "text": [
      "[100, 400, 900, 1600]\n"
     ]
    }
   ],
   "source": [
    "#with out math function\n",
    "number = [1,2,3,4]\n",
    "\n",
    "squared = []\n",
    "\n",
    "for num in numbers:\n",
    "    squared.append(num**2)\n",
    "    \n",
    "print(squared)"
   ]
  },
  {
   "cell_type": "code",
   "execution_count": 60,
   "metadata": {},
   "outputs": [
    {
     "name": "stdout",
     "output_type": "stream",
     "text": [
      "[100, 400, 900, 1600]\n"
     ]
    }
   ],
   "source": [
    "#with math function\n",
    "\n",
    "number = [1,2,3,4]\n",
    "\n",
    "def powerofTwo(num):\n",
    "    return num**2\n",
    "\n",
    "#using map() function\n",
    "squared = list(map(powerofTwo, numbers))\n",
    "\n",
    "print(squared)\n"
   ]
  },
  {
   "cell_type": "code",
   "execution_count": 8,
   "metadata": {},
   "outputs": [
    {
     "name": "stdout",
     "output_type": "stream",
     "text": [
      "[1, 4, 9, 16]\n"
     ]
    }
   ],
   "source": [
    "#with math function\n",
    "\n",
    "number = [1,2,3,4]\n",
    "\n",
    "def powerofTwo(num):\n",
    "    return num**2\n",
    "\n",
    "#using map() function\n",
    "squared = list(map(powerofTwo, number))\n",
    "\n",
    "print(squared)\n"
   ]
  },
  {
   "cell_type": "code",
   "execution_count": 2,
   "metadata": {},
   "outputs": [
    {
     "name": "stdout",
     "output_type": "stream",
     "text": [
      "[1, 8, 27, 64, 125, 216, 343, 512]\n"
     ]
    }
   ],
   "source": [
    "lst = [1,2,3,4,5,6,7,8]\n",
    "\n",
    "def cube(num):\n",
    "    return num*num*num\n",
    "\n",
    "#using map() function\n",
    "\n",
    "a = list(map(cube, lst))\n",
    "\n",
    "print(a)\n"
   ]
  },
  {
   "cell_type": "markdown",
   "metadata": {},
   "source": [
    "# reduce()"
   ]
  },
  {
   "cell_type": "markdown",
   "metadata": {},
   "source": [
    "reduce() function is for performing some computation on a list and returning the result.\n",
    "\n",
    "It applies a rolling computation to sequential pairs of values in a list"
   ]
  },
  {
   "cell_type": "code",
   "execution_count": 61,
   "metadata": {},
   "outputs": [
    {
     "name": "stdout",
     "output_type": "stream",
     "text": [
      "24\n"
     ]
    }
   ],
   "source": [
    "#without using reduce function\n",
    "\n",
    "product = 1\n",
    "\n",
    "lst = [1,2,3,4]\n",
    "\n",
    "for num in lst:\n",
    "    product *= num\n",
    "print(product)"
   ]
  },
  {
   "cell_type": "code",
   "execution_count": 63,
   "metadata": {},
   "outputs": [
    {
     "name": "stdout",
     "output_type": "stream",
     "text": [
      "24\n"
     ]
    }
   ],
   "source": [
    "#with using reduce function\n",
    "\n",
    "from functools import reduce           #for python3 \n",
    "\n",
    "product = 1\n",
    "\n",
    "lst = [1,2,3,4]\n",
    "\n",
    "def multiply(x,y):\n",
    "    return x*y\n",
    "\n",
    "product = reduce(multiply, lst)\n",
    "\n",
    "print(product)"
   ]
  },
  {
   "cell_type": "code",
   "execution_count": 11,
   "metadata": {},
   "outputs": [
    {
     "name": "stdout",
     "output_type": "stream",
     "text": [
      "10\n"
     ]
    }
   ],
   "source": [
    "#with using reduce function\n",
    "\n",
    "from functools import reduce           #for python3 \n",
    "\n",
    "product = 1\n",
    "\n",
    "lst = [1,2,3,4]\n",
    "\n",
    "def multiply(x,y):\n",
    "    return x+y\n",
    "\n",
    "product = reduce(multiply, lst)\n",
    "\n",
    "print(product)"
   ]
  },
  {
   "cell_type": "markdown",
   "metadata": {},
   "source": [
    "1. map & filter apply function to each element in list\n",
    "2. reduce apply function to one element to anathor element consequently(rolling coputational)\n",
    "[1,2,3,4]  1*2= 2, 2*3=6, 6*4 = 24  "
   ]
  },
  {
   "cell_type": "code",
   "execution_count": 66,
   "metadata": {},
   "outputs": [
    {
     "name": "stdout",
     "output_type": "stream",
     "text": [
      "24\n"
     ]
    }
   ],
   "source": [
    "#with using reduce function\n",
    "\n",
    "from functools import reduce           #for python3 \n",
    "\n",
    "product = 1\n",
    "\n",
    "lst = [1,2,3,4]\n",
    "\n",
    "def multiply(x,y):\n",
    "    return x*y\n",
    "\n",
    "product = reduce(multiply, lst)\n",
    "\n",
    "print(product)"
   ]
  },
  {
   "cell_type": "code",
   "execution_count": 67,
   "metadata": {},
   "outputs": [
    {
     "name": "stdout",
     "output_type": "stream",
     "text": [
      "24\n"
     ]
    }
   ],
   "source": [
    "#with using reduce function\n",
    "\n",
    "from functools import reduce           #for python3 \n",
    "\n",
    "product = 1\n",
    "\n",
    "lst = [1,2,3,4]\n",
    "\n",
    "def multiply(x,y):\n",
    "    return x*y\n",
    "\n",
    "product = reduce(multiply, lst)\n",
    "\n",
    "print(product)"
   ]
  },
  {
   "cell_type": "code",
   "execution_count": 68,
   "metadata": {},
   "outputs": [
    {
     "name": "stdout",
     "output_type": "stream",
     "text": [
      "24\n"
     ]
    }
   ],
   "source": [
    "#with using reduce function\n",
    "\n",
    "from functools import reduce           #for python3 \n",
    "\n",
    "product = 1\n",
    "\n",
    "lst = [1,2,3,4]\n",
    "\n",
    "def multiply(x,y):\n",
    "    return x*y\n",
    "\n",
    "product = reduce(multiply, lst)\n",
    "\n",
    "print(product)"
   ]
  },
  {
   "cell_type": "markdown",
   "metadata": {},
   "source": [
    "# 2. User-defined Functions"
   ]
  },
  {
   "cell_type": "markdown",
   "metadata": {},
   "source": [
    "Functions that we define ourselves to do certain specific task are referred as user-defined functions\n",
    "\n",
    "If we use functions written by others in the form of library, it can be termed as library functions.\n"
   ]
  },
  {
   "cell_type": "markdown",
   "metadata": {},
   "source": [
    "# Advantages"
   ]
  },
  {
   "cell_type": "markdown",
   "metadata": {},
   "source": [
    "1. User-defined functions help to decompose a large program into small segments which makes program easy to understand, maintain and debug.\n",
    "\n",
    "2. If repeated code occurs in a program. Function can be used to include those codes and execute when needed by calling that function.\n",
    "\n",
    "3. Programmars working on large project can divide the workload by making different functions."
   ]
  },
  {
   "cell_type": "markdown",
   "metadata": {},
   "source": [
    "# Example:"
   ]
  },
  {
   "cell_type": "code",
   "execution_count": 70,
   "metadata": {
    "scrolled": true
   },
   "outputs": [
    {
     "name": "stdout",
     "output_type": "stream",
     "text": [
      "product of 10 and 20 is 200\n"
     ]
    }
   ],
   "source": [
    "def product_numbers(a,b):\n",
    "    \"\"\"\n",
    "    The function return the product of two numbers.\n",
    "    \"\"\"\n",
    "    product = a*b\n",
    "    return product\n",
    "\n",
    "num1 = 10\n",
    "num2 = 20\n",
    "print(\"product of {} and {} is {}\".format(num1,num2, product_numbers(num1,num2)))"
   ]
  },
  {
   "cell_type": "code",
   "execution_count": 72,
   "metadata": {},
   "outputs": [
    {
     "name": "stdout",
     "output_type": "stream",
     "text": [
      "product of 10 and 20 is 200\n"
     ]
    }
   ],
   "source": [
    "def product_numbers(a,b):\n",
    "    \"\"\"\n",
    "    The function return the product of two numbers.\n",
    "    \"\"\"\n",
    "    product = a*b\n",
    "    return product\n",
    "\n",
    "num1 = 10\n",
    "num2 = 20\n",
    "print(\"product of {} and {} is {}\".format(num1,num2, product_numbers(num1,num2)))"
   ]
  },
  {
   "cell_type": "markdown",
   "metadata": {},
   "source": [
    "# Python program to make a simple calculator that can add, subtract, multiply and division"
   ]
  },
  {
   "cell_type": "code",
   "execution_count": 73,
   "metadata": {},
   "outputs": [
    {
     "name": "stdout",
     "output_type": "stream",
     "text": [
      "Select Option\n",
      "1. addition\n",
      "2. substraction\n",
      "3. multiplication\n",
      "4. divition\n",
      "enter choice 1/2/3/42\n",
      "enter first number:20\n",
      "enter secound number:10\n",
      "substraction of 20.0 and 10.0 is 10.0\n"
     ]
    }
   ],
   "source": [
    "def add(a,b):\n",
    "    \"\"\"\n",
    "    This function adds two numbers.\n",
    "    \"\"\"\n",
    "    return a+b\n",
    "\n",
    "def multiply(a,b):\n",
    "    \"\"\"\n",
    "    This function multiplys two numbers.\n",
    "    \"\"\"\n",
    "    return a*b\n",
    "\n",
    "def substract(a,b):\n",
    "    \"\"\"\n",
    "    This function substracts two numbers.\n",
    "    \"\"\"\n",
    "    return a-b\n",
    "\n",
    "def division(a,b):\n",
    "    \"\"\"\n",
    "    This function division two numbers.\n",
    "    \"\"\"\n",
    "    return a/b\n",
    "\n",
    "print(\"Select Option\")\n",
    "print(\"1. addition\")\n",
    "print(\"2. substraction\")\n",
    "print(\"3. multiplication\")\n",
    "print(\"4. divition\")\n",
    "\n",
    "#take input from user\n",
    "choice = (int(input(\"enter choice 1/2/3/4\")))\n",
    "\n",
    "num1 = float(input(\"enter first number:\"))\n",
    "num2 = float(input(\"enter secound number:\"))\n",
    "\n",
    "if choice == 1:\n",
    "    print(\"addition of {0} and {1} is {2}\".format(num1,num2, add(num1,num2)))\n",
    "    \n",
    "elif choice == 2:\n",
    "    print(\"substraction of {0} and {1} is {2}\".format(num1,num2, substract(num1,num2)))\n",
    "    \n",
    "elif choice == 3:\n",
    "    print(\"multiplication of {0} and {1} is {2}\".format(num1,num2, multiply(num1,num2)))\n",
    "    \n",
    "elif choice == 4:\n",
    "    print(\"division of {0} and {1} is {2}\".format(num1,num2, division(num1,num2)))\n",
    "    \n",
    "else:\n",
    "    print(\"invalid choice\")\n",
    "    \n",
    "    \n",
    "    \n",
    "\n",
    "\n",
    "\n"
   ]
  },
  {
   "cell_type": "code",
   "execution_count": 74,
   "metadata": {},
   "outputs": [
    {
     "name": "stdout",
     "output_type": "stream",
     "text": [
      "Select Option\n",
      "1. addition\n",
      "2. substraction\n",
      "3. multiplication\n",
      "4. divition\n",
      "enter choice 1/2/3/41\n",
      "enter first number:2\n",
      "enter secound number:4\n",
      "addition of 2.0 and 4.0 is 6.0\n"
     ]
    }
   ],
   "source": [
    "def add(a,b):\n",
    "    \"\"\"\n",
    "    This function adds two numbers.\n",
    "    \"\"\"\n",
    "    return a+b\n",
    "\n",
    "def multiply(a,b):\n",
    "    \"\"\"\n",
    "    This function multiplys two numbers.\n",
    "    \"\"\"\n",
    "    return a*b\n",
    "\n",
    "def substract(a,b):\n",
    "    \"\"\"\n",
    "    This function substracts two numbers.\n",
    "    \"\"\"\n",
    "    return a-b\n",
    "\n",
    "def division(a,b):\n",
    "    \"\"\"\n",
    "    This function division two numbers.\n",
    "    \"\"\"\n",
    "    return a/b\n",
    "\n",
    "print(\"Select Option\")\n",
    "print(\"1. addition\")\n",
    "print(\"2. substraction\")\n",
    "print(\"3. multiplication\")\n",
    "print(\"4. divition\")\n",
    "\n",
    "#take input from user\n",
    "choice = (int(input(\"enter choice 1/2/3/4\")))\n",
    "\n",
    "num1 = float(input(\"enter first number:\"))\n",
    "num2 = float(input(\"enter secound number:\"))\n",
    "\n",
    "if choice == 1:\n",
    "    print(\"addition of {0} and {1} is {2}\".format(num1,num2, add(num1,num2)))\n",
    "    \n",
    "elif choice == 2:\n",
    "    print(\"substraction of {0} and {1} is {2}\".format(num1,num2, substract(num1,num2)))\n",
    "    \n",
    "elif choice == 3:\n",
    "    print(\"multiplication of {0} and {1} is {2}\".format(num1,num2, multiply(num1,num2)))\n",
    "    \n",
    "elif choice == 4:\n",
    "    print(\"division of {0} and {1} is {2}\".format(num1,num2, division(num1,num2)))\n",
    "    \n",
    "else:\n",
    "    print(\"invalid choice\")\n",
    "    \n",
    "    \n",
    "    \n",
    "\n",
    "\n",
    "\n"
   ]
  },
  {
   "cell_type": "code",
   "execution_count": 75,
   "metadata": {},
   "outputs": [
    {
     "name": "stdout",
     "output_type": "stream",
     "text": [
      "Select Option\n",
      "1. addition\n",
      "2. substraction\n",
      "3. multiplication\n",
      "4. divition\n",
      "enter choice 1/2/3/43\n",
      "enter first number:2\n",
      "enter secound number:4\n",
      "multiplication of 2.0 and 4.0 is 8.0\n"
     ]
    }
   ],
   "source": [
    "def add(a,b):\n",
    "    \"\"\"\n",
    "    This function adds two numbers.\n",
    "    \"\"\"\n",
    "    return a+b\n",
    "\n",
    "def multiply(a,b):\n",
    "    \"\"\"\n",
    "    This function multiplys two numbers.\n",
    "    \"\"\"\n",
    "    return a*b\n",
    "\n",
    "def substract(a,b):\n",
    "    \"\"\"\n",
    "    This function substracts two numbers.\n",
    "    \"\"\"\n",
    "    return a-b\n",
    "\n",
    "def division(a,b):\n",
    "    \"\"\"\n",
    "    This function division two numbers.\n",
    "    \"\"\"\n",
    "    return a/b\n",
    "\n",
    "print(\"Select Option\")\n",
    "print(\"1. addition\")\n",
    "print(\"2. substraction\")\n",
    "print(\"3. multiplication\")\n",
    "print(\"4. divition\")\n",
    "\n",
    "#take input from user\n",
    "choice = (int(input(\"enter choice 1/2/3/4\")))\n",
    "\n",
    "num1 = float(input(\"enter first number:\"))\n",
    "num2 = float(input(\"enter secound number:\"))\n",
    "\n",
    "if choice == 1:\n",
    "    print(\"addition of {0} and {1} is {2}\".format(num1,num2, add(num1,num2)))\n",
    "    \n",
    "elif choice == 2:\n",
    "    print(\"substraction of {0} and {1} is {2}\".format(num1,num2, substract(num1,num2)))\n",
    "    \n",
    "elif choice == 3:\n",
    "    print(\"multiplication of {0} and {1} is {2}\".format(num1,num2, multiply(num1,num2)))\n",
    "    \n",
    "elif choice == 4:\n",
    "    print(\"division of {0} and {1} is {2}\".format(num1,num2, division(num1,num2)))\n",
    "    \n",
    "else:\n",
    "    print(\"invalid choice\")\n",
    "    \n",
    "    \n",
    "    \n",
    "\n",
    "\n",
    "\n"
   ]
  },
  {
   "cell_type": "code",
   "execution_count": 76,
   "metadata": {},
   "outputs": [
    {
     "name": "stdout",
     "output_type": "stream",
     "text": [
      "Select Option\n",
      "1. addition\n",
      "2. substraction\n",
      "3. multiplication\n",
      "4. divition\n",
      "enter choice 1/2/3/44\n",
      "enter first number:8\n",
      "enter secound number:4\n",
      "division of 8.0 and 4.0 is 2.0\n"
     ]
    }
   ],
   "source": [
    "def add(a,b):\n",
    "    \"\"\"\n",
    "    This function adds two numbers.\n",
    "    \"\"\"\n",
    "    return a+b\n",
    "\n",
    "def multiply(a,b):\n",
    "    \"\"\"\n",
    "    This function multiplys two numbers.\n",
    "    \"\"\"\n",
    "    return a*b\n",
    "\n",
    "def substract(a,b):\n",
    "    \"\"\"\n",
    "    This function substracts two numbers.\n",
    "    \"\"\"\n",
    "    return a-b\n",
    "\n",
    "def division(a,b):\n",
    "    \"\"\"\n",
    "    This function division two numbers.\n",
    "    \"\"\"\n",
    "    return a/b\n",
    "\n",
    "print(\"Select Option\")\n",
    "print(\"1. addition\")\n",
    "print(\"2. substraction\")\n",
    "print(\"3. multiplication\")\n",
    "print(\"4. divition\")\n",
    "\n",
    "#take input from user\n",
    "choice = (int(input(\"enter choice 1/2/3/4\")))\n",
    "\n",
    "num1 = float(input(\"enter first number:\"))\n",
    "num2 = float(input(\"enter secound number:\"))\n",
    "\n",
    "if choice == 1:\n",
    "    print(\"addition of {0} and {1} is {2}\".format(num1,num2, add(num1,num2)))\n",
    "    \n",
    "elif choice == 2:\n",
    "    print(\"substraction of {0} and {1} is {2}\".format(num1,num2, substract(num1,num2)))\n",
    "    \n",
    "elif choice == 3:\n",
    "    print(\"multiplication of {0} and {1} is {2}\".format(num1,num2, multiply(num1,num2)))\n",
    "    \n",
    "elif choice == 4:\n",
    "    print(\"division of {0} and {1} is {2}\".format(num1,num2, division(num1,num2)))\n",
    "    \n",
    "else:\n",
    "    print(\"invalid choice\")\n",
    "    \n",
    "    \n",
    "    \n",
    "\n",
    "\n",
    "\n"
   ]
  },
  {
   "cell_type": "code",
   "execution_count": 5,
   "metadata": {},
   "outputs": [
    {
     "name": "stdout",
     "output_type": "stream",
     "text": [
      "select any option:\n",
      "1. addition\n",
      "2. substraction\n",
      "enter any choice 1/2: 4\n",
      "enter number:4\n",
      "enter number:2\n",
      "invalid choice\n"
     ]
    }
   ],
   "source": [
    "def add(a,b):\n",
    "    \"\"\"\n",
    "    This function used for addition\n",
    "    \"\"\"\n",
    "    return a+b\n",
    "\n",
    "def sub(a,b):\n",
    "    \"\"\"\n",
    "    This function used for addition\n",
    "    \"\"\"\n",
    "    return a-b\n",
    "\n",
    "print(\"select any option:\")\n",
    "\n",
    "print(\"1. addition\")\n",
    "print (\"2. substraction\")\n",
    "\n",
    "choice = int(input(\"enter any choice 1/2: \"))\n",
    "\n",
    "num1 = int(input(\"enter number:\"))\n",
    "num2 = int(input(\"enter number:\"))\n",
    "\n",
    "if choice == 1:\n",
    "    print(\"{} and {} addtion result is {}\".format(num1,num2, add(num1,num2)))\n",
    "    \n",
    "elif choice == 2:\n",
    "    print(\"{} and {} substraction result is {}\".format(num1,num2, sub(num1,num2)))\n",
    "    \n",
    "else:\n",
    "    print(\"invalid choice\")\n",
    "    \n"
   ]
  },
  {
   "cell_type": "code",
   "execution_count": 6,
   "metadata": {},
   "outputs": [
    {
     "name": "stdout",
     "output_type": "stream",
     "text": [
      "select any option:\n",
      "1. addition\n",
      "2. substraction\n",
      "enter any choice 1/2: 1\n",
      "enter number:4\n",
      "enter number:6\n",
      "4 and 6 addtion result is 10\n"
     ]
    }
   ],
   "source": [
    "def add(a,b):\n",
    "    \"\"\"\n",
    "    This function used for addition\n",
    "    \"\"\"\n",
    "    return a+b\n",
    "\n",
    "def sub(a,b):\n",
    "    \"\"\"\n",
    "    This function used for addition\n",
    "    \"\"\"\n",
    "    return a-b\n",
    "\n",
    "print(\"select any option:\")\n",
    "\n",
    "print(\"1. addition\")\n",
    "print (\"2. substraction\")\n",
    "\n",
    "choice = int(input(\"enter any choice 1/2: \"))\n",
    "\n",
    "num1 = int(input(\"enter number:\"))\n",
    "num2 = int(input(\"enter number:\"))\n",
    "\n",
    "if choice == 1:\n",
    "    print(\"{} and {} addtion result is {}\".format(num1,num2, add(num1,num2)))\n",
    "    \n",
    "elif choice == 2:\n",
    "    print(\"{} and {} substraction result is {}\".format(num1,num2, sub(num1,num2)))\n",
    "    \n",
    "else:\n",
    "    print(\"invalid choice\")\n",
    "    \n"
   ]
  },
  {
   "cell_type": "code",
   "execution_count": 7,
   "metadata": {},
   "outputs": [
    {
     "name": "stdout",
     "output_type": "stream",
     "text": [
      "select any option:\n",
      "1. addition\n",
      "2. substraction\n",
      "enter any choice 1/2: 2\n",
      "enter number:10\n",
      "enter number:4\n",
      "10 and 4 substraction result is 6\n"
     ]
    }
   ],
   "source": [
    "def add(a,b):\n",
    "    \"\"\"\n",
    "    This function used for addition\n",
    "    \"\"\"\n",
    "    return a+b\n",
    "\n",
    "def sub(a,b):\n",
    "    \"\"\"\n",
    "    This function used for addition\n",
    "    \"\"\"\n",
    "    return a-b\n",
    "\n",
    "print(\"select any option:\")\n",
    "\n",
    "print(\"1. addition\")\n",
    "print (\"2. substraction\")\n",
    "\n",
    "choice = int(input(\"enter any choice 1/2: \"))\n",
    "\n",
    "num1 = int(input(\"enter number:\"))\n",
    "num2 = int(input(\"enter number:\"))\n",
    "\n",
    "if choice == 1:\n",
    "    print(\"{} and {} addtion result is {}\".format(num1,num2, add(num1,num2)))\n",
    "    \n",
    "elif choice == 2:\n",
    "    print(\"{} and {} substraction result is {}\".format(num1,num2, sub(num1,num2)))\n",
    "    \n",
    "else:\n",
    "    print(\"invalid choice\")\n",
    "    \n"
   ]
  },
  {
   "cell_type": "code",
   "execution_count": 9,
   "metadata": {},
   "outputs": [
    {
     "name": "stdout",
     "output_type": "stream",
     "text": [
      "select any option:\n",
      "1. addition\n",
      "2. substraction\n",
      "enter any choice 1/2: 2\n",
      "enter number:4\n",
      "enter number:2\n",
      "2\n"
     ]
    }
   ],
   "source": [
    "def add(a,b):\n",
    "    \"\"\"\n",
    "    This function used for addition\n",
    "    \"\"\"\n",
    "    return a+b\n",
    "\n",
    "def sub(a,b):\n",
    "    \"\"\"\n",
    "    This function used for addition\n",
    "    \"\"\"\n",
    "    return a-b\n",
    "\n",
    "print(\"select any option:\")\n",
    "\n",
    "print(\"1. addition\")\n",
    "print (\"2. substraction\")\n",
    "\n",
    "choice = int(input(\"enter any choice 1/2: \"))\n",
    "\n",
    "num1 = int(input(\"enter number:\"))\n",
    "num2 = int(input(\"enter number:\"))\n",
    "\n",
    "if choice == 1:\n",
    "    print(add(num1,num2))\n",
    "    \n",
    "elif choice == 2:\n",
    "    print( sub(num1,num2))\n",
    "    \n",
    "else:\n",
    "    print(\"invalid choice\")\n",
    "    \n"
   ]
  },
  {
   "cell_type": "code",
   "execution_count": 7,
   "metadata": {},
   "outputs": [
    {
     "name": "stdout",
     "output_type": "stream",
     "text": [
      "select any option:\n",
      "1. addition\n",
      "2. substraction\n",
      "enter any choice 1/2: 4\n",
      "enter number:6\n",
      "enter number:7\n",
      "invalid choice\n"
     ]
    }
   ],
   "source": [
    "def add(a,b):\n",
    "    \"\"\"\n",
    "    This function used for addition\n",
    "    \"\"\"\n",
    "    return a+b\n",
    "\n",
    "def sub(a,b):\n",
    "    \"\"\"\n",
    "    This function used for addition\n",
    "    \"\"\"\n",
    "    return a-b\n",
    "\n",
    "print(\"select any option:\")\n",
    "\n",
    "print(\"1. addition\")\n",
    "print (\"2. substraction\")\n",
    "\n",
    "choice = int(input(\"enter any choice 1/2: \"))\n",
    "\n",
    "num1 = int(input(\"enter number:\"))\n",
    "num2 = int(input(\"enter number:\"))\n",
    "\n",
    "if choice == 1:\n",
    "    print(add(num1,num2))\n",
    "    \n",
    "elif choice == 2:\n",
    "    print( sub(num1,num2))\n",
    "    \n",
    "else:\n",
    "    print(\"invalid choice\")\n",
    "    \n"
   ]
  },
  {
   "cell_type": "code",
   "execution_count": 2,
   "metadata": {},
   "outputs": [
    {
     "name": "stdout",
     "output_type": "stream",
     "text": [
      "9\n"
     ]
    }
   ],
   "source": [
    "def gcd(m,n):\n",
    "    while (m!=n):\n",
    "        if (m>n):\n",
    "            m = m-n\n",
    "        else:\n",
    "            n = n-m\n",
    "    return m\n",
    "\n",
    "print(gcd(153,81))"
   ]
  },
  {
   "cell_type": "code",
   "execution_count": 3,
   "metadata": {},
   "outputs": [
    {
     "name": "stdout",
     "output_type": "stream",
     "text": [
      "9\n"
     ]
    }
   ],
   "source": [
    "def gcd(m,n):\n",
    "    while (m!=n):\n",
    "        if (m>n):\n",
    "            m = m-n\n",
    "        else:\n",
    "            n = n-m\n",
    "    return m\n",
    "\n",
    "print(gcd(81,153))"
   ]
  },
  {
   "cell_type": "code",
   "execution_count": 7,
   "metadata": {},
   "outputs": [
    {
     "name": "stdout",
     "output_type": "stream",
     "text": [
      "1 2 3 4 5 6 7 8 9 10 11  12 13 14 15 16 17 18 19 20 21 22 23 24\n",
      "300\n"
     ]
    }
   ],
   "source": [
    "lst = list(map(int, input().split()))\n",
    "\n",
    "def get_sum(lst1):\n",
    "    sum = 0\n",
    "    \n",
    "    for num in lst1:\n",
    "        sum += num\n",
    "        \n",
    "    return sum\n",
    "\n",
    "s1 = get_sum(lst)\n",
    "print(s1)"
   ]
  },
  {
   "cell_type": "code",
   "execution_count": 8,
   "metadata": {},
   "outputs": [
    {
     "name": "stdout",
     "output_type": "stream",
     "text": [
      "1 2 3 4 5 6\n",
      "21\n"
     ]
    }
   ],
   "source": [
    "lst = list(map(int, input().split()))\n",
    "\n",
    "def get_sum(lst1):\n",
    "    sum = 0\n",
    "    \n",
    "    for num in lst1:\n",
    "        sum += num\n",
    "        \n",
    "    return sum\n",
    "\n",
    "s1 = get_sum(lst)\n",
    "print(s1)"
   ]
  }
 ],
 "metadata": {
  "kernelspec": {
   "display_name": "Python 3",
   "language": "python",
   "name": "python3"
  },
  "language_info": {
   "codemirror_mode": {
    "name": "ipython",
    "version": 3
   },
   "file_extension": ".py",
   "mimetype": "text/x-python",
   "name": "python",
   "nbconvert_exporter": "python",
   "pygments_lexer": "ipython3",
   "version": "3.6.8"
  }
 },
 "nbformat": 4,
 "nbformat_minor": 2
}
