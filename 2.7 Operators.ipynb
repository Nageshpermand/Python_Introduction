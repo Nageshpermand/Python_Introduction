{
 "cells": [
  {
   "cell_type": "markdown",
   "metadata": {},
   "source": [
    "1. Operators are special symbols in Python that carryout Arithmetic and logical computation.\n",
    "2. The value that operator operates on is called operand.\n",
    "\n",
    "types:\n",
    "1. Arithmetic operators.\n",
    "2.comparision(relational) operators.\n",
    "3.Logical(Boolean) operators.\n",
    "4.Bitwise operators\n",
    "5.assignment operators.\n",
    "6.Special Operators\n",
    "\n",
    "          2 + 3    # 2 and 3 are operands and + is operator\n",
    "\n"
   ]
  },
  {
   "cell_type": "markdown",
   "metadata": {},
   "source": [
    "# Arithmetic Operators"
   ]
  },
  {
   "cell_type": "markdown",
   "metadata": {},
   "source": [
    "1. Arithmetic Operators:add, sub, mul, div, modulus, persentile, square\n",
    "                         +, -, *, /, %, **..."
   ]
  },
  {
   "cell_type": "code",
   "execution_count": 1,
   "metadata": {},
   "outputs": [
    {
     "name": "stdout",
     "output_type": "stream",
     "text": [
      "30\n",
      "-10\n",
      "200\n",
      "0.5\n"
     ]
    }
   ],
   "source": [
    "x,y = 10, 20\n",
    " \n",
    "#addition\n",
    "print (x+y)\n",
    "\n",
    "#sub\n",
    "print (x-y)\n",
    "\n",
    "#mul\n",
    "print (x*y)\n",
    "\n",
    "#div\n",
    "print (x/y)\n",
    "\n"
   ]
  },
  {
   "cell_type": "code",
   "execution_count": 2,
   "metadata": {},
   "outputs": [
    {
     "name": "stdout",
     "output_type": "stream",
     "text": [
      "1\n"
     ]
    }
   ],
   "source": [
    "#modulo division \n",
    "print (15%2)                          # 2)15(7\n",
    "                                      # ___14\n",
    "                                      #   1 :  1 is remiender and hear it is Output"
   ]
  },
  {
   "cell_type": "code",
   "execution_count": 3,
   "metadata": {},
   "outputs": [
    {
     "name": "stdout",
     "output_type": "stream",
     "text": [
      "7\n"
     ]
    }
   ],
   "source": [
    "#Floor Division\n",
    "print (15//2)                    # 15/2  = 7.5\n",
    "                                #    ___>>____|____|______|___\n",
    "                                 #   0       7 <  7.5 <  8\n",
    "                            #output is whis is closest value to 7.5 and less than 7.5 so hear it is 7 is output value.\n",
    "                                   "
   ]
  },
  {
   "cell_type": "code",
   "execution_count": 6,
   "metadata": {},
   "outputs": [
    {
     "name": "stdout",
     "output_type": "stream",
     "text": [
      "-8\n"
     ]
    }
   ],
   "source": [
    "#Floor divisoin\n",
    "print (-15//2)                          #-15/2 == -7.5\n",
    "                                     #_____|______|______|____>> |\n",
    "                                     #     -8 < -7.5 <   -7     0\n",
    "                            #output is whis is closest value to -7.5 and less than -7.5 so hear it is -8 is output value."
   ]
  },
  {
   "cell_type": "code",
   "execution_count": 8,
   "metadata": {},
   "outputs": [
    {
     "name": "stdout",
     "output_type": "stream",
     "text": [
      "8\n"
     ]
    }
   ],
   "source": [
    "#Exponent(**)\n",
    "print (2**3)\n",
    "                                #x**y= x power y"
   ]
  },
  {
   "cell_type": "markdown",
   "metadata": {},
   "source": [
    "# Comparision Operators"
   ]
  },
  {
   "cell_type": "markdown",
   "metadata": {},
   "source": [
    "These are used for comparision of values either True or False according to conditon\n",
    "  >,<, ==, !=, >=, <=,\n"
   ]
  },
  {
   "cell_type": "code",
   "execution_count": 9,
   "metadata": {},
   "outputs": [
    {
     "name": "stdout",
     "output_type": "stream",
     "text": [
      "True\n",
      "False\n",
      "False\n",
      "True\n",
      "False\n",
      "True\n"
     ]
    }
   ],
   "source": [
    "a,b = 10, 20\n",
    "\n",
    "print(a<b)\n",
    "print(a>b)\n",
    "print(a==b)\n",
    "print (a!=b)\n",
    "print (a>=b)\n",
    "print (a<=b)"
   ]
  },
  {
   "cell_type": "markdown",
   "metadata": {},
   "source": [
    "# Logical Operators"
   ]
  },
  {
   "cell_type": "markdown",
   "metadata": {},
   "source": [
    "these are using directly with names.\n",
    "and, or, not."
   ]
  },
  {
   "cell_type": "code",
   "execution_count": 16,
   "metadata": {},
   "outputs": [
    {
     "name": "stdout",
     "output_type": "stream",
     "text": [
      "False\n",
      "True\n"
     ]
    }
   ],
   "source": [
    "a, b = True, False\n",
    "print (a and b)       # 1 * 0  = 0 (False)\n",
    "print (a or b)        # 1 + 0  = 1 (True)\n"
   ]
  },
  {
   "cell_type": "markdown",
   "metadata": {},
   "source": [
    "# Bitwise Operators"
   ]
  },
  {
   "cell_type": "markdown",
   "metadata": {},
   "source": [
    "these are acts as operands as if they were string of binary digits, It operates bit by bit.\n",
    "           &,|,~,^,>>,<<"
   ]
  },
  {
   "cell_type": "code",
   "execution_count": 17,
   "metadata": {},
   "outputs": [
    {
     "name": "stdout",
     "output_type": "stream",
     "text": [
      "0\n"
     ]
    }
   ],
   "source": [
    "a, b = 10, 4\n",
    "#bitwise AND\n",
    "print (a&b)                       "
   ]
  },
  {
   "cell_type": "markdown",
   "metadata": {},
   "source": [
    "1. in according to    8      4    21code \n",
    " 10= value    is    1      0    1    0   that is (2 power 3, 2 power 2, 2 power 1 and 2 power 0)\n",
    "2.  according to 8421 code 4 value is   0100 is (2power 2).\n",
    "\n",
    "3.  1 0 1 0\n",
    "4.  x x x x   muliplication \n",
    "5.  0 1 0 0\n",
    "6.  0 0 0 0   result is 0\n",
    "\n"
   ]
  },
  {
   "cell_type": "code",
   "execution_count": 19,
   "metadata": {},
   "outputs": [
    {
     "name": "stdout",
     "output_type": "stream",
     "text": [
      "14\n"
     ]
    }
   ],
   "source": [
    "a, b = 10, 4\n",
    "print (a|b)                              # 1 0 1 0    = 10 (8421) value\n",
    "                                         # 0 1 0 0    = 4  (8421) value\n",
    "                  # (or) operation result  1 1 1 0    = 14 (8421) value."
   ]
  },
  {
   "cell_type": "code",
   "execution_count": 26,
   "metadata": {},
   "outputs": [
    {
     "ename": "SyntaxError",
     "evalue": "invalid syntax (<ipython-input-26-8fe291a9910a>, line 3)",
     "output_type": "error",
     "traceback": [
      "\u001b[0;36m  File \u001b[0;32m\"<ipython-input-26-8fe291a9910a>\"\u001b[0;36m, line \u001b[0;32m3\u001b[0m\n\u001b[0;31m    print (!a)                     # 10 = 1010 ---->  not --->    0101=5\u001b[0m\n\u001b[0m           ^\u001b[0m\n\u001b[0;31mSyntaxError\u001b[0m\u001b[0;31m:\u001b[0m invalid syntax\n"
     ]
    }
   ],
   "source": [
    "#Bitwise Not\n",
    "a, b = 10, 4\n",
    "print (!a)                     # 10 = 1010 ---->  not --->    0101=5\n",
    "print (!b)                     #  4 = 0100 ---->  not --->    1011=11"
   ]
  },
  {
   "cell_type": "code",
   "execution_count": 96,
   "metadata": {},
   "outputs": [
    {
     "name": "stdout",
     "output_type": "stream",
     "text": [
      "10\n"
     ]
    }
   ],
   "source": [
    "a=1*2**3+0*2**2+1*2**1+0*2**0    # according to 8421 code  1 x 2**3 (2 to the power of 3) + 0x2**2 + 1x2**1 + 0*2**0\n",
    "print(a)                    #1 x 2**3 (2 to the power of 3) + 0x2**2 + 1x2**1 + 0*2**0"
   ]
  },
  {
   "cell_type": "code",
   "execution_count": 98,
   "metadata": {},
   "outputs": [
    {
     "name": "stdout",
     "output_type": "stream",
     "text": [
      "4\n"
     ]
    }
   ],
   "source": [
    "b=0*2**3+1*2**2+0*2**1+0*2**0\n",
    "print (b)"
   ]
  },
  {
   "cell_type": "code",
   "execution_count": 100,
   "metadata": {},
   "outputs": [],
   "source": [
    "# & binary AND  (a and b) means (0010 1010) "
   ]
  },
  {
   "cell_type": "code",
   "execution_count": null,
   "metadata": {},
   "outputs": [],
   "source": [
    "# | binary OR   (a or b) means (0010  1001)"
   ]
  },
  {
   "cell_type": "markdown",
   "metadata": {},
   "source": [
    "binary XOR (^)"
   ]
  },
  {
   "cell_type": "code",
   "execution_count": 109,
   "metadata": {},
   "outputs": [
    {
     "name": "stdout",
     "output_type": "stream",
     "text": [
      "49\n"
     ]
    }
   ],
   "source": [
    "a = 60                                   # binary code 128 64 32 16 8 4 2 1    (0011 1100)\n",
    "b = 13                                   # binary code (0   0  0  0 1 1 0 1)   (0000 1101)\n",
    "c= a^b                                   #  XOR result is                      (0011 0001)\n",
    "print (c)"
   ]
  },
  {
   "cell_type": "markdown",
   "metadata": {},
   "source": [
    "binary ones complement means a = ~a like (1100 --> 0011)\n",
    "  1's are changes to 0's and 0's changes to 1's"
   ]
  },
  {
   "cell_type": "code",
   "execution_count": 1,
   "metadata": {},
   "outputs": [
    {
     "name": "stdout",
     "output_type": "stream",
     "text": [
      "-61\n",
      "-14\n"
     ]
    }
   ],
   "source": [
    "a = 60                                   # binary code 128 64 32 16 8 4 2 1 (0011 1100)\n",
    "b = 13                                   # binary code (0   0  0  0 1 1 0 1)\n",
    "c = ~a                                 # ones complement (1100 0011)  ----> ~60 equal to -61 in binary representation\n",
    "d = ~b                                 # ones complement (1111 0010)  ----> ~13 equal to -14 in binary representation\n",
    "print(c)\n",
    "print(d)"
   ]
  },
  {
   "cell_type": "markdown",
   "metadata": {},
   "source": [
    "(~) not is reverse value of given input with 1 increment means 1's complement 1 added to en of the binary code means it will increase by 1 value\n",
    "\n",
    "2. if input is any positive value then output is negetive with increment 1 (+1) value\n",
    "\n",
    "3. if input is any negetive value then output is positive with decrement 1 (-1) value\n"
   ]
  },
  {
   "cell_type": "code",
   "execution_count": 4,
   "metadata": {},
   "outputs": [
    {
     "name": "stdout",
     "output_type": "stream",
     "text": [
      "-21\n",
      "-11\n",
      "-41\n",
      "-81\n"
     ]
    }
   ],
   "source": [
    "#for positive values\n",
    "a = 20\n",
    "b = 10\n",
    "c = 40\n",
    "d = 80\n",
    "\n",
    "print(~a) \n",
    "print(~b)  \n",
    "print(~c)\n",
    "print(~d)"
   ]
  },
  {
   "cell_type": "code",
   "execution_count": 5,
   "metadata": {},
   "outputs": [
    {
     "name": "stdout",
     "output_type": "stream",
     "text": [
      "19\n",
      "9\n",
      "39\n",
      "79\n"
     ]
    }
   ],
   "source": [
    "# for negetive values\n",
    "a = -20\n",
    "b = -10\n",
    "c = -40\n",
    "d = -80\n",
    "\n",
    "print(~a) \n",
    "print(~b)  \n",
    "print(~c)\n",
    "print(~d)"
   ]
  },
  {
   "cell_type": "code",
   "execution_count": null,
   "metadata": {},
   "outputs": [],
   "source": [
    "binary left shift (<<)\n"
   ]
  },
  {
   "cell_type": "code",
   "execution_count": 102,
   "metadata": {},
   "outputs": [
    {
     "name": "stdout",
     "output_type": "stream",
     "text": [
      "240\n"
     ]
    }
   ],
   "source": [
    "a = 60   # binary code 128 64 32 16 8 4 2 1 (0011 1100)\n",
    "b= 13    # binary code (0   0  0  0 1 1 0 1)\n",
    "  \n",
    "c= a << 2  # 2 zeros shift  from left to right (0011 1100) then the result is  (1111 0000)--->240\n",
    "print (c)"
   ]
  },
  {
   "cell_type": "code",
   "execution_count": 6,
   "metadata": {},
   "outputs": [
    {
     "name": "stdout",
     "output_type": "stream",
     "text": [
      "120\n"
     ]
    }
   ],
   "source": [
    "a = 60   # binary code 128 64 32 16 8 4 2 1 (0011 1100)\n",
    "b= 13    # binary code (0   0  0  0 1 1 0 1)\n",
    "  \n",
    "c= a << 1  # 1 zero shift  from left to right  (0011 1100) then the result is  (0111 1000)--->120\n",
    "print (c)"
   ]
  },
  {
   "cell_type": "code",
   "execution_count": 4,
   "metadata": {},
   "outputs": [
    {
     "name": "stdout",
     "output_type": "stream",
     "text": [
      "15360\n"
     ]
    }
   ],
   "source": [
    "a = 60   # binary code 128 64 32 16 8 4 2 1 (0011 1100)\n",
    "b= 13    # binary code (0   0  0  0 1 1 0 1)\n",
    "  \n",
    "c= a << 8  #if 8 zeros shift  from left side then the result is  (0011 1100 0000 0000)---> 15360\n",
    "print (c)"
   ]
  },
  {
   "cell_type": "markdown",
   "metadata": {},
   "source": [
    " binary right shift (>>)"
   ]
  },
  {
   "cell_type": "code",
   "execution_count": 105,
   "metadata": {},
   "outputs": [
    {
     "name": "stdout",
     "output_type": "stream",
     "text": [
      "15\n"
     ]
    }
   ],
   "source": [
    "a = 60   # binary code 128 64 32 16 8 4 2 1 (0011 1100)\n",
    "b= 13    # binary code (0   0  0  0 1 1 0 1)\n",
    "  \n",
    "c= a >> 2  #if 2 zeros shift  from right side then the result is  (0000 1111)--->15\n",
    "print (c)"
   ]
  },
  {
   "cell_type": "code",
   "execution_count": 106,
   "metadata": {},
   "outputs": [
    {
     "name": "stdout",
     "output_type": "stream",
     "text": [
      "3\n"
     ]
    }
   ],
   "source": [
    "a = 60   # binary code 128 64 32 16 8 4 2 1 (0011 1100)\n",
    "b= 13    # binary code (0   0  0  0 1 1 0 1)\n",
    "  \n",
    "c= b >> 2  #if 2 zeros shift  from right side then the result is  (0000 0011)--->3\n",
    "print (c)"
   ]
  },
  {
   "cell_type": "markdown",
   "metadata": {},
   "source": [
    "# Assignment Operators"
   ]
  },
  {
   "cell_type": "markdown",
   "metadata": {},
   "source": [
    "used for assign values for variables \n",
    "=, +=, -=, *=, %=, //=, &=, |=, ^=, >>=,<<= "
   ]
  },
  {
   "cell_type": "code",
   "execution_count": 37,
   "metadata": {},
   "outputs": [
    {
     "name": "stdout",
     "output_type": "stream",
     "text": [
      "10\n",
      "20\n",
      "10\n",
      "100\n",
      "0\n",
      "0\n",
      "0\n",
      "10\n",
      "0\n",
      "0\n"
     ]
    }
   ],
   "source": [
    "a = 10\n",
    "\n",
    "print(a)\n",
    "\n",
    "a += 10                         # a = a + 10\n",
    "print (a)\n",
    "\n",
    "a -= 10                         # a = a - 10\n",
    "print (a)\n",
    "\n",
    "a *= 10                         # a = a * 10\n",
    "print (a)\n",
    "\n",
    "a %= 10                         # a = a % 10\n",
    "print (a)\n",
    "\n",
    "a //= 10                        # a = a // 10\n",
    "print (a)\n",
    "\n",
    "a &= 10                         # a = a & 10\n",
    "print (a)\n",
    "\n",
    "a |= 10                         # a = a | 10\n",
    "print (a)\n",
    "\n",
    "a >>= 10                        # a = a >>= 10\n",
    "print (a)\n",
    "\n",
    "a <<= 10                        # a = a <<= 10\n",
    "print (a)\n"
   ]
  },
  {
   "cell_type": "code",
   "execution_count": 12,
   "metadata": {},
   "outputs": [
    {
     "name": "stdout",
     "output_type": "stream",
     "text": [
      "0\n",
      "1\n",
      "3\n",
      "6\n",
      "10\n",
      "15\n",
      "21\n",
      "28\n",
      "36\n",
      "45\n"
     ]
    }
   ],
   "source": [
    "t = 0\n",
    "for i in range(10):\n",
    "    t += i   \n",
    "    print(t)"
   ]
  },
  {
   "cell_type": "code",
   "execution_count": 10,
   "metadata": {},
   "outputs": [
    {
     "name": "stdout",
     "output_type": "stream",
     "text": [
      "Enter a number: 2\n",
      "2 * 1 = 2\n",
      "2 * 2 = 4\n",
      "2 * 3 = 6\n",
      "2 * 4 = 8\n",
      "2 * 5 = 10\n",
      "2 * 6 = 12\n",
      "2 * 7 = 14\n",
      "2 * 8 = 16\n",
      "2 * 9 = 18\n",
      "2 * 10 = 20\n"
     ]
    }
   ],
   "source": [
    "a = 0\n",
    "n=int(input(\"Enter a number: \"))\n",
    "for i in range(1,11):\n",
    "   \n",
    "    print(n,'*',i,'=',i * n)\n",
    "    "
   ]
  },
  {
   "cell_type": "code",
   "execution_count": 16,
   "metadata": {},
   "outputs": [
    {
     "ename": "SyntaxError",
     "evalue": "invalid syntax (<ipython-input-16-2c18c75258b0>, line 4)",
     "output_type": "error",
     "traceback": [
      "\u001b[0;36m  File \u001b[0;32m\"<ipython-input-16-2c18c75258b0>\"\u001b[0;36m, line \u001b[0;32m4\u001b[0m\n\u001b[0;31m    l.append(t += i)\u001b[0m\n\u001b[0m                ^\u001b[0m\n\u001b[0;31mSyntaxError\u001b[0m\u001b[0;31m:\u001b[0m invalid syntax\n"
     ]
    }
   ],
   "source": [
    "l = []\n",
    "t = 0\n",
    "for i in range(10):\n",
    "    l.append(t += i)   \n",
    "print(l)"
   ]
  },
  {
   "cell_type": "code",
   "execution_count": 29,
   "metadata": {},
   "outputs": [
    {
     "name": "stdout",
     "output_type": "stream",
     "text": [
      "0\n"
     ]
    }
   ],
   "source": [
    "print (a)"
   ]
  },
  {
   "cell_type": "code",
   "execution_count": 43,
   "metadata": {},
   "outputs": [
    {
     "name": "stdout",
     "output_type": "stream",
     "text": [
      "8\n"
     ]
    }
   ],
   "source": [
    "a=4\n",
    "a += 4\n",
    "print (a)      # a = a + 4  = 8"
   ]
  },
  {
   "cell_type": "code",
   "execution_count": 45,
   "metadata": {},
   "outputs": [
    {
     "name": "stdout",
     "output_type": "stream",
     "text": [
      "4\n",
      "6\n"
     ]
    }
   ],
   "source": [
    "a=4\n",
    "b=2\n",
    "b += 4\n",
    "print (a)\n",
    "print (b)   # b = b + 4 = 6 "
   ]
  },
  {
   "cell_type": "code",
   "execution_count": 47,
   "metadata": {},
   "outputs": [
    {
     "name": "stdout",
     "output_type": "stream",
     "text": [
      "14\n"
     ]
    }
   ],
   "source": [
    "a=4\n",
    "b += 4\n",
    "print (b)   # b = above b value 6 + 4 = 10"
   ]
  },
  {
   "cell_type": "code",
   "execution_count": 48,
   "metadata": {},
   "outputs": [
    {
     "name": "stdout",
     "output_type": "stream",
     "text": [
      "16\n"
     ]
    }
   ],
   "source": [
    "a=8\n",
    "a += 8\n",
    "print(a)"
   ]
  },
  {
   "cell_type": "code",
   "execution_count": 17,
   "metadata": {},
   "outputs": [
    {
     "name": "stdout",
     "output_type": "stream",
     "text": [
      "122\n"
     ]
    }
   ],
   "source": [
    "a = 120\n",
    "\n",
    "a += 2\n",
    "\n",
    "print(a)"
   ]
  },
  {
   "cell_type": "markdown",
   "metadata": {},
   "source": [
    "# Special Operators\n"
   ]
  },
  {
   "cell_type": "markdown",
   "metadata": {},
   "source": [
    "# 1.Identity Operators"
   ]
  },
  {
   "cell_type": "markdown",
   "metadata": {},
   "source": [
    "is and is not  are identity operators \n",
    "if two variables are placed at same location of memory"
   ]
  },
  {
   "cell_type": "code",
   "execution_count": 50,
   "metadata": {},
   "outputs": [
    {
     "name": "stdout",
     "output_type": "stream",
     "text": [
      "True\n"
     ]
    }
   ],
   "source": [
    "a = 5\n",
    "b = 5\n",
    "print (a is b)             #only for thi like variables"
   ]
  },
  {
   "cell_type": "code",
   "execution_count": 55,
   "metadata": {},
   "outputs": [
    {
     "name": "stdout",
     "output_type": "stream",
     "text": [
      "False\n"
     ]
    }
   ],
   "source": [
    "l1 = [1, 2, 3]\n",
    "l2 = [1, 2, 3]\n",
    "print (l1 is l2)       # some times is  no for list, tuple or dictionies"
   ]
  },
  {
   "cell_type": "code",
   "execution_count": 56,
   "metadata": {},
   "outputs": [
    {
     "name": "stdout",
     "output_type": "stream",
     "text": [
      "False\n"
     ]
    }
   ],
   "source": [
    "t1 = (1, 2, 3)\n",
    "t2 = (1, 2, 3)\n",
    "\n",
    "print (t1 is t2)"
   ]
  },
  {
   "cell_type": "code",
   "execution_count": 58,
   "metadata": {},
   "outputs": [
    {
     "name": "stdout",
     "output_type": "stream",
     "text": [
      "True\n"
     ]
    }
   ],
   "source": [
    "# for strings\n",
    "s1 = \"AAIC\"\n",
    "s2 = \"AAIC\"\n",
    "print (s1 is s2)         \n"
   ]
  },
  {
   "cell_type": "code",
   "execution_count": 6,
   "metadata": {},
   "outputs": [
    {
     "ename": "NameError",
     "evalue": "name 's2' is not defined",
     "output_type": "error",
     "traceback": [
      "\u001b[0;31m---------------------------------------------------------------------------\u001b[0m",
      "\u001b[0;31mNameError\u001b[0m                                 Traceback (most recent call last)",
      "\u001b[0;32m<ipython-input-6-dee45f0ec644>\u001b[0m in \u001b[0;36m<module>\u001b[0;34m\u001b[0m\n\u001b[1;32m      1\u001b[0m \u001b[0ms1\u001b[0m\u001b[0;34m=\u001b[0m\u001b[0;34m\"AAIC MACHINE LEARNING COURSE\"\u001b[0m\u001b[0;34m\u001b[0m\u001b[0;34m\u001b[0m\u001b[0m\n\u001b[1;32m      2\u001b[0m \u001b[0mS2\u001b[0m\u001b[0;34m=\u001b[0m\u001b[0;34m\"AAIC MACHINE LEARNING COURSE\"\u001b[0m\u001b[0;34m\u001b[0m\u001b[0;34m\u001b[0m\u001b[0m\n\u001b[0;32m----> 3\u001b[0;31m \u001b[0mprint\u001b[0m\u001b[0;34m(\u001b[0m\u001b[0ms1\u001b[0m \u001b[0;32mis\u001b[0m \u001b[0ms2\u001b[0m\u001b[0;34m)\u001b[0m\u001b[0;34m\u001b[0m\u001b[0;34m\u001b[0m\u001b[0m\n\u001b[0m",
      "\u001b[0;31mNameError\u001b[0m: name 's2' is not defined"
     ]
    }
   ],
   "source": [
    "s1=\"AAIC MACHINE LEARNING COURSE\"\n",
    "S2=\"AAIC MACHINE LEARNING COURSE\"\n",
    "print(s1 is s2)                         "
   ]
  },
  {
   "cell_type": "markdown",
   "metadata": {},
   "source": [
    "1. \"is\" is True is applicable for only integers and small strings\n",
    "the integer range from -5 to 256 in between this integers will not allocate new object.\n",
    "above the range 256 integers are allocate new objective memory location than result shows False.\n",
    "2. in strings \"is\" is applicable for small strings with some letters or numbers or underscores but not for space in strings"
   ]
  },
  {
   "cell_type": "code",
   "execution_count": 10,
   "metadata": {},
   "outputs": [
    {
     "name": "stdout",
     "output_type": "stream",
     "text": [
      "True\n"
     ]
    }
   ],
   "source": [
    "s1= \"AAICMACHINELEARNINGCOURSE\"\n",
    "s2= \"AAICMACHINELEARNINGCOURSE\"\n",
    "print(s1 is s2)                       "
   ]
  },
  {
   "cell_type": "code",
   "execution_count": 18,
   "metadata": {},
   "outputs": [
    {
     "name": "stdout",
     "output_type": "stream",
     "text": [
      "False\n"
     ]
    }
   ],
   "source": [
    "s1= \"AAICMACHINE LEARNINGCOURSE\"\n",
    "s2= \"AAICMACHINE LEARNINGCOURSE\"\n",
    "print(s1 is s2)                       "
   ]
  },
  {
   "cell_type": "code",
   "execution_count": 19,
   "metadata": {},
   "outputs": [
    {
     "name": "stdout",
     "output_type": "stream",
     "text": [
      "False\n"
     ]
    }
   ],
   "source": [
    "s1= \"AAICMACHINE@LEARNINGCOURSE\"\n",
    "s2= \"AAICMACHINE@LEARNINGCOURSE\"\n",
    "print(s1 is s2)                       "
   ]
  },
  {
   "cell_type": "code",
   "execution_count": 20,
   "metadata": {},
   "outputs": [
    {
     "name": "stdout",
     "output_type": "stream",
     "text": [
      "True\n"
     ]
    }
   ],
   "source": [
    "s1= \"AAICMACHINELEARNINGCOURSE\"\n",
    "s2= \"AAICMACHINELEARNINGCOURSE\"\n",
    "print(s1 is s2)                       "
   ]
  },
  {
   "cell_type": "code",
   "execution_count": 63,
   "metadata": {},
   "outputs": [
    {
     "name": "stdout",
     "output_type": "stream",
     "text": [
      "True\n"
     ]
    }
   ],
   "source": [
    "a=\"h\"\n",
    "b=\"h\"\n",
    "print (a is b)"
   ]
  },
  {
   "cell_type": "code",
   "execution_count": 68,
   "metadata": {},
   "outputs": [
    {
     "name": "stdout",
     "output_type": "stream",
     "text": [
      "True\n"
     ]
    }
   ],
   "source": [
    "c= \"hello\"\n",
    "d= \"hello\"\n",
    "print (c is d)"
   ]
  },
  {
   "cell_type": "code",
   "execution_count": 67,
   "metadata": {},
   "outputs": [
    {
     "name": "stdout",
     "output_type": "stream",
     "text": [
      "False\n"
     ]
    }
   ],
   "source": [
    "c= \"Hello good morning\"\n",
    "d= \"Hello good morning\"\n",
    "print (c is d)"
   ]
  },
  {
   "cell_type": "code",
   "execution_count": 69,
   "metadata": {},
   "outputs": [
    {
     "name": "stdout",
     "output_type": "stream",
     "text": [
      "True\n"
     ]
    }
   ],
   "source": [
    "c= \"Hellogoodmorning\"\n",
    "d= \"Hellogoodmorning\"\n",
    "print (c is d)"
   ]
  },
  {
   "cell_type": "code",
   "execution_count": 72,
   "metadata": {},
   "outputs": [
    {
     "name": "stdout",
     "output_type": "stream",
     "text": [
      "True\n",
      "True\n"
     ]
    }
   ],
   "source": [
    "a=\"hello123\"\n",
    "b=\"hello123\"\n",
    "print (a is b)\n",
    "print (a == b)"
   ]
  },
  {
   "cell_type": "markdown",
   "metadata": {},
   "source": [
    "# Membership Operators"
   ]
  },
  {
   "cell_type": "markdown",
   "metadata": {},
   "source": [
    "\"in\" and \"not in\" are membership operators\n",
    "used to best whether a value or variable is found in sequence (string, list, tuple and dictionary)"
   ]
  },
  {
   "cell_type": "code",
   "execution_count": 83,
   "metadata": {},
   "outputs": [
    {
     "name": "stdout",
     "output_type": "stream",
     "text": [
      "True\n"
     ]
    }
   ],
   "source": [
    "lst=[1,2,3,4]\n",
    "print(1 in lst)"
   ]
  },
  {
   "cell_type": "code",
   "execution_count": 85,
   "metadata": {},
   "outputs": [
    {
     "name": "stdout",
     "output_type": "stream",
     "text": [
      "True\n"
     ]
    }
   ],
   "source": [
    "d={1:\"a\",2:\"b\"}\n",
    "print (1 in d)     # only works for keys not for values in dictionary."
   ]
  }
 ],
 "metadata": {
  "kernelspec": {
   "display_name": "Python 3",
   "language": "python",
   "name": "python3"
  },
  "language_info": {
   "codemirror_mode": {
    "name": "ipython",
    "version": 3
   },
   "file_extension": ".py",
   "mimetype": "text/x-python",
   "name": "python",
   "nbconvert_exporter": "python",
   "pygments_lexer": "ipython3",
   "version": "3.6.7"
  }
 },
 "nbformat": 4,
 "nbformat_minor": 2
}
