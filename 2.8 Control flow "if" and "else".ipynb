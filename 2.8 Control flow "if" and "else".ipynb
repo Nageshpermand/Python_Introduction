{
 "cells": [
  {
   "cell_type": "markdown",
   "metadata": {},
   "source": [
    "if and else using for decision making"
   ]
  },
  {
   "cell_type": "code",
   "execution_count": 1,
   "metadata": {},
   "outputs": [
    {
     "name": "stdout",
     "output_type": "stream",
     "text": [
      "this will print always\n"
     ]
    }
   ],
   "source": [
    "num = 10\n",
    "if num > 10:\n",
    "    print (\"number is positive\")\n",
    "print(\"this will print always\")"
   ]
  },
  {
   "cell_type": "code",
   "execution_count": 2,
   "metadata": {},
   "outputs": [
    {
     "name": "stdout",
     "output_type": "stream",
     "text": [
      "number is positive\n",
      "this will print always\n"
     ]
    }
   ],
   "source": [
    "num = 10\n",
    "if num == 10:\n",
    "    print (\"number is positive\")\n",
    "print(\"this will print always\")"
   ]
  },
  {
   "cell_type": "code",
   "execution_count": 3,
   "metadata": {},
   "outputs": [
    {
     "name": "stdout",
     "output_type": "stream",
     "text": [
      "this will print always\n"
     ]
    }
   ],
   "source": [
    "num = 10\n",
    "if num - 10:                           # 10-10 = 0 (0 is False so it will not print )\n",
    "    print (\"number is positive\")\n",
    "print(\"this will print always\")"
   ]
  },
  {
   "cell_type": "code",
   "execution_count": 5,
   "metadata": {},
   "outputs": [
    {
     "name": "stdout",
     "output_type": "stream",
     "text": [
      "this will print always\n"
     ]
    }
   ],
   "source": [
    "num = 10\n",
    "if 0:                           #  0 (0 is False so it will not print )\n",
    "    print (\"number is positive\")\n",
    "print(\"this will print always\")"
   ]
  },
  {
   "cell_type": "code",
   "execution_count": 1,
   "metadata": {},
   "outputs": [
    {
     "name": "stdout",
     "output_type": "stream",
     "text": [
      "this will print always\n"
     ]
    }
   ],
   "source": [
    "num = 10\n",
    "if False:                          \n",
    "    print (\"number is positive\")\n",
    "print(\"this will print always\")"
   ]
  },
  {
   "cell_type": "code",
   "execution_count": 2,
   "metadata": {},
   "outputs": [
    {
     "name": "stdout",
     "output_type": "stream",
     "text": [
      "number is positive\n",
      "this will print always\n"
     ]
    }
   ],
   "source": [
    "num = 10\n",
    "if True:                          \n",
    "    print (\"number is positive\")\n",
    "print(\"this will print always\")"
   ]
  },
  {
   "cell_type": "code",
   "execution_count": 6,
   "metadata": {},
   "outputs": [
    {
     "name": "stdout",
     "output_type": "stream",
     "text": [
      "this will print always\n"
     ]
    }
   ],
   "source": [
    "num = 10\n",
    "if 10-10:                           # 10-10 = 0 (0 is False so it will not print )\n",
    "    print (\"number is positive\")\n",
    "print(\"this will print always\")"
   ]
  },
  {
   "cell_type": "code",
   "execution_count": 4,
   "metadata": {},
   "outputs": [
    {
     "name": "stdout",
     "output_type": "stream",
     "text": [
      "number is positive\n",
      "this will print always\n"
     ]
    }
   ],
   "source": [
    "num = 10\n",
    "if -1:                                # any number except \"0\" is always True so it will print\n",
    "    print (\"number is positive\")\n",
    "print(\"this will print always\")"
   ]
  },
  {
   "cell_type": "code",
   "execution_count": 8,
   "metadata": {},
   "outputs": [
    {
     "name": "stdout",
     "output_type": "stream",
     "text": [
      "number is positive\n",
      "this will print always\n"
     ]
    }
   ],
   "source": [
    "num = 10\n",
    "if 2:                           # any number except \"0\" is always True so it will print\n",
    "    print (\"number is positive\")\n",
    "print(\"this will print always\")"
   ]
  },
  {
   "cell_type": "code",
   "execution_count": 10,
   "metadata": {},
   "outputs": [
    {
     "name": "stdout",
     "output_type": "stream",
     "text": [
      "yes\n"
     ]
    }
   ],
   "source": [
    "num = 10\n",
    "if num>0:\n",
    "    print(\"yes\")\n",
    "else:\n",
    "    print(\"no\")"
   ]
  },
  {
   "cell_type": "code",
   "execution_count": 1,
   "metadata": {},
   "outputs": [
    {
     "name": "stdout",
     "output_type": "stream",
     "text": [
      "positive number\n"
     ]
    }
   ],
   "source": [
    "num = 10.5\n",
    "if num>0:\n",
    "   \n",
    "    if num==0:\n",
    "        print (\"zero\")\n",
    "    else:\n",
    "        print(\"positive number\")\n",
    "else:\n",
    "    print(\"negetive number\")"
   ]
  },
  {
   "cell_type": "code",
   "execution_count": 11,
   "metadata": {},
   "outputs": [
    {
     "name": "stdout",
     "output_type": "stream",
     "text": [
      "positive number\n"
     ]
    }
   ],
   "source": [
    "num = 10.5\n",
    "if num>0:\n",
    "    print(\"positive number\")\n",
    "elif num==0:\n",
    "    print (\"zero\")\n",
    "else:\n",
    "    print(\"negetive number\")"
   ]
  },
  {
   "cell_type": "code",
   "execution_count": 12,
   "metadata": {},
   "outputs": [
    {
     "name": "stdout",
     "output_type": "stream",
     "text": [
      "positive number\n"
     ]
    }
   ],
   "source": [
    "num = 10.5\n",
    "if num>0:\n",
    "    print(\"positive number\")\n",
    "elif num==0:\n",
    "    print (\"zero\")\n",
    "else:\n",
    "    print(\"negetive number\")"
   ]
  },
  {
   "cell_type": "code",
   "execution_count": 4,
   "metadata": {},
   "outputs": [
    {
     "name": "stdout",
     "output_type": "stream",
     "text": [
      "hello\n"
     ]
    }
   ],
   "source": [
    "num = 10.4\n",
    "if num>12:\n",
    "    print(\"positive number\")\n",
    "elif num==10.4:\n",
    "    print (\"hello\")\n",
    "else:\n",
    "    print(\"negetive number\")"
   ]
  },
  {
   "cell_type": "code",
   "execution_count": 3,
   "metadata": {},
   "outputs": [
    {
     "name": "stdout",
     "output_type": "stream",
     "text": [
      "negetive number\n"
     ]
    }
   ],
   "source": [
    "num = 10.4\n",
    "if num>12:\n",
    "    print(\"positive number\")\n",
    "elif num==10.2:\n",
    "    print (\"hello\")\n",
    "else:\n",
    "    print(\"negetive number\")"
   ]
  },
  {
   "cell_type": "code",
   "execution_count": 2,
   "metadata": {},
   "outputs": [
    {
     "name": "stdout",
     "output_type": "stream",
     "text": [
      "negetive number\n"
     ]
    }
   ],
   "source": [
    "num = 10.4\n",
    "if num>12:\n",
    "    print(\"positive number\")\n",
    "elif num!=10.4:\n",
    "    print (\"hello\")\n",
    "else:\n",
    "    print(\"negetive number\")"
   ]
  },
  {
   "cell_type": "markdown",
   "metadata": {},
   "source": [
    "# nested \"if\", \"else"
   ]
  },
  {
   "cell_type": "code",
   "execution_count": 13,
   "metadata": {},
   "outputs": [
    {
     "name": "stdout",
     "output_type": "stream",
     "text": [
      "positive number\n"
     ]
    }
   ],
   "source": [
    "num = 10.5\n",
    "if num>0:\n",
    "    if num == 0:\n",
    "        print (\"zero\")\n",
    "    else:\n",
    "        print(\"positive number\")\n",
    "else:\n",
    "    print(\"negetive number\")"
   ]
  },
  {
   "cell_type": "code",
   "execution_count": 14,
   "metadata": {},
   "outputs": [
    {
     "name": "stdout",
     "output_type": "stream",
     "text": [
      "negetive number\n"
     ]
    }
   ],
   "source": [
    "num = 0\n",
    "if num>0:\n",
    "    if num == 0:\n",
    "        print (\"zero\")\n",
    "    else:\n",
    "        print(\"positive number\")\n",
    "else:\n",
    "    print(\"negetive number\")"
   ]
  },
  {
   "cell_type": "code",
   "execution_count": 15,
   "metadata": {},
   "outputs": [
    {
     "name": "stdout",
     "output_type": "stream",
     "text": [
      "positive number\n"
     ]
    }
   ],
   "source": [
    "num = 20\n",
    "if num>0:\n",
    "    if num == 0:\n",
    "        print (\"zero\")\n",
    "    else:\n",
    "        print(\"positive number\")\n",
    "else:\n",
    "    print(\"negetive number\")"
   ]
  },
  {
   "cell_type": "code",
   "execution_count": 19,
   "metadata": {},
   "outputs": [
    {
     "name": "stdout",
     "output_type": "stream",
     "text": [
      "positive number\n"
     ]
    }
   ],
   "source": [
    "num = 20\n",
    "if num>0:\n",
    "    if num == 0:\n",
    "        print (\"zero\")\n",
    "    else:\n",
    "        print(\"positive number\")\n",
    "else:\n",
    "    print(\"negetive number\")"
   ]
  },
  {
   "cell_type": "code",
   "execution_count": 20,
   "metadata": {},
   "outputs": [
    {
     "name": "stdout",
     "output_type": "stream",
     "text": [
      "positive number\n"
     ]
    }
   ],
   "source": [
    "num = 20\n",
    "if num>0:\n",
    "    if num == 0:\n",
    "        print (\"zero\")\n",
    "    else:\n",
    "        print(\"positive number\")\n",
    "else:\n",
    "    print(\"negetive number\")"
   ]
  },
  {
   "cell_type": "markdown",
   "metadata": {},
   "source": [
    " # Python program to find the largest element among these numbers"
   ]
  },
  {
   "cell_type": "code",
   "execution_count": 16,
   "metadata": {},
   "outputs": [
    {
     "name": "stdout",
     "output_type": "stream",
     "text": [
      "The largest element among three numbers is:50\n"
     ]
    }
   ],
   "source": [
    "num1=10\n",
    "num2=50\n",
    "num3=15                                           \n",
    "if(num1 >= num2) and (num1 >= num3):                       # logical operator and.\n",
    "    largest=num1\n",
    "elif (num2 >= num1) and (num2 >= num3):\n",
    "    largest = num2\n",
    "else:\n",
    "    largest = num3\n",
    "print(\"The largest element among three numbers is:{}\".format(largest))"
   ]
  },
  {
   "cell_type": "code",
   "execution_count": 17,
   "metadata": {},
   "outputs": [
    {
     "name": "stdout",
     "output_type": "stream",
     "text": [
      "50\n"
     ]
    }
   ],
   "source": [
    "num1=10\n",
    "num2=50\n",
    "num3=15                                           \n",
    "if(num1 >= num2) and (num >= num3):\n",
    "    largest=num1\n",
    "    print (largest)\n",
    "elif (num2 >= num1) and (num2 >= num3):\n",
    "    largest = num2\n",
    "    print (largest)\n",
    "else:\n",
    "    largest = num3\n",
    "    print (largest)\n"
   ]
  },
  {
   "cell_type": "code",
   "execution_count": 18,
   "metadata": {},
   "outputs": [
    {
     "name": "stdout",
     "output_type": "stream",
     "text": [
      "The largest element among three numbers is:50\n"
     ]
    }
   ],
   "source": [
    "num1=10\n",
    "num2=50\n",
    "num3=15                                           \n",
    "if(num1 >= num2) and (num >= num3):                       # logical operator and.\n",
    "    largest=num1\n",
    "elif (num2 >= num1) and (num2 >= num3):\n",
    "    largest = num2\n",
    "else:\n",
    "    largest = num3\n",
    "print(\"The largest element among three numbers is:{}\".format(largest))"
   ]
  },
  {
   "cell_type": "code",
   "execution_count": null,
   "metadata": {},
   "outputs": [],
   "source": []
  }
 ],
 "metadata": {
  "kernelspec": {
   "display_name": "Python 3",
   "language": "python",
   "name": "python3"
  },
  "language_info": {
   "codemirror_mode": {
    "name": "ipython",
    "version": 3
   },
   "file_extension": ".py",
   "mimetype": "text/x-python",
   "name": "python",
   "nbconvert_exporter": "python",
   "pygments_lexer": "ipython3",
   "version": "3.6.7"
  }
 },
 "nbformat": 4,
 "nbformat_minor": 2
}
