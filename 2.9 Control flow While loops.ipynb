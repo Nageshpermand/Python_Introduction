{
 "cells": [
  {
   "cell_type": "markdown",
   "metadata": {},
   "source": [
    "while loops using for iterate over a block of code as test expression condition is True"
   ]
  },
  {
   "cell_type": "code",
   "execution_count": 2,
   "metadata": {},
   "outputs": [
    {
     "name": "stdout",
     "output_type": "stream",
     "text": [
      "product is: 12000000\n"
     ]
    }
   ],
   "source": [
    "# find product of all numbers\n",
    "\n",
    "lst = [10, 20, 30, 40, 50]\n",
    "product=1\n",
    "index = 0\n",
    "while index<len(lst):\n",
    "    product *= lst[index]\n",
    "    index += 1\n",
    "print (\"product is: {}\".format(product))"
   ]
  },
  {
   "cell_type": "markdown",
   "metadata": {},
   "source": [
    "while loop with else"
   ]
  },
  {
   "cell_type": "code",
   "execution_count": 16,
   "metadata": {},
   "outputs": [
    {
     "name": "stdout",
     "output_type": "stream",
     "text": [
      "1\n",
      "2\n",
      "3\n",
      "no item left in the list\n"
     ]
    }
   ],
   "source": [
    "numbers = [1,2,3]\n",
    "index = 0\n",
    "while index<len(numbers):\n",
    "    print(numbers[index])\n",
    "    index += 1\n",
    "else:\n",
    "    print (\"no item left in the list\")       #here else condition using for break the iterating final value\n",
    "                                            #after theat iterating completing than comes to else condition"
   ]
  },
  {
   "cell_type": "code",
   "execution_count": 17,
   "metadata": {},
   "outputs": [
    {
     "name": "stdout",
     "output_type": "stream",
     "text": [
      "2\n",
      "3\n",
      "no item left in the list\n"
     ]
    }
   ],
   "source": [
    "numbers = [1,2,3]\n",
    "index = 1\n",
    "while index<len(numbers):\n",
    "    print(numbers[index])\n",
    "    index += 1\n",
    "else:\n",
    "    print (\"no item left in the list\")       #here else condition using for break the iterating final value\n",
    "                                            #after theat iterating completing than comes to else condition"
   ]
  },
  {
   "cell_type": "code",
   "execution_count": 18,
   "metadata": {},
   "outputs": [
    {
     "name": "stdout",
     "output_type": "stream",
     "text": [
      "4\n",
      "5\n",
      "6\n",
      "7\n",
      "8\n",
      "no item left in the list\n"
     ]
    }
   ],
   "source": [
    "numbers = [1,2,3,4,5,6,7,8]\n",
    "index = 3\n",
    "while index<8:\n",
    "    print(numbers[index])\n",
    "    index += 1\n",
    "else:\n",
    "    print (\"no item left in the list\")       #here else condition using for break the iterating final value\n",
    "                                            #after theat iterating completing than comes to else condition"
   ]
  },
  {
   "cell_type": "code",
   "execution_count": 9,
   "metadata": {},
   "outputs": [
    {
     "name": "stdout",
     "output_type": "stream",
     "text": [
      "1\n",
      "2\n",
      "3\n",
      "no item left in the list\n"
     ]
    }
   ],
   "source": [
    "numbers = [1,2,3]\n",
    "index = 0\n",
    "while index<3:\n",
    "    print(numbers[index])\n",
    "    index += 1\n",
    "else:\n",
    "    print (\"no item left in the list\")       #here else condition using for break the iterating final value"
   ]
  },
  {
   "cell_type": "code",
   "execution_count": 20,
   "metadata": {},
   "outputs": [
    {
     "name": "stdout",
     "output_type": "stream",
     "text": [
      "1\n",
      "2\n",
      "3\n",
      "no item left in the list\n"
     ]
    }
   ],
   "source": [
    "numbers = [1,2,3]\n",
    "index = 0\n",
    "while index<len(numbers):\n",
    "    print(numbers[index])\n",
    "    index += 1\n",
    "else:\n",
    "    print (\"no item left in the list\")       #here else condition using for break the iterating final value"
   ]
  },
  {
   "cell_type": "code",
   "execution_count": 21,
   "metadata": {},
   "outputs": [
    {
     "name": "stdout",
     "output_type": "stream",
     "text": [
      "1\n",
      "2\n",
      "3\n"
     ]
    },
    {
     "ename": "IndexError",
     "evalue": "list index out of range",
     "output_type": "error",
     "traceback": [
      "\u001b[0;31m---------------------------------------------------------------------------\u001b[0m",
      "\u001b[0;31mIndexError\u001b[0m                                Traceback (most recent call last)",
      "\u001b[0;32m<ipython-input-21-14eae9300d10>\u001b[0m in \u001b[0;36m<module>\u001b[0;34m\u001b[0m\n\u001b[1;32m      2\u001b[0m \u001b[0mindex\u001b[0m \u001b[0;34m=\u001b[0m \u001b[0;36m0\u001b[0m\u001b[0;34m\u001b[0m\u001b[0;34m\u001b[0m\u001b[0m\n\u001b[1;32m      3\u001b[0m \u001b[0;32mwhile\u001b[0m \u001b[0;36m0\u001b[0m\u001b[0;34m<\u001b[0m\u001b[0mlen\u001b[0m\u001b[0;34m(\u001b[0m\u001b[0mnumbers\u001b[0m\u001b[0;34m)\u001b[0m\u001b[0;34m:\u001b[0m\u001b[0;34m\u001b[0m\u001b[0;34m\u001b[0m\u001b[0m\n\u001b[0;32m----> 4\u001b[0;31m     \u001b[0mprint\u001b[0m\u001b[0;34m(\u001b[0m\u001b[0mnumbers\u001b[0m\u001b[0;34m[\u001b[0m\u001b[0mindex\u001b[0m\u001b[0;34m]\u001b[0m\u001b[0;34m)\u001b[0m\u001b[0;34m\u001b[0m\u001b[0;34m\u001b[0m\u001b[0m\n\u001b[0m\u001b[1;32m      5\u001b[0m     \u001b[0mindex\u001b[0m \u001b[0;34m+=\u001b[0m \u001b[0;36m1\u001b[0m\u001b[0;34m\u001b[0m\u001b[0;34m\u001b[0m\u001b[0m\n\u001b[1;32m      6\u001b[0m \u001b[0;32melse\u001b[0m\u001b[0;34m:\u001b[0m\u001b[0;34m\u001b[0m\u001b[0;34m\u001b[0m\u001b[0m\n",
      "\u001b[0;31mIndexError\u001b[0m: list index out of range"
     ]
    }
   ],
   "source": [
    "numbers = [1,2,3]\n",
    "index = 0\n",
    "while 0<len(numbers):\n",
    "    print(numbers[index])\n",
    "    index += 1\n",
    "else:\n",
    "    print (\"no item left in the list\")       #here else condition using for break the iterating final value"
   ]
  },
  {
   "cell_type": "code",
   "execution_count": 12,
   "metadata": {},
   "outputs": [
    {
     "name": "stdout",
     "output_type": "stream",
     "text": [
      "no item left in the list\n"
     ]
    }
   ],
   "source": [
    "numbers = [1,2,3]\n",
    "\n",
    "while index<len(numbers):\n",
    "    print(numbers[index])\n",
    "    index += 1\n",
    "else:\n",
    "    print (\"no item left in the list\")       #here else condition using for break the iterating final value"
   ]
  },
  {
   "cell_type": "markdown",
   "metadata": {},
   "source": [
    "# Python program is checking for given number is prime or not"
   ]
  },
  {
   "cell_type": "markdown",
   "metadata": {},
   "source": [
    "prime number is number which divisible by itself and 1  and no other number."
   ]
  },
  {
   "cell_type": "code",
   "execution_count": 22,
   "metadata": {},
   "outputs": [
    {
     "name": "stdout",
     "output_type": "stream",
     "text": [
      "Enter a number:19\n",
      "19 is a prime number\n"
     ]
    }
   ],
   "source": [
    "num = int(input(\"Enter a number:\"))\n",
    "isDivisible = False\n",
    "i = 2;\n",
    "while i<num:\n",
    "    if num % i == 0:\n",
    "        isDivisible = True;\n",
    "        print (\"{} is divisible by{}\".format(num,i))\n",
    "    i += 1\n",
    "if isDivisible:\n",
    "    print(\"{} is not a prime number\".format(num))\n",
    "else:\n",
    "    print(\"{} is a prime number\".format(num))"
   ]
  },
  {
   "cell_type": "code",
   "execution_count": 10,
   "metadata": {},
   "outputs": [
    {
     "name": "stdout",
     "output_type": "stream",
     "text": [
      "Enter a number:18\n",
      "18 is divisible by2\n",
      "18 is not a prime number\n"
     ]
    }
   ],
   "source": [
    "num = int(input(\"Enter a number:\"))\n",
    "isDivisible = False\n",
    "i = 2;\n",
    "while i<num:\n",
    "    if num % i == 0:\n",
    "        isDivisible = True;\n",
    "        print (\"{} is divisible by{}\".format(num,i))\n",
    "    i += i\n",
    "if isDivisible:\n",
    "    print(\"{} is not a prime number\".format(num))\n",
    "else:\n",
    "    print(\"{} is a prime number\".format(num))"
   ]
  },
  {
   "cell_type": "code",
   "execution_count": 11,
   "metadata": {},
   "outputs": [
    {
     "name": "stdout",
     "output_type": "stream",
     "text": [
      "Enter a number:25\n",
      "25 is a prime number\n"
     ]
    }
   ],
   "source": [
    "num = int(input(\"Enter a number:\"))\n",
    "isDivisible = False\n",
    "i = 2;\n",
    "while i<num:\n",
    "    if num % i == 0:\n",
    "        isDivisible = True;\n",
    "        print (\"{} is divisible by{}\".format(num,i))\n",
    "    i += i\n",
    "if isDivisible:\n",
    "    print(\"{} is not a prime number\".format(num))\n",
    "else:\n",
    "    print(\"{} is a prime number\".format(num))"
   ]
  },
  {
   "cell_type": "code",
   "execution_count": 31,
   "metadata": {},
   "outputs": [
    {
     "name": "stdout",
     "output_type": "stream",
     "text": [
      "Enter a number:12\n",
      "12 is divisible by2\n",
      "12 is divisible by3\n",
      "12 is divisible by4\n",
      "12 is divisible by6\n",
      "12 is not a prime number\n"
     ]
    }
   ],
   "source": [
    "num = int(input(\"Enter a number:\"))\n",
    "isDivisible = False\n",
    "i = 2;\n",
    "while i<num:\n",
    "    if num % i == 0:\n",
    "        isDivisible = True;\n",
    "        print (\"{} is divisible by{}\".format(num,i))\n",
    "    i += 1\n",
    "if isDivisible:               # is Divisible  is  always true true prinr  bello step.\n",
    "    print(\"{} is not a prime number\".format(num))\n",
    "else:                         # is divisble is false then print bello step\n",
    "    print(\"{} is a prime number\".format(num))"
   ]
  },
  {
   "cell_type": "markdown",
   "metadata": {},
   "source": [
    "check numbers prime or not in given range"
   ]
  },
  {
   "cell_type": "code",
   "execution_count": 28,
   "metadata": {},
   "outputs": [
    {
     "name": "stdout",
     "output_type": "stream",
     "text": [
      "we are checking 10 is prime or not\n",
      "The number 2 divides 10\n",
      "we are checking 11 is prime or not\n",
      "we are checking 12 is prime or not\n",
      "The number 2 divides 12\n",
      "we are checking 13 is prime or not\n",
      "we are checking 14 is prime or not\n",
      "The number 2 divides 14\n",
      "we are checking 15 is prime or not\n",
      "The number 3 divides 15\n",
      "15 is not a prime number\n",
      "============================================================\n"
     ]
    }
   ],
   "source": [
    "#by using for loop\n",
    "p = 10\n",
    "q = 16\n",
    "\n",
    "for i in range (p,q):\n",
    "    print (\"we are checking\", i, \"is prime or not\")\n",
    "    is_i_divisible_by_any_number = False                   #asssuming\n",
    "    for j in range(2,i):\n",
    "        if i%j == 0:\n",
    "            is_i_divisible_by_any_number = True\n",
    "            print(\"The number\",j,\"divides\",i)\n",
    "            break\n",
    "            \n",
    "if is_i_divisible_by_any_number == False:\n",
    "    print (i, \"is prime number\")\n",
    "else:\n",
    "    print(i, \"is not a prime number\")\n",
    "print (\"=\"*60)\n",
    "            "
   ]
  },
  {
   "cell_type": "code",
   "execution_count": 25,
   "metadata": {},
   "outputs": [
    {
     "name": "stdout",
     "output_type": "stream",
     "text": [
      "the given 10 is divisible by2\n",
      "the given 10 is divisible by5\n",
      "the given 12 is divisible by2\n",
      "the given 12 is divisible by3\n",
      "the given 12 is divisible by4\n",
      "the given 12 is divisible by6\n",
      "the given 14 is divisible by2\n",
      "the given 14 is divisible by7\n",
      "the given 15 is divisible by3\n",
      "the given 15 is divisible by5\n",
      "the given 16 is divisible by2\n",
      "the given 16 is divisible by4\n",
      "the given 16 is divisible by8\n",
      "the given 18 is divisible by2\n",
      "the given 18 is divisible by3\n",
      "the given 18 is divisible by6\n",
      "the given 18 is divisible by9\n",
      "the given 19 is  prime number\n"
     ]
    }
   ],
   "source": [
    "a =10\n",
    "b = 20\n",
    "\n",
    "for i in range(a,b):\n",
    "    isdivisible = False\n",
    "    \n",
    "    for j in range(2,i):\n",
    "        if i%j ==0:\n",
    "            isdivisible=True\n",
    "            print (\"the given {} is divisible by{}\".format(i,j))\n",
    "        \n",
    "            \n",
    "if isdivisible:\n",
    "    print(\"the given {} is not prime number\".format(i))\n",
    "else:\n",
    "    print(\"the given {} is  prime number\".format(i))\n",
    "    "
   ]
  },
  {
   "cell_type": "code",
   "execution_count": 1,
   "metadata": {},
   "outputs": [
    {
     "name": "stdout",
     "output_type": "stream",
     "text": [
      "the prime numbers 19\n"
     ]
    }
   ],
   "source": [
    "a =10\n",
    "b = 20\n",
    "\n",
    "for i in range(a,b):\n",
    "    isdivisible = False\n",
    "    \n",
    "    for j in range(2,i):\n",
    "        if j%i ==0:\n",
    "            isdivisible=True\n",
    "if isdivisible:\n",
    "    print(\"the prime numbers:\",i)\n",
    "else:\n",
    "    print(\"the prime numbers\",i)\n",
    "        \n",
    "            \n"
   ]
  },
  {
   "cell_type": "code",
   "execution_count": null,
   "metadata": {},
   "outputs": [],
   "source": []
  },
  {
   "cell_type": "code",
   "execution_count": null,
   "metadata": {},
   "outputs": [],
   "source": []
  }
 ],
 "metadata": {
  "kernelspec": {
   "display_name": "Python 3",
   "language": "python",
   "name": "python3"
  },
  "language_info": {
   "codemirror_mode": {
    "name": "ipython",
    "version": 3
   },
   "file_extension": ".py",
   "mimetype": "text/x-python",
   "name": "python",
   "nbconvert_exporter": "python",
   "pygments_lexer": "ipython3",
   "version": "3.6.7"
  }
 },
 "nbformat": 4,
 "nbformat_minor": 2
}
