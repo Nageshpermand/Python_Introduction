{
 "cells": [
  {
   "cell_type": "markdown",
   "metadata": {},
   "source": [
    "Modules refer to a file containing Python statements and definitions.\n",
    "\n",
    "A file containing Python code, for e.g.: abc.py, is called a module and its module name would be \"abc\".\n",
    "\n",
    "We use modules to break down large programs into small manageable and organized files. Furthermore, modules provide reusability of code.\n",
    "\n",
    "We can define our most used functions in a module and import it, instead of copying their definitions into different programs.\n"
   ]
  },
  {
   "cell_type": "markdown",
   "metadata": {},
   "source": [
    "# How to import a module?"
   ]
  },
  {
   "cell_type": "markdown",
   "metadata": {},
   "source": [
    "We use the import keyword to do this"
   ]
  },
  {
   "cell_type": "markdown",
   "metadata": {},
   "source": [
    "if we want to import anthor file with defined function so first we should create module name as __.py in jupyter note book new option then select text edit the we can creat easly ___.py file with python code than that can be we can import hear in notebook"
   ]
  },
  {
   "cell_type": "code",
   "execution_count": 10,
   "metadata": {},
   "outputs": [
    {
     "data": {
      "text/plain": [
       "['/usr/lib/python36.zip',\n",
       " '/usr/lib/python3.6',\n",
       " '/usr/lib/python3.6/lib-dynload',\n",
       " '',\n",
       " '/home/nagesh/.local/lib/python3.6/site-packages',\n",
       " '/usr/local/lib/python3.6/dist-packages',\n",
       " '/usr/lib/python3/dist-packages',\n",
       " '/home/nagesh/.local/lib/python3.6/site-packages/IPython/extensions',\n",
       " '/home/nagesh/.ipython']"
      ]
     },
     "execution_count": 10,
     "metadata": {},
     "output_type": "execute_result"
    }
   ],
   "source": [
    "# site packages in python\n",
    "import sys\n",
    "sys.path"
   ]
  },
  {
   "cell_type": "code",
   "execution_count": 39,
   "metadata": {},
   "outputs": [],
   "source": [
    "import example"
   ]
  },
  {
   "cell_type": "code",
   "execution_count": 64,
   "metadata": {},
   "outputs": [
    {
     "ename": "AttributeError",
     "evalue": "module 'example' has no attribute 'sub'",
     "output_type": "error",
     "traceback": [
      "\u001b[0;31m---------------------------------------------------------------------------\u001b[0m",
      "\u001b[0;31mAttributeError\u001b[0m                            Traceback (most recent call last)",
      "\u001b[0;32m<ipython-input-64-dd6f7ee4af4e>\u001b[0m in \u001b[0;36m<module>\u001b[0;34m\u001b[0m\n\u001b[1;32m      1\u001b[0m \u001b[0;32mimport\u001b[0m \u001b[0mexample\u001b[0m\u001b[0;34m\u001b[0m\u001b[0;34m\u001b[0m\u001b[0m\n\u001b[1;32m      2\u001b[0m \u001b[0;34m\u001b[0m\u001b[0m\n\u001b[0;32m----> 3\u001b[0;31m \u001b[0mexample\u001b[0m\u001b[0;34m.\u001b[0m\u001b[0msub\u001b[0m\u001b[0;34m(\u001b[0m\u001b[0;36m10\u001b[0m\u001b[0;34m,\u001b[0m\u001b[0;36m2\u001b[0m\u001b[0;34m)\u001b[0m\u001b[0;34m\u001b[0m\u001b[0;34m\u001b[0m\u001b[0m\n\u001b[0m",
      "\u001b[0;31mAttributeError\u001b[0m: module 'example' has no attribute 'sub'"
     ]
    }
   ],
   "source": [
    "import example\n",
    "\n",
    "example.sub(10,2)"
   ]
  },
  {
   "cell_type": "code",
   "execution_count": 46,
   "metadata": {},
   "outputs": [
    {
     "name": "stdout",
     "output_type": "stream",
     "text": [
      "None\n"
     ]
    }
   ],
   "source": [
    "print(example.__doc__)"
   ]
  },
  {
   "cell_type": "markdown",
   "metadata": {},
   "source": [
    "# python has lot of standard inbuild modules available these are given bellow"
   ]
  },
  {
   "cell_type": "markdown",
   "metadata": {},
   "source": [
    "website is search in google :    http://docs.python.org/3/py-modinex.html"
   ]
  },
  {
   "cell_type": "markdown",
   "metadata": {},
   "source": [
    "__future__,__main__,_dummy_thread ,_thread, abc,aifc,argparse,array,ast,asynchat,asyncio,asyncore,atexit,audioop,base64,b,nascii,binhex,bisect,bz2,calendar,cgi,cgitb,chunk,cmath,cmd,code, codecs\n",
    "codeop\n",
    "collections\n",
    "colorsys\n",
    "compileall\n",
    "concurrent\n",
    "configparser\n",
    "contextlib\n",
    "copy\n",
    "copyreg\n",
    "cProfile\n",
    "crypt\n",
    "csv\n",
    "ctypes\n",
    "curses\n",
    "datetime\n",
    "dbm\n",
    "decimal\n",
    "difflib\n",
    "dis\n",
    "distutils\n",
    "doctest\n",
    "dummy_threading\n",
    "email\n",
    "encodings\n",
    "ensurepip\n",
    "enum\n",
    "errno\n",
    "faulthandler\n",
    "fcntl\n",
    "filecmp\n",
    "fileinput\n",
    "fnmatch\n",
    "formatter\n",
    "fpectl\n",
    "fractions\n",
    "ftplib\n",
    "functools\n",
    "gc\n",
    "getopt\n",
    "getpass\n",
    "gettext\n",
    "glob\n",
    "grp\n",
    "gzip\n",
    "hashlib\n",
    "heapq\n",
    "hmac\n",
    "html\n",
    "http\n",
    "imaplib\n",
    "imghdr\n",
    "imp\n",
    "importlib\n",
    "inspect\n",
    "io\n",
    "ipaddress\n",
    "itertools\n",
    "json\n",
    "keyword\n",
    "lib2to3\n",
    "linecache\n",
    "locale\n",
    "logging\n",
    "lzma\n",
    "macpath\n",
    "mailbox\n",
    "mailcap\n",
    "marshal\n",
    "math\n",
    "mimetypes\n",
    "mmap\n",
    "modulefinder\n",
    "msilib\n",
    "msvcrt\n",
    "multiprocessing\n",
    "netrc\n",
    "nis\n",
    "nntplib\n",
    "numbers\n",
    "operator\n",
    "optparse\n",
    "os\n",
    "ossaudiodev\n",
    "parser\n",
    "pathlib\n",
    "pdb\n",
    "pickle\n",
    "pickletools\n",
    "pipes\n",
    "pkgutil\n",
    "platform\n",
    "plistlib\n",
    "poplib\n",
    "posix\n",
    "pprint\n",
    "profile\n",
    "pstats\n",
    "pty\n",
    "pwd\n",
    "py_compile\n",
    "pyclbr\n",
    "pydoc\n",
    "queue\n",
    "quopri\n",
    "random\n",
    "re\n",
    "readline\n",
    "reprlib\n",
    "resource\n",
    "rlcompleter\n",
    "runpy\n",
    "sched\n",
    "secrets\n",
    "select\n",
    "selectors\n",
    "shelve\n",
    "shlex\n",
    "shutil\n",
    "signal\n",
    "site\n",
    "smtpd\n",
    "smtplib\n",
    "sndhdr\n",
    "socket\n",
    "socketserver\n",
    "spwd\n",
    "sqlite3\n",
    "ssl\n",
    "stat\n",
    "statistics\n",
    "string\n",
    "stringprep\n",
    "struct\n",
    "subprocess\n",
    "sunau\n",
    "symbol\n",
    "symtable\n",
    "sys\n",
    "sysconfig\n",
    "syslog\n",
    "tabnanny\n",
    "tarfile\n",
    "telnetlib\n",
    "tempfile\n",
    "termios\n",
    "test\n",
    "textwrap\n",
    "threading\n",
    "time\n",
    "timeit\n",
    "tkinter\n",
    "token\n",
    "tokenize\n",
    "trace\n",
    "traceback\n",
    "tracemalloc\n",
    "tty\n",
    "turtle\n",
    "turtledemo\n",
    "types\n",
    "typing\n",
    "unicodedata\n",
    "unittest\n",
    "urllib\n",
    "uu\n",
    "uuid\n",
    "venv\n",
    "warnings\n",
    "wave\n",
    "weakref\n",
    "webbrowser\n",
    "winreg\n",
    "winsound\n",
    "wsgiref\n",
    "xdrlib\n",
    "xml\n",
    "xmlrpc\n",
    "zipapp\n",
    "zipfile\n",
    "zipimport\n",
    "zlib"
   ]
  },
  {
   "cell_type": "code",
   "execution_count": 74,
   "metadata": {},
   "outputs": [
    {
     "name": "stdout",
     "output_type": "stream",
     "text": [
      "Core XML support for Python.\n",
      "\n",
      "This package contains four sub-packages:\n",
      "\n",
      "dom -- The W3C Document Object Model.  This supports DOM Level 1 +\n",
      "       Namespaces.\n",
      "\n",
      "parsers -- Python wrappers for XML parsers (currently only supports Expat).\n",
      "\n",
      "sax -- The Simple API for XML, developed by XML-Dev, led by David\n",
      "       Megginson and ported to Python by Lars Marius Garshol.  This\n",
      "       supports the SAX 2 API.\n",
      "\n",
      "etree -- The ElementTree XML library.  This is a subset of the full\n",
      "       ElementTree XML release.\n",
      "\n",
      "\n"
     ]
    }
   ],
   "source": [
    "import xml\n",
    "print(xml.__doc__)"
   ]
  },
  {
   "cell_type": "code",
   "execution_count": 48,
   "metadata": {},
   "outputs": [],
   "source": [
    "import math"
   ]
  },
  {
   "cell_type": "markdown",
   "metadata": {},
   "source": [
    "1. here imports all functions from the math  module\n",
    "2. in this (math.pi) that pi variable written by someone in math module\n",
    "3. in this (math.pi) math is module name pi is either function or variable name as written by some one im this math module\n",
    "4. import math it imports all functions, variables, clasees from in the math module"
   ]
  },
  {
   "cell_type": "code",
   "execution_count": 49,
   "metadata": {},
   "outputs": [
    {
     "name": "stdout",
     "output_type": "stream",
     "text": [
      "3.141592653589793\n"
     ]
    }
   ],
   "source": [
    "import  math\n",
    "print(math.pi)"
   ]
  },
  {
   "cell_type": "markdown",
   "metadata": {},
   "source": [
    "in this math module someone wrote docstring so it is prints heare by importing math module"
   ]
  },
  {
   "cell_type": "code",
   "execution_count": 2,
   "metadata": {},
   "outputs": [
    {
     "name": "stdout",
     "output_type": "stream",
     "text": [
      "This module is always available.  It provides access to the\n",
      "mathematical functions defined by the C standard.\n"
     ]
    }
   ],
   "source": [
    "import math\n",
    "print(math.__doc__)"
   ]
  },
  {
   "cell_type": "code",
   "execution_count": 56,
   "metadata": {},
   "outputs": [
    {
     "data": {
      "text/plain": [
       "datetime.datetime(2019, 2, 18, 18, 29, 36, 604528)"
      ]
     },
     "execution_count": 56,
     "metadata": {},
     "output_type": "execute_result"
    }
   ],
   "source": [
    "import datetime\n",
    "\n",
    "datetime.datetime.now()"
   ]
  },
  {
   "cell_type": "markdown",
   "metadata": {},
   "source": [
    "# import renaming"
   ]
  },
  {
   "cell_type": "markdown",
   "metadata": {},
   "source": [
    "if we have any full lenght  name of module so we can assign any name related that module  by using as\n",
    "examples are.\n",
    "1. import numpy as np\n",
    "2. import pandas as pd\n",
    "3. import datetime is dm\n",
    "4. import matplotlib as mp"
   ]
  },
  {
   "cell_type": "code",
   "execution_count": 54,
   "metadata": {},
   "outputs": [
    {
     "data": {
      "text/plain": [
       "datetime.datetime(2019, 2, 18, 18, 29, 31, 248773)"
      ]
     },
     "execution_count": 54,
     "metadata": {},
     "output_type": "execute_result"
    }
   ],
   "source": [
    "import datetime as dm\n",
    "\n",
    "dm.datetime.now()"
   ]
  },
  {
   "cell_type": "code",
   "execution_count": 57,
   "metadata": {},
   "outputs": [
    {
     "name": "stdout",
     "output_type": "stream",
     "text": [
      "3.141592653589793\n"
     ]
    }
   ],
   "source": [
    "import math as m\n",
    "\n",
    "print(m.pi)"
   ]
  },
  {
   "cell_type": "markdown",
   "metadata": {},
   "source": [
    "# from...import statement"
   ]
  },
  {
   "cell_type": "markdown",
   "metadata": {},
   "source": [
    "We can import specific names form a module without importing the module as a whole\n",
    "1. if modules are large from datetime module we imports the datetime  function or class \n",
    "2. if we want any specific function or classes in modules we can import that specipic functions by using from import in the modules\n",
    "  "
   ]
  },
  {
   "cell_type": "code",
   "execution_count": 58,
   "metadata": {},
   "outputs": [
    {
     "data": {
      "text/plain": [
       "datetime.datetime(2019, 2, 18, 18, 31, 50, 740379)"
      ]
     },
     "execution_count": 58,
     "metadata": {},
     "output_type": "execute_result"
    }
   ],
   "source": [
    "from datetime import datetime   \n",
    "  \n",
    "datetime.now()"
   ]
  },
  {
   "cell_type": "markdown",
   "metadata": {},
   "source": [
    "# import all names"
   ]
  },
  {
   "cell_type": "markdown",
   "metadata": {},
   "source": [
    "from math import*   it imports everything in math module, this is equal tho import math module"
   ]
  },
  {
   "cell_type": "code",
   "execution_count": 61,
   "metadata": {},
   "outputs": [
    {
     "name": "stdout",
     "output_type": "stream",
     "text": [
      "value of pi is: 3.141592653589793\n"
     ]
    }
   ],
   "source": [
    "from math import*\n",
    "print(\"value of pi is: \"+ str(pi))"
   ]
  },
  {
   "cell_type": "markdown",
   "metadata": {},
   "source": [
    "# dir() built in function"
   ]
  },
  {
   "cell_type": "markdown",
   "metadata": {},
   "source": [
    "We can use the dir() function to find out names that are defined inside a module"
   ]
  },
  {
   "cell_type": "code",
   "execution_count": null,
   "metadata": {},
   "outputs": [],
   "source": [
    "import example"
   ]
  },
  {
   "cell_type": "code",
   "execution_count": 65,
   "metadata": {},
   "outputs": [
    {
     "data": {
      "text/plain": [
       "['__builtins__',\n",
       " '__cached__',\n",
       " '__doc__',\n",
       " '__file__',\n",
       " '__loader__',\n",
       " '__name__',\n",
       " '__package__',\n",
       " '__spec__',\n",
       " 'add']"
      ]
     },
     "execution_count": 65,
     "metadata": {},
     "output_type": "execute_result"
    }
   ],
   "source": [
    "dir(example)"
   ]
  },
  {
   "cell_type": "code",
   "execution_count": 76,
   "metadata": {},
   "outputs": [
    {
     "name": "stdout",
     "output_type": "stream",
     "text": [
      "This program adds two\n",
      "   numbers and return the result\n"
     ]
    }
   ],
   "source": [
    "print(example.add.__doc__)"
   ]
  },
  {
   "cell_type": "code",
   "execution_count": 82,
   "metadata": {},
   "outputs": [
    {
     "name": "stdout",
     "output_type": "stream",
     "text": [
      "This module is always available.  It provides access to the\n",
      "mathematical functions defined by the C standard.\n"
     ]
    }
   ],
   "source": [
    "import math\n",
    "\n",
    "print(math.__doc__)"
   ]
  },
  {
   "cell_type": "code",
   "execution_count": 1,
   "metadata": {},
   "outputs": [
    {
     "name": "stdout",
     "output_type": "stream",
     "text": [
      "<class 'module'>\n"
     ]
    }
   ],
   "source": [
    "import math \n",
    "\n",
    "print(type(math))"
   ]
  },
  {
   "cell_type": "code",
   "execution_count": 2,
   "metadata": {},
   "outputs": [
    {
     "name": "stdout",
     "output_type": "stream",
     "text": [
      "<class 'module'>\n"
     ]
    }
   ],
   "source": [
    "import sklearn\n",
    "\n",
    "print(type(sklearn))"
   ]
  },
  {
   "cell_type": "code",
   "execution_count": 3,
   "metadata": {},
   "outputs": [],
   "source": [
    "#sklearn is package that contains collection of modules\n",
    "\n",
    "from sklearn import metrics"
   ]
  },
  {
   "cell_type": "code",
   "execution_count": 8,
   "metadata": {},
   "outputs": [
    {
     "name": "stdout",
     "output_type": "stream",
     "text": [
      "2.449489742783178\n"
     ]
    }
   ],
   "source": [
    "from math import sqrt\n",
    "\n",
    "#access sqrt directly\n",
    "\n",
    "s = sqrt(6)\n",
    "print(s)\n",
    "\n"
   ]
  },
  {
   "cell_type": "code",
   "execution_count": 9,
   "metadata": {},
   "outputs": [
    {
     "ename": "ModuleNotFoundError",
     "evalue": "No module named 'math.sqrt'; 'math' is not a package",
     "output_type": "error",
     "traceback": [
      "\u001b[0;31m---------------------------------------------------------------------------\u001b[0m",
      "\u001b[0;31mModuleNotFoundError\u001b[0m                       Traceback (most recent call last)",
      "\u001b[0;32m<ipython-input-9-17957652910e>\u001b[0m in \u001b[0;36m<module>\u001b[0;34m\u001b[0m\n\u001b[1;32m      1\u001b[0m \u001b[0;31m#used as math.sqrt\u001b[0m\u001b[0;34m\u001b[0m\u001b[0;34m\u001b[0m\u001b[0;34m\u001b[0m\u001b[0m\n\u001b[1;32m      2\u001b[0m \u001b[0;34m\u001b[0m\u001b[0m\n\u001b[0;32m----> 3\u001b[0;31m \u001b[0;32mimport\u001b[0m \u001b[0mmath\u001b[0m\u001b[0;34m.\u001b[0m\u001b[0msqrt\u001b[0m\u001b[0;34m\u001b[0m\u001b[0;34m\u001b[0m\u001b[0m\n\u001b[0m",
      "\u001b[0;31mModuleNotFoundError\u001b[0m: No module named 'math.sqrt'; 'math' is not a package"
     ]
    }
   ],
   "source": [
    "#used as math.sqrt\n",
    "\n",
    "import math.sqrt"
   ]
  },
  {
   "cell_type": "code",
   "execution_count": 10,
   "metadata": {},
   "outputs": [],
   "source": [
    "from os import open as op"
   ]
  },
  {
   "cell_type": "code",
   "execution_count": 11,
   "metadata": {},
   "outputs": [],
   "source": [
    "from math import sqrt as sq"
   ]
  },
  {
   "cell_type": "markdown",
   "metadata": {},
   "source": [
    "# class"
   ]
  },
  {
   "cell_type": "code",
   "execution_count": 14,
   "metadata": {},
   "outputs": [],
   "source": [
    "class A(object):\n",
    "    def __init__(self):\n",
    "        self.x = \"hello\"\n",
    "        \n",
    "    def method_a(self,foo):\n",
    "        print(self.x+''+foo)\n",
    "        \n",
    "#when we call A python creats an object"
   ]
  },
  {
   "cell_type": "code",
   "execution_count": 2,
   "metadata": {},
   "outputs": [
    {
     "name": "stdout",
     "output_type": "stream",
     "text": [
      "geeks for geeks\n"
     ]
    }
   ],
   "source": [
    "class geeksforgeeks:\n",
    "    geek = \"\"\n",
    "    \n",
    "    #default constructor\n",
    "    def __init__(self):\n",
    "        self.geek = \"geeks for geeks\"\n",
    "    #a method for printing datamethods\n",
    "    def print_geek(self):\n",
    "        print(self.geek)\n",
    "#creating object of the class\n",
    "obj = geeksforgeeks()\n",
    "\n",
    "#calling the instance method using the object\n",
    "\n",
    "obj.print_geek()"
   ]
  },
  {
   "cell_type": "code",
   "execution_count": 3,
   "metadata": {},
   "outputs": [
    {
     "name": "stdout",
     "output_type": "stream",
     "text": [
      "hyderabad\n"
     ]
    }
   ],
   "source": [
    "class city:\n",
    "    #default constructor\n",
    "    def __init__(self):\n",
    "        self.name = \"hyderabad\"\n",
    "    #anathor function for print the inide of the init function\n",
    "    \n",
    "    def for_print(self):\n",
    "        print((self.name))   #it prints the __init__ function variable\n",
    "\n",
    "#creat object for the class\n",
    "\n",
    "obj = city()\n",
    "\n",
    "#calling the instance method using the object\n",
    "\n",
    "obj.for_print()\n",
    "        "
   ]
  },
  {
   "cell_type": "code",
   "execution_count": 6,
   "metadata": {},
   "outputs": [
    {
     "name": "stdout",
     "output_type": "stream",
     "text": [
      "init called\n"
     ]
    },
    {
     "data": {
      "text/plain": [
       "'ramesh'"
      ]
     },
     "execution_count": 6,
     "metadata": {},
     "output_type": "execute_result"
    }
   ],
   "source": [
    "class student(object):\n",
    "    \n",
    "    def __init__(self, something):\n",
    "        print(\"init called\")\n",
    "        self.something = something\n",
    "        \n",
    "    def method(self):\n",
    "        return self.something\n",
    "    \n",
    "my_obj = student(\"ramesh\")\n",
    "\n",
    "my_obj.method()"
   ]
  },
  {
   "cell_type": "code",
   "execution_count": 16,
   "metadata": {},
   "outputs": [
    {
     "name": "stdout",
     "output_type": "stream",
     "text": [
      "fruit markets\n",
      "apple\n"
     ]
    }
   ],
   "source": [
    "class fruits():\n",
    "    \n",
    "    def __init__(self):\n",
    "        print(\"fruit markets\")  #whatever we written in __init__function itwill executes in output even without recall it\n",
    "        self.name = \"apple\"\n",
    "        self.cost=40\n",
    "        \n",
    "        \n",
    "    def method(self):\n",
    "        \n",
    "        print(self.name)\n",
    "        \n",
    "    \n",
    "my_obj = fruits()\n",
    "\n",
    "my_obj.method()"
   ]
  },
  {
   "cell_type": "code",
   "execution_count": 15,
   "metadata": {},
   "outputs": [],
   "source": [
    "import os\n",
    "os.mkdir(\"Test\")\n",
    "\n"
   ]
  },
  {
   "cell_type": "code",
   "execution_count": 16,
   "metadata": {},
   "outputs": [
    {
     "data": {
      "text/plain": [
       "'/home/nagesh/appliedaicourse/4 Python Functions'"
      ]
     },
     "execution_count": 16,
     "metadata": {},
     "output_type": "execute_result"
    }
   ],
   "source": [
    "os.getcwd()"
   ]
  },
  {
   "cell_type": "code",
   "execution_count": 17,
   "metadata": {},
   "outputs": [],
   "source": [
    "os.chdir(\"/home/nagesh/appliedaicourse/4 Python Functions/Test/\")"
   ]
  },
  {
   "cell_type": "code",
   "execution_count": 18,
   "metadata": {},
   "outputs": [
    {
     "data": {
      "text/plain": [
       "'/home/nagesh/appliedaicourse/4 Python Functions/Test'"
      ]
     },
     "execution_count": 18,
     "metadata": {},
     "output_type": "execute_result"
    }
   ],
   "source": [
    "os.getcwd()"
   ]
  },
  {
   "cell_type": "code",
   "execution_count": 19,
   "metadata": {},
   "outputs": [],
   "source": [
    "os.mkdir(\"dummy\")      #i created the dummy named folder inside the test folder \n",
    "                       #i created modules inside the dummy subpackage are __init__.py and add.py two modules\n",
    "                       #then python understand that is package "
   ]
  },
  {
   "cell_type": "code",
   "execution_count": 20,
   "metadata": {},
   "outputs": [],
   "source": [
    "from dummy import add #i ipmorted add module from dummy subpackage\n",
    "                      #this sub package containes __init__.py and add.py modules"
   ]
  },
  {
   "cell_type": "code",
   "execution_count": 21,
   "metadata": {},
   "outputs": [
    {
     "name": "stdout",
     "output_type": "stream",
     "text": [
      "addition of two 10 and 20 are 30\n"
     ]
    }
   ],
   "source": [
    "a = 10; b = 20;\n",
    "\n",
    "result = add.add_num(a,b)   #here first add is module name and add_num is function recall \n",
    "\n",
    "print(\"addition of two {} and {} are {}\".format(a,b, result))"
   ]
  },
  {
   "cell_type": "markdown",
   "metadata": {},
   "source": [
    "# to join file in current directory from externel file\n",
    "\n"
   ]
  },
  {
   "cell_type": "code",
   "execution_count": 1,
   "metadata": {},
   "outputs": [
    {
     "ename": "NameError",
     "evalue": "name '_file_' is not defined",
     "output_type": "error",
     "traceback": [
      "\u001b[0;31m---------------------------------------------------------------------------\u001b[0m",
      "\u001b[0;31mNameError\u001b[0m                                 Traceback (most recent call last)",
      "\u001b[0;32m<ipython-input-1-db8899b5460f>\u001b[0m in \u001b[0;36m<module>\u001b[0;34m\u001b[0m\n\u001b[1;32m      2\u001b[0m \u001b[0;32mimport\u001b[0m \u001b[0mos\u001b[0m\u001b[0;34m\u001b[0m\u001b[0;34m\u001b[0m\u001b[0m\n\u001b[1;32m      3\u001b[0m \u001b[0;34m\u001b[0m\u001b[0m\n\u001b[0;32m----> 4\u001b[0;31m \u001b[0mfile_dir\u001b[0m \u001b[0;34m=\u001b[0m \u001b[0mos\u001b[0m\u001b[0;34m.\u001b[0m\u001b[0mpath\u001b[0m\u001b[0;34m.\u001b[0m\u001b[0mdirname\u001b[0m\u001b[0;34m(\u001b[0m\u001b[0m_file_\u001b[0m\u001b[0;34m)\u001b[0m\u001b[0;34m\u001b[0m\u001b[0;34m\u001b[0m\u001b[0m\n\u001b[0m\u001b[1;32m      5\u001b[0m \u001b[0;34m\u001b[0m\u001b[0m\n\u001b[1;32m      6\u001b[0m \u001b[0mrel_path\u001b[0m \u001b[0;34m=\u001b[0m \u001b[0;34m\".....csv\"\u001b[0m\u001b[0;34m\u001b[0m\u001b[0;34m\u001b[0m\u001b[0m\n",
      "\u001b[0;31mNameError\u001b[0m: name '_file_' is not defined"
     ]
    }
   ],
   "source": [
    "#example code\n",
    "import os\n",
    "\n",
    "file_dir = os.path.dirname(_file_)\n",
    "\n",
    "rel_path = \".....csv\"\n",
    "\n",
    "abs_file_path = os.path.join(file_dir, rel_path)\n",
    "\n",
    "df = pd.read_csv(abs_file_path)"
   ]
  },
  {
   "cell_type": "code",
   "execution_count": 2,
   "metadata": {},
   "outputs": [
    {
     "data": {
      "text/plain": [
       "'/home/nagesh/appliedaicourse/4 Python Functions'"
      ]
     },
     "execution_count": 2,
     "metadata": {},
     "output_type": "execute_result"
    }
   ],
   "source": [
    "os.getcwd()"
   ]
  },
  {
   "cell_type": "code",
   "execution_count": null,
   "metadata": {},
   "outputs": [],
   "source": []
  }
 ],
 "metadata": {
  "kernelspec": {
   "display_name": "Python 3",
   "language": "python",
   "name": "python3"
  },
  "language_info": {
   "codemirror_mode": {
    "name": "ipython",
    "version": 3
   },
   "file_extension": ".py",
   "mimetype": "text/x-python",
   "name": "python",
   "nbconvert_exporter": "python",
   "pygments_lexer": "ipython3",
   "version": "3.6.7"
  }
 },
 "nbformat": 4,
 "nbformat_minor": 2
}
