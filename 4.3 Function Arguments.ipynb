{
 "cells": [
  {
   "cell_type": "code",
   "execution_count": 20,
   "metadata": {},
   "outputs": [
    {
     "name": "stdout",
     "output_type": "stream",
     "text": [
      "Hello ramesh, Good morning\n"
     ]
    }
   ],
   "source": [
    "def greet(name, msg):\n",
    "    \"\"\"\n",
    "    This function greets to person with the provided message\n",
    "    \"\"\"\n",
    "    print(\"Hello {0}, {1}\".format(name, msg))\n",
    "\n",
    "#clling function\n",
    "greet(\"ramesh\", \"Good morning\")"
   ]
  },
  {
   "cell_type": "code",
   "execution_count": 21,
   "metadata": {},
   "outputs": [
    {
     "ename": "TypeError",
     "evalue": "greet() missing 1 required positional argument: 'msg'",
     "output_type": "error",
     "traceback": [
      "\u001b[0;31m---------------------------------------------------------------------------\u001b[0m",
      "\u001b[0;31mTypeError\u001b[0m                                 Traceback (most recent call last)",
      "\u001b[0;32m<ipython-input-21-6ea7f7d49102>\u001b[0m in \u001b[0;36m<module>\u001b[0;34m\u001b[0m\n\u001b[1;32m      9\u001b[0m \u001b[0;34m\u001b[0m\u001b[0m\n\u001b[1;32m     10\u001b[0m \u001b[0;31m#clling function\u001b[0m\u001b[0;34m\u001b[0m\u001b[0;34m\u001b[0m\u001b[0;34m\u001b[0m\u001b[0m\n\u001b[0;32m---> 11\u001b[0;31m \u001b[0mgreet\u001b[0m\u001b[0;34m(\u001b[0m\u001b[0;34m\"Ramesh\"\u001b[0m\u001b[0;34m)\u001b[0m\u001b[0;34m\u001b[0m\u001b[0;34m\u001b[0m\u001b[0m\n\u001b[0m",
      "\u001b[0;31mTypeError\u001b[0m: greet() missing 1 required positional argument: 'msg'"
     ]
    }
   ],
   "source": [
    "#suppose if we pass one argument\n",
    "\n",
    "\n",
    "def greet(name, msg):\n",
    "    \"\"\"\n",
    "    This function greets to person with the provided message\n",
    "    \"\"\"\n",
    "    print(\"Hello {0}, {1}\".format(name, msg))\n",
    "\n",
    "#clling function\n",
    "greet(\"Ramesh\")\n"
   ]
  },
  {
   "cell_type": "code",
   "execution_count": 39,
   "metadata": {},
   "outputs": [
    {
     "name": "stdout",
     "output_type": "stream",
     "text": [
      "Hello ramesh, 22,B.Tech\n"
     ]
    }
   ],
   "source": [
    "\n",
    "def person(name, age, degree):\n",
    "    \"\"\"\n",
    "    This function greets to person with the provided message\n",
    "    \"\"\"\n",
    "    print(\"Hello {0}, {1},{2}\".format(name, age, degree))\n",
    "\n",
    "#caling function\n",
    "person(\"ramesh\", 22,\"B.Tech\")"
   ]
  },
  {
   "cell_type": "markdown",
   "metadata": {},
   "source": [
    "# Different Forms of Arguments"
   ]
  },
  {
   "cell_type": "markdown",
   "metadata": {},
   "source": [
    "# 1. Default Arguments"
   ]
  },
  {
   "cell_type": "markdown",
   "metadata": {},
   "source": [
    "We can provide a default value to an argument by using the assignment operator (=). "
   ]
  },
  {
   "cell_type": "code",
   "execution_count": 24,
   "metadata": {},
   "outputs": [
    {
     "name": "stdout",
     "output_type": "stream",
     "text": [
      "Hello Ramesh, good night\n"
     ]
    }
   ],
   "source": [
    "def greet(name, msg=\"Good Morning\"):\n",
    "    \"\"\"\n",
    "    This function greets to person with the provided message\n",
    "    \n",
    "    if message is not provided, it defaults to \"Good Morning\"\n",
    "    \"\"\"\n",
    "    print(\"Hello {0}, {1}\".format(name, msg))\n",
    "\n",
    "#clling function\n",
    "greet(\"Ramesh\", \"good night\")\n"
   ]
  },
  {
   "cell_type": "code",
   "execution_count": 26,
   "metadata": {},
   "outputs": [
    {
     "name": "stdout",
     "output_type": "stream",
     "text": [
      "Hello Ramesh, Good Morning\n"
     ]
    }
   ],
   "source": [
    "def greet(name, msg=\"Good Morning\"):\n",
    "    \"\"\"\n",
    "    This function greets to person with the provided message\n",
    "    \n",
    "    if message is not provided, it defaults to \"Good Morning\"\n",
    "    \"\"\"\n",
    "    print(\"Hello {0}, {1}\".format(name, msg))\n",
    "\n",
    "#caling function\n",
    "greet(\"Ramesh\")\n"
   ]
  },
  {
   "cell_type": "markdown",
   "metadata": {},
   "source": [
    "Hello ramesh , Good Morning\n",
    "\n",
    "Once we have a default argument, all the arguments to its right must also have default values.\n",
    "\n",
    "def greet(msg=\"Good Morning\", name)\n",
    "\n",
    "#will get a SyntaxError : non-default argument follows default argument\n",
    "\n",
    "\n",
    "so always it is better to keep default argumentrs at and of the arguments\n"
   ]
  },
  {
   "cell_type": "code",
   "execution_count": 27,
   "metadata": {},
   "outputs": [
    {
     "ename": "SyntaxError",
     "evalue": "non-default argument follows default argument (<ipython-input-27-47b463fc02fa>, line 1)",
     "output_type": "error",
     "traceback": [
      "\u001b[0;36m  File \u001b[0;32m\"<ipython-input-27-47b463fc02fa>\"\u001b[0;36m, line \u001b[0;32m1\u001b[0m\n\u001b[0;31m    def greet(msg=\"Good Morning\", name):\u001b[0m\n\u001b[0m             ^\u001b[0m\n\u001b[0;31mSyntaxError\u001b[0m\u001b[0;31m:\u001b[0m non-default argument follows default argument\n"
     ]
    }
   ],
   "source": [
    "def greet(msg=\"Good Morning\", name):\n",
    "    \"\"\"\n",
    "    This function greets to person with the provided message\n",
    "    \n",
    "    if message is not provided, it defaults to \"Good Morning\"\n",
    "    \"\"\"\n",
    "    print(\"Hello {0}, {1}\".format(name, msg))\n",
    "\n",
    "#caling function\n",
    "greet(\"Ramesh\")\n"
   ]
  },
  {
   "cell_type": "markdown",
   "metadata": {},
   "source": [
    "# 2. Keyword Arguments"
   ]
  },
  {
   "cell_type": "markdown",
   "metadata": {},
   "source": [
    "kwargs allows you to pass keyworded variable length of arguments to a function. You should use **kwargs if you want to handle named arguments in a function"
   ]
  },
  {
   "cell_type": "markdown",
   "metadata": {},
   "source": [
    "# example:"
   ]
  },
  {
   "cell_type": "markdown",
   "metadata": {},
   "source": [
    "example let us assume kwarg as a being a dictionary that maps each keyword to the value that we pass along side it"
   ]
  },
  {
   "cell_type": "code",
   "execution_count": 2,
   "metadata": {},
   "outputs": [
    {
     "name": "stdout",
     "output_type": "stream",
     "text": [
      "Hello Ramesh, Good Morning\n"
     ]
    }
   ],
   "source": [
    "def greet(**kwargs):\n",
    "    \"\"\"\n",
    "    This is greets to person with provided message\n",
    "    \"\"\"\n",
    "    \n",
    "    if kwargs:\n",
    "        print(\"Hello {0}, {1}\".format(kwargs[\"name\"], kwargs[\"msg\"]))\n",
    "        \n",
    "greet(name = \"Ramesh\", msg=\"Good Morning\")"
   ]
  },
  {
   "cell_type": "code",
   "execution_count": 3,
   "metadata": {},
   "outputs": [
    {
     "name": "stdout",
     "output_type": "stream",
     "text": [
      "Hello Ramesh, Good Morning\n"
     ]
    }
   ],
   "source": [
    "def greet(**kwargs):\n",
    "    \"\"\"\n",
    "    This is greets to person with provided message\n",
    "    \"\"\"\n",
    "    \n",
    "    if kwargs:\n",
    "        print(\"Hello {0}, {1}\".format(kwargs[\"name\"], kwargs[\"message\"]))\n",
    "        \n",
    "greet(name = \"Ramesh\", message=\"Good Morning\")"
   ]
  },
  {
   "cell_type": "code",
   "execution_count": 6,
   "metadata": {},
   "outputs": [
    {
     "name": "stdout",
     "output_type": "stream",
     "text": [
      "Hello Ramesh\n"
     ]
    }
   ],
   "source": [
    "def greet(**kwargs):\n",
    "    \"\"\"\n",
    "    This is greets to person with provided message\n",
    "    \"\"\"\n",
    "    \n",
    "    if kwargs:\n",
    "        print(\"Hello {0}\".format(kwargs[\"name\"]))\n",
    "        \n",
    "greet(name = \"Ramesh\")"
   ]
  },
  {
   "cell_type": "code",
   "execution_count": 7,
   "metadata": {},
   "outputs": [
    {
     "ename": "SyntaxError",
     "evalue": "keyword can't be an expression (<ipython-input-7-67dd4795fd4c>, line 9)",
     "output_type": "error",
     "traceback": [
      "\u001b[0;36m  File \u001b[0;32m\"<ipython-input-7-67dd4795fd4c>\"\u001b[0;36m, line \u001b[0;32m9\u001b[0m\n\u001b[0;31m    greet(\"name\" = \"Ramesh\")\u001b[0m\n\u001b[0m         ^\u001b[0m\n\u001b[0;31mSyntaxError\u001b[0m\u001b[0;31m:\u001b[0m keyword can't be an expression\n"
     ]
    }
   ],
   "source": [
    "def greet(**kwargs):\n",
    "    \"\"\"\n",
    "    This is greets to person with provided message\n",
    "    \"\"\"\n",
    "    \n",
    "    if kwargs:\n",
    "        print(\"Hello {0}\".format(kwargs[\"name\"]))\n",
    "        \n",
    "greet(\"name\" = \"Ramesh\")"
   ]
  },
  {
   "cell_type": "code",
   "execution_count": 49,
   "metadata": {},
   "outputs": [
    {
     "name": "stdout",
     "output_type": "stream",
     "text": [
      "Hello Ramesh, Good Morning, B.Tech\n"
     ]
    }
   ],
   "source": [
    "def greet(**kwargs):\n",
    "    \"\"\"\n",
    "    This is greets to person with provided message\n",
    "    \"\"\"\n",
    "    \n",
    "    if kwargs:            #it checks key name arguments emty or not it gets keyword pair as a function\n",
    "        print(\"Hello {0}, {1}, {2}\".format(kwargs[\"name\"], kwargs[\"msg\"], kwargs[\"degree\"]))\n",
    "        \n",
    "greet(name = \"Ramesh\", msg=\"Good Morning\", degree=\"B.Tech\")"
   ]
  },
  {
   "cell_type": "code",
   "execution_count": 3,
   "metadata": {},
   "outputs": [
    {
     "name": "stdout",
     "output_type": "stream",
     "text": [
      "Hello Ramesh, Good Morning, B.Tech\n"
     ]
    }
   ],
   "source": [
    "def greet(**kwa):\n",
    "    \"\"\"\n",
    "    This is greets to person with provided message\n",
    "    \"\"\"\n",
    "    if kwa:            #it checks key name arguments emty or not it gets keyword pair as a function\n",
    "        print(\"Hello {0}, {1}, {2}\".format(kwa[\"name\"], kwa[\"msg\"], kwa[\"degree\"]))\n",
    "        \n",
    "greet(name = \"Ramesh\", msg=\"Good Morning\", degree=\"B.Tech\")\n",
    "    "
   ]
  },
  {
   "cell_type": "code",
   "execution_count": 47,
   "metadata": {},
   "outputs": [
    {
     "name": "stdout",
     "output_type": "stream",
     "text": [
      "Hello Ramesh, Good Morning, B.Tech\n"
     ]
    }
   ],
   "source": [
    "def greet(**kwargs):\n",
    "    \"\"\"\n",
    "    This is greets to person with provided message\n",
    "    \"\"\"\n",
    "                                                    #output is fine without using if condition\n",
    "    print(\"Hello {0}, {1}, {2}\".format(kwargs[\"name\"], kwargs[\"msg\"], kwargs[\"degree\"]))\n",
    "        \n",
    "greet(name = \"Ramesh\", msg=\"Good Morning\", degree=\"B.Tech\")"
   ]
  },
  {
   "cell_type": "code",
   "execution_count": 46,
   "metadata": {},
   "outputs": [
    {
     "ename": "KeyError",
     "evalue": "'msg'",
     "output_type": "error",
     "traceback": [
      "\u001b[0;31m---------------------------------------------------------------------------\u001b[0m",
      "\u001b[0;31mKeyError\u001b[0m                                  Traceback (most recent call last)",
      "\u001b[0;32m<ipython-input-46-8cb8a6710e29>\u001b[0m in \u001b[0;36m<module>\u001b[0;34m\u001b[0m\n\u001b[1;32m      6\u001b[0m     \u001b[0mprint\u001b[0m\u001b[0;34m(\u001b[0m\u001b[0;34m\"Hello {0}, {1}, {2}\"\u001b[0m\u001b[0;34m.\u001b[0m\u001b[0mformat\u001b[0m\u001b[0;34m(\u001b[0m\u001b[0mkwargs\u001b[0m\u001b[0;34m[\u001b[0m\u001b[0;34m\"name\"\u001b[0m\u001b[0;34m]\u001b[0m\u001b[0;34m,\u001b[0m \u001b[0mkwargs\u001b[0m\u001b[0;34m[\u001b[0m\u001b[0;34m\"msg\"\u001b[0m\u001b[0;34m]\u001b[0m\u001b[0;34m,\u001b[0m \u001b[0mkwargs\u001b[0m\u001b[0;34m[\u001b[0m\u001b[0;34m\"degree\"\u001b[0m\u001b[0;34m]\u001b[0m\u001b[0;34m)\u001b[0m\u001b[0;34m)\u001b[0m\u001b[0;34m\u001b[0m\u001b[0;34m\u001b[0m\u001b[0m\n\u001b[1;32m      7\u001b[0m \u001b[0;34m\u001b[0m\u001b[0m\n\u001b[0;32m----> 8\u001b[0;31m \u001b[0mgreet\u001b[0m\u001b[0;34m(\u001b[0m\u001b[0mname\u001b[0m \u001b[0;34m=\u001b[0m \u001b[0;34m\"Ramesh\"\u001b[0m\u001b[0;34m)\u001b[0m\u001b[0;34m\u001b[0m\u001b[0;34m\u001b[0m\u001b[0m\n\u001b[0m",
      "\u001b[0;32m<ipython-input-46-8cb8a6710e29>\u001b[0m in \u001b[0;36mgreet\u001b[0;34m(**kwargs)\u001b[0m\n\u001b[1;32m      4\u001b[0m     \"\"\"\n\u001b[1;32m      5\u001b[0m                                                     \u001b[0;31m#output is fine withou using if condition\u001b[0m\u001b[0;34m\u001b[0m\u001b[0;34m\u001b[0m\u001b[0;34m\u001b[0m\u001b[0m\n\u001b[0;32m----> 6\u001b[0;31m     \u001b[0mprint\u001b[0m\u001b[0;34m(\u001b[0m\u001b[0;34m\"Hello {0}, {1}, {2}\"\u001b[0m\u001b[0;34m.\u001b[0m\u001b[0mformat\u001b[0m\u001b[0;34m(\u001b[0m\u001b[0mkwargs\u001b[0m\u001b[0;34m[\u001b[0m\u001b[0;34m\"name\"\u001b[0m\u001b[0;34m]\u001b[0m\u001b[0;34m,\u001b[0m \u001b[0mkwargs\u001b[0m\u001b[0;34m[\u001b[0m\u001b[0;34m\"msg\"\u001b[0m\u001b[0;34m]\u001b[0m\u001b[0;34m,\u001b[0m \u001b[0mkwargs\u001b[0m\u001b[0;34m[\u001b[0m\u001b[0;34m\"degree\"\u001b[0m\u001b[0;34m]\u001b[0m\u001b[0;34m)\u001b[0m\u001b[0;34m)\u001b[0m\u001b[0;34m\u001b[0m\u001b[0;34m\u001b[0m\u001b[0m\n\u001b[0m\u001b[1;32m      7\u001b[0m \u001b[0;34m\u001b[0m\u001b[0m\n\u001b[1;32m      8\u001b[0m \u001b[0mgreet\u001b[0m\u001b[0;34m(\u001b[0m\u001b[0mname\u001b[0m \u001b[0;34m=\u001b[0m \u001b[0;34m\"Ramesh\"\u001b[0m\u001b[0;34m)\u001b[0m\u001b[0;34m\u001b[0m\u001b[0;34m\u001b[0m\u001b[0m\n",
      "\u001b[0;31mKeyError\u001b[0m: 'msg'"
     ]
    }
   ],
   "source": [
    "def greet(**kwargs):\n",
    "    \"\"\"\n",
    "    This is greets to person with provided message\n",
    "    \"\"\"\n",
    "                                                    #output is not fine without using if condition\n",
    "    print(\"Hello {0}, {1}, {2}\".format(kwargs[\"name\"], kwargs[\"msg\"], kwargs[\"degree\"]))\n",
    "        \n",
    "greet(name = \"Ramesh\")"
   ]
  },
  {
   "cell_type": "code",
   "execution_count": 52,
   "metadata": {},
   "outputs": [
    {
     "ename": "KeyError",
     "evalue": "'msg'",
     "output_type": "error",
     "traceback": [
      "\u001b[0;31m---------------------------------------------------------------------------\u001b[0m",
      "\u001b[0;31mKeyError\u001b[0m                                  Traceback (most recent call last)",
      "\u001b[0;32m<ipython-input-52-30854f165824>\u001b[0m in \u001b[0;36m<module>\u001b[0;34m\u001b[0m\n\u001b[1;32m      6\u001b[0m         \u001b[0mprint\u001b[0m\u001b[0;34m(\u001b[0m\u001b[0;34m\"Hello {0}, {1}\"\u001b[0m\u001b[0;34m.\u001b[0m\u001b[0mformat\u001b[0m\u001b[0;34m(\u001b[0m\u001b[0mkwargs\u001b[0m\u001b[0;34m[\u001b[0m\u001b[0;34m\"name\"\u001b[0m\u001b[0;34m]\u001b[0m\u001b[0;34m,\u001b[0m \u001b[0mkwargs\u001b[0m\u001b[0;34m[\u001b[0m\u001b[0;34m\"msg\"\u001b[0m\u001b[0;34m]\u001b[0m\u001b[0;34m)\u001b[0m\u001b[0;34m)\u001b[0m\u001b[0;34m\u001b[0m\u001b[0;34m\u001b[0m\u001b[0m\n\u001b[1;32m      7\u001b[0m \u001b[0;34m\u001b[0m\u001b[0m\n\u001b[0;32m----> 8\u001b[0;31m \u001b[0mgreet\u001b[0m\u001b[0;34m(\u001b[0m\u001b[0mname\u001b[0m \u001b[0;34m=\u001b[0m \u001b[0;34m\"Ramesh\"\u001b[0m\u001b[0;34m)\u001b[0m\u001b[0;34m\u001b[0m\u001b[0;34m\u001b[0m\u001b[0m\n\u001b[0m",
      "\u001b[0;32m<ipython-input-52-30854f165824>\u001b[0m in \u001b[0;36mgreet\u001b[0;34m(**kwargs)\u001b[0m\n\u001b[1;32m      4\u001b[0m     \"\"\"\n\u001b[1;32m      5\u001b[0m     \u001b[0;32mif\u001b[0m \u001b[0mkwargs\u001b[0m\u001b[0;34m:\u001b[0m\u001b[0;34m\u001b[0m\u001b[0;34m\u001b[0m\u001b[0m\n\u001b[0;32m----> 6\u001b[0;31m         \u001b[0mprint\u001b[0m\u001b[0;34m(\u001b[0m\u001b[0;34m\"Hello {0}, {1}\"\u001b[0m\u001b[0;34m.\u001b[0m\u001b[0mformat\u001b[0m\u001b[0;34m(\u001b[0m\u001b[0mkwargs\u001b[0m\u001b[0;34m[\u001b[0m\u001b[0;34m\"name\"\u001b[0m\u001b[0;34m]\u001b[0m\u001b[0;34m,\u001b[0m \u001b[0mkwargs\u001b[0m\u001b[0;34m[\u001b[0m\u001b[0;34m\"msg\"\u001b[0m\u001b[0;34m]\u001b[0m\u001b[0;34m)\u001b[0m\u001b[0;34m)\u001b[0m\u001b[0;34m\u001b[0m\u001b[0;34m\u001b[0m\u001b[0m\n\u001b[0m\u001b[1;32m      7\u001b[0m \u001b[0;34m\u001b[0m\u001b[0m\n\u001b[1;32m      8\u001b[0m \u001b[0mgreet\u001b[0m\u001b[0;34m(\u001b[0m\u001b[0mname\u001b[0m \u001b[0;34m=\u001b[0m \u001b[0;34m\"Ramesh\"\u001b[0m\u001b[0;34m)\u001b[0m\u001b[0;34m\u001b[0m\u001b[0;34m\u001b[0m\u001b[0m\n",
      "\u001b[0;31mKeyError\u001b[0m: 'msg'"
     ]
    }
   ],
   "source": [
    "def greet(**kwargs):\n",
    "    \"\"\"\n",
    "    This is greets to person with provided message\n",
    "    \"\"\"\n",
    "    if kwargs:\n",
    "        print(\"Hello {0}, {1}\".format(kwargs[\"name\"], kwargs[\"msg\"]))\n",
    "        \n",
    "greet(name = \"Ramesh\")"
   ]
  },
  {
   "cell_type": "code",
   "execution_count": 12,
   "metadata": {},
   "outputs": [
    {
     "name": "stdout",
     "output_type": "stream",
     "text": [
      "Hello Ramesh, good morning\n"
     ]
    }
   ],
   "source": [
    "def greet(**kwargs):\n",
    "    \"\"\"\n",
    "    This is greets to person with provided message\n",
    "    \"\"\"\n",
    "    if kwargs:\n",
    "        print(\"Hello {0}, {1}\".format(kwargs[\"name\"], kwargs[\"msg\"]))\n",
    "    \n",
    "        \n",
    "greet(name = \"Ramesh\", msg=\"good morning\")"
   ]
  },
  {
   "cell_type": "markdown",
   "metadata": {},
   "source": [
    "# 3. Arbitary Arguments"
   ]
  },
  {
   "cell_type": "markdown",
   "metadata": {},
   "source": [
    "Sometimes, we do not know in advance the number of arguments that will be passed into a function.Python allows us to handle this kind of situation through function calls with arbitrary number of arguments."
   ]
  },
  {
   "cell_type": "code",
   "execution_count": 42,
   "metadata": {},
   "outputs": [
    {
     "name": "stdout",
     "output_type": "stream",
     "text": [
      "('ramesh', 'vinay', 'rahul', 'raju')\n",
      "Hello, ramesh\n",
      "Hello, vinay\n",
      "Hello, rahul\n",
      "Hello, raju\n"
     ]
    }
   ],
   "source": [
    "def greet (*names):\n",
    "    \"\"\"\n",
    "    This function greets all persons in the names tuple\n",
    "    \"\"\"\n",
    "    \n",
    "    print(names)\n",
    "    \n",
    "    for name in names:\n",
    "        print(\"Hello, {0}\".format(name))\n",
    "\n",
    "greet(\"ramesh\",\"vinay\",\"rahul\",\"raju\")"
   ]
  },
  {
   "cell_type": "code",
   "execution_count": 3,
   "metadata": {},
   "outputs": [
    {
     "name": "stdout",
     "output_type": "stream",
     "text": [
      "('ramesh', 'vinay', 'rajesh', 'raju')\n",
      "Hello, ('ramesh', 'vinay', 'rajesh', 'raju')\n"
     ]
    }
   ],
   "source": [
    "def greet (*names):\n",
    "    \"\"\"\n",
    "    This function greets all persons in the names tuple\n",
    "    \"\"\"\n",
    "    \n",
    "    print(names)\n",
    "    \n",
    "    \n",
    "    print(\"Hello, {0}\".format(names))\n",
    "\n",
    "greet(\"ramesh\",\"vinay\",\"rajesh\",\"raju\")"
   ]
  },
  {
   "cell_type": "code",
   "execution_count": 43,
   "metadata": {},
   "outputs": [
    {
     "name": "stdout",
     "output_type": "stream",
     "text": [
      "('ramesh', 'vinay', 'rahul', 'raju')\n"
     ]
    }
   ],
   "source": [
    "def greet(*names):\n",
    "    print(names)\n",
    "    \n",
    "greet(\"ramesh\",\"vinay\",\"rahul\",\"raju\")"
   ]
  },
  {
   "cell_type": "code",
   "execution_count": 44,
   "metadata": {},
   "outputs": [
    {
     "name": "stdout",
     "output_type": "stream",
     "text": [
      "first arguments:  Hello\n",
      "('welcome', 'to', 'applied ai course')\n",
      "Next i through * argv:  welcome\n",
      "Next i through * argv:  to\n",
      "Next i through * argv:  applied ai course\n"
     ]
    }
   ],
   "source": [
    "def myfun(arg1, *argv):\n",
    "    print(\"first arguments: \",arg1)\n",
    "    \n",
    "    print(argv)\n",
    "    \n",
    "    for i in argv:\n",
    "        print(\"Next i through * argv: \",i)\n",
    "        \n",
    "myfun(\"Hello\", \"welcome\", \"to\", \"applied ai course\")\n"
   ]
  },
  {
   "cell_type": "code",
   "execution_count": 55,
   "metadata": {},
   "outputs": [
    {
     "name": "stdout",
     "output_type": "stream",
     "text": [
      "(['Hello', 'welcome', 'to', 'applied ai course'],)\n",
      "i through * argv:  ['Hello', 'welcome', 'to', 'applied ai course']\n"
     ]
    }
   ],
   "source": [
    "def myfun(*argv):\n",
    "    \n",
    "    \n",
    "    print(argv)  \n",
    "    \n",
    "    for i in argv:\n",
    "        print(\"i through * argv: \",i)\n",
    "        \n",
    "myfun([\"Hello\", \"welcome\", \"to\", \"applied ai course\"]) #tuple of list list is consider only one element of tuple\n"
   ]
  },
  {
   "cell_type": "code",
   "execution_count": 58,
   "metadata": {},
   "outputs": [
    {
     "name": "stdout",
     "output_type": "stream",
     "text": [
      "('Hello', 'welcome', 'to', 'applied ai course')\n",
      "i through * argv:  Hello\n",
      "i through * argv:  welcome\n",
      "i through * argv:  to\n",
      "i through * argv:  applied ai course\n"
     ]
    }
   ],
   "source": [
    "def myfun(*argv):\n",
    "    \n",
    "    \n",
    "    print(argv)          #all elements are returns in tuple    \n",
    "    \n",
    "    for i in argv:\n",
    "        print(\"i through * argv: \",i)\n",
    "        \n",
    "myfun(\"Hello\", \"welcome\", \"to\", \"applied ai course\") #tuple of list list is consider only one element of tuple\n"
   ]
  },
  {
   "cell_type": "code",
   "execution_count": 60,
   "metadata": {},
   "outputs": [
    {
     "name": "stdout",
     "output_type": "stream",
     "text": [
      "('Hello', 'welcome', 'to', 'applied ai course')\n",
      "i through * argv:  Hello\n",
      "i through * argv:  welcome\n",
      "i through * argv:  to\n",
      "i through * argv:  applied ai course\n"
     ]
    }
   ],
   "source": [
    "def myfun(*argv):\n",
    "    \n",
    "    \n",
    "    print(argv)          #all elements are returns in tuple    \n",
    "    \n",
    "    for i in argv:\n",
    "        print(\"i through * argv: \",i)\n",
    "        \n",
    "myfun(\"Hello\", \"welcome\", \"to\", \"applied ai course\") \n"
   ]
  },
  {
   "cell_type": "code",
   "execution_count": 1,
   "metadata": {},
   "outputs": [
    {
     "name": "stdout",
     "output_type": "stream",
     "text": [
      "('Hello', 'welcome', 'to', 'applied ai course')\n"
     ]
    }
   ],
   "source": [
    "def myfun(*argv):\n",
    "    \n",
    "    \n",
    "    print(argv)          #all elements are returns in tuple    \n",
    "    \n",
    "    \n",
    "        \n",
    "myfun(\"Hello\", \"welcome\", \"to\", \"applied ai course\") \n"
   ]
  },
  {
   "cell_type": "markdown",
   "metadata": {},
   "source": [
    "# difference between *args and **args"
   ]
  },
  {
   "cell_type": "markdown",
   "metadata": {},
   "source": [
    "**kwargs : we have to pass any number of arguments but they must be keyword arguments. Ex : func(key1 = value, key2 = value, …).\n",
    "\n",
    "*names : We can pass any number of arguments, but all of them are just values. Ex : func(value1, value2, …). "
   ]
  },
  {
   "cell_type": "markdown",
   "metadata": {},
   "source": [
    "# *args"
   ]
  },
  {
   "cell_type": "code",
   "execution_count": 102,
   "metadata": {},
   "outputs": [
    {
     "name": "stdout",
     "output_type": "stream",
     "text": [
      "1\n",
      "Two\n",
      "3\n"
     ]
    }
   ],
   "source": [
    "def foo(*args):\n",
    "    for arg in args:\n",
    "        print(arg)\n",
    "        \n",
    "foo(1, \"Two\",3)\n",
    "\n"
   ]
  },
  {
   "cell_type": "markdown",
   "metadata": {},
   "source": [
    "# **kwargs"
   ]
  },
  {
   "cell_type": "code",
   "execution_count": 103,
   "metadata": {},
   "outputs": [
    {
     "name": "stdout",
     "output_type": "stream",
     "text": [
      "a abc\n",
      "b def\n"
     ]
    }
   ],
   "source": [
    "def foo(**kwargs):\n",
    "    for key in kwargs:\n",
    "        print(key, kwargs[key])\n",
    "        \n",
    "foo(a = 'abc', b = 'def')\n",
    "\n"
   ]
  },
  {
   "cell_type": "code",
   "execution_count": 66,
   "metadata": {},
   "outputs": [
    {
     "name": "stdout",
     "output_type": "stream",
     "text": [
      "enter number:4\n",
      "enter list numbers: 1\n",
      "enter list numbers: 2\n",
      "enter list numbers: 3\n",
      "enter list numbers: 4\n",
      "[1, 2, 3, 4]\n",
      "((1, 2, 3, 4),)\n",
      "i through * name:  (1, 2, 3, 4)\n"
     ]
    }
   ],
   "source": [
    "def myfun(*name):\n",
    "    \n",
    "    \n",
    "    print(name)          #all elements are returns in tuple    \n",
    "    \n",
    "    for i in name:\n",
    "        print(\"i through * name: \",i)\n",
    "\n",
    "n = int(input(\"enter number:\"))\n",
    "l =[]\n",
    "for k in range(n):\n",
    "    a = int(input(\"enter list numbers: \"))\n",
    "    l.append(a)\n",
    "print(l)\n",
    "b = tuple(l)\n",
    "\n",
    "myfun(b)\n"
   ]
  },
  {
   "cell_type": "code",
   "execution_count": 67,
   "metadata": {},
   "outputs": [],
   "source": [
    "def func_keyword(**args):\n",
    "    print(args[\"name\"])\n",
    "    \n",
    "def non_keyword(*args):\n",
    "    print(args)\n",
    "    \n",
    "b = {\"name\":\"abc\", \"m\":\"def\"}\n",
    "\n",
    "#here are not passing any keywords\n",
    "func_nonkeyword(1)\n",
    "func_nonkeyword(b)\n",
    "\n",
    "#here we passing keywords \"name\", \"m\"\n",
    "\n",
    "func_keyword(name=\"abc\", m=\"def\")\n",
    "\n",
    "#if you call key word function with out any key words it will result error\n",
    "#this will error , Type error: func_keyword() takes 0 arguments but 1 was given\n",
    "func_keyword(1)\n",
    "\n",
    "\n",
    "\n",
    "#if you call non_key word function with out any key words it will result error\n",
    "#this will error , Type error: func_keyword() got an unexpected key word 'name'\n",
    "func_nonkeyword(name = 'abc')\n",
    "    \n"
   ]
  },
  {
   "cell_type": "code",
   "execution_count": 74,
   "metadata": {},
   "outputs": [
    {
     "ename": "NameError",
     "evalue": "name 'kwaargs' is not defined",
     "output_type": "error",
     "traceback": [
      "\u001b[0;31m---------------------------------------------------------------------------\u001b[0m",
      "\u001b[0;31mNameError\u001b[0m                                 Traceback (most recent call last)",
      "\u001b[0;32m<ipython-input-74-09e96abb1a61>\u001b[0m in \u001b[0;36m<module>\u001b[0;34m\u001b[0m\n\u001b[1;32m      5\u001b[0m             \u001b[0mprint\u001b[0m\u001b[0;34m(\u001b[0m\u001b[0;34m\"{0} = {1}\"\u001b[0m\u001b[0;34m.\u001b[0m\u001b[0mformat\u001b[0m\u001b[0;34m(\u001b[0m\u001b[0mkey\u001b[0m\u001b[0;34m,\u001b[0m\u001b[0mvalue\u001b[0m\u001b[0;34m)\u001b[0m\u001b[0;34m)\u001b[0m\u001b[0;34m\u001b[0m\u001b[0;34m\u001b[0m\u001b[0m\n\u001b[1;32m      6\u001b[0m \u001b[0;34m\u001b[0m\u001b[0m\n\u001b[0;32m----> 7\u001b[0;31m \u001b[0mhello\u001b[0m\u001b[0;34m(\u001b[0m\u001b[0mname\u001b[0m\u001b[0;34m=\u001b[0m\u001b[0;34m'ramesh'\u001b[0m\u001b[0;34m)\u001b[0m\u001b[0;34m\u001b[0m\u001b[0;34m\u001b[0m\u001b[0m\n\u001b[0m",
      "\u001b[0;32m<ipython-input-74-09e96abb1a61>\u001b[0m in \u001b[0;36mhello\u001b[0;34m(**kwargs)\u001b[0m\n\u001b[1;32m      1\u001b[0m \u001b[0;32mdef\u001b[0m  \u001b[0mhello\u001b[0m\u001b[0;34m(\u001b[0m\u001b[0;34m**\u001b[0m\u001b[0mkwargs\u001b[0m\u001b[0;34m)\u001b[0m\u001b[0;34m:\u001b[0m\u001b[0;34m\u001b[0m\u001b[0;34m\u001b[0m\u001b[0m\n\u001b[1;32m      2\u001b[0m \u001b[0;34m\u001b[0m\u001b[0m\n\u001b[0;32m----> 3\u001b[0;31m     \u001b[0;32mif\u001b[0m \u001b[0mkwaargs\u001b[0m \u001b[0;32mis\u001b[0m \u001b[0;32mnot\u001b[0m \u001b[0;32mNone\u001b[0m\u001b[0;34m:\u001b[0m\u001b[0;34m\u001b[0m\u001b[0;34m\u001b[0m\u001b[0m\n\u001b[0m\u001b[1;32m      4\u001b[0m         \u001b[0;32mfor\u001b[0m \u001b[0mkey\u001b[0m\u001b[0;34m,\u001b[0m \u001b[0mvalue\u001b[0m \u001b[0;32min\u001b[0m \u001b[0mkwaargs\u001b[0m\u001b[0;34m.\u001b[0m\u001b[0miteritems\u001b[0m\u001b[0;34m(\u001b[0m\u001b[0;34m)\u001b[0m\u001b[0;34m:\u001b[0m\u001b[0;34m\u001b[0m\u001b[0;34m\u001b[0m\u001b[0m\n\u001b[1;32m      5\u001b[0m             \u001b[0mprint\u001b[0m\u001b[0;34m(\u001b[0m\u001b[0;34m\"{0} = {1}\"\u001b[0m\u001b[0;34m.\u001b[0m\u001b[0mformat\u001b[0m\u001b[0;34m(\u001b[0m\u001b[0mkey\u001b[0m\u001b[0;34m,\u001b[0m\u001b[0mvalue\u001b[0m\u001b[0;34m)\u001b[0m\u001b[0;34m)\u001b[0m\u001b[0;34m\u001b[0m\u001b[0;34m\u001b[0m\u001b[0m\n",
      "\u001b[0;31mNameError\u001b[0m: name 'kwaargs' is not defined"
     ]
    }
   ],
   "source": [
    "def  hello(**kwargs):\n",
    "    \n",
    "    if kwaargs is not None:\n",
    "        for key, value in kwaargs.iteritems():\n",
    "            print(\"{0} = {1}\".format(key,value))\n",
    "            \n",
    "hello(name='ramesh')\n"
   ]
  },
  {
   "cell_type": "markdown",
   "metadata": {},
   "source": [
    "# How to call  function to anathor function"
   ]
  },
  {
   "cell_type": "code",
   "execution_count": 86,
   "metadata": {},
   "outputs": [
    {
     "name": "stdout",
     "output_type": "stream",
     "text": [
      "result of func1(\"test\")\n",
      "result of func2(\"result of func1(\"test\")\")\n"
     ]
    }
   ],
   "source": [
    "def func2(msg):\n",
    "    return 'result of func2(\"' + func1(msg) + '\")'\n",
    "\n",
    "def func1(msg):\n",
    "    return 'result of func1(\"' + msg + '\")'\n",
    "\n",
    "print (func1('test'))\n",
    "print (func2('test'))"
   ]
  },
  {
   "cell_type": "code",
   "execution_count": 88,
   "metadata": {},
   "outputs": [
    {
     "name": "stdout",
     "output_type": "stream",
     "text": [
      "result of func1(\"message\")\n",
      "result of func2(\"result of func1(\"test\")\")\n"
     ]
    }
   ],
   "source": [
    "def func2(msg):\n",
    "    return 'result of func2(\"' + func1(msg) + '\")'\n",
    "\n",
    "def func1(msg):\n",
    "    return 'result of func1(\"' + msg + '\")'\n",
    "\n",
    "print (func1('message'))\n",
    "print (func2('test'))"
   ]
  },
  {
   "cell_type": "code",
   "execution_count": 89,
   "metadata": {},
   "outputs": [
    {
     "name": "stdout",
     "output_type": "stream",
     "text": [
      "result of func1(\"test\")\n",
      "result of func2(\"result of func1(\"test\")\")\n"
     ]
    }
   ],
   "source": [
    "def func2(msg):\n",
    "    return 'result of func2(\"' + func1(msg) + '\")'\n",
    "\n",
    "def func1(msg):\n",
    "    return 'result of func1(\"' + msg + '\")'\n",
    "\n",
    "print (func1('test'))\n",
    "print (func2('test'))"
   ]
  },
  {
   "cell_type": "code",
   "execution_count": 90,
   "metadata": {},
   "outputs": [
    {
     "name": "stdout",
     "output_type": "stream",
     "text": [
      "result of func1(\"test\")\n",
      "result of func2(\"result of func1(\"test\")\")\n"
     ]
    }
   ],
   "source": [
    "def func2(msg):\n",
    "    return 'result of func2(\"' + func1(msg) + '\")'\n",
    "\n",
    "def func1(msg):\n",
    "    return 'result of func1(\"' + msg + '\")'\n",
    "\n",
    "print (func1('test'))\n",
    "print (func2('test'))"
   ]
  },
  {
   "cell_type": "markdown",
   "metadata": {},
   "source": [
    "# multiplication table"
   ]
  },
  {
   "cell_type": "code",
   "execution_count": 93,
   "metadata": {},
   "outputs": [
    {
     "name": "stdout",
     "output_type": "stream",
     "text": [
      "enter number: 1\n",
      "1 * 0 = 0\n",
      "1 * 1 = 1\n",
      "1 * 2 = 2\n",
      "1 * 3 = 3\n",
      "1 * 4 = 4\n",
      "1 * 5 = 5\n",
      "1 * 6 = 6\n",
      "1 * 7 = 7\n",
      "1 * 8 = 8\n",
      "1 * 9 = 9\n",
      "1 * 10 = 10\n"
     ]
    }
   ],
   "source": [
    "def table():\n",
    "    n = int(input(\"enter number: \"))\n",
    "    for i in range(11):\n",
    "        print(\"{0} * {1} = {2}\".format(n, i, (n*i)))\n",
    "        \n",
    "table()"
   ]
  },
  {
   "cell_type": "code",
   "execution_count": 94,
   "metadata": {},
   "outputs": [
    {
     "name": "stdout",
     "output_type": "stream",
     "text": [
      "enter number: 4\n",
      "4 * 0 = 0\n",
      "4 * 1 = 4\n",
      "4 * 2 = 8\n",
      "4 * 3 = 12\n",
      "4 * 4 = 16\n",
      "4 * 5 = 20\n",
      "4 * 6 = 24\n",
      "4 * 7 = 28\n",
      "4 * 8 = 32\n",
      "4 * 9 = 36\n",
      "4 * 10 = 40\n"
     ]
    }
   ],
   "source": [
    "def table():\n",
    "    n = int(input(\"enter number: \"))\n",
    "    for i in range(11):\n",
    "        print(\"{0} * {1} = {2}\".format(n, i, (n*i)))\n",
    "        \n",
    "table()"
   ]
  },
  {
   "cell_type": "code",
   "execution_count": 95,
   "metadata": {},
   "outputs": [
    {
     "name": "stdout",
     "output_type": "stream",
     "text": [
      "enter number: 6\n",
      "6 * 0 = 0\n",
      "6 * 1 = 6\n",
      "6 * 2 = 12\n",
      "6 * 3 = 18\n",
      "6 * 4 = 24\n",
      "6 * 5 = 30\n",
      "6 * 6 = 36\n",
      "6 * 7 = 42\n",
      "6 * 8 = 48\n",
      "6 * 9 = 54\n",
      "6 * 10 = 60\n"
     ]
    }
   ],
   "source": [
    "def table():\n",
    "    n = int(input(\"enter number: \"))\n",
    "    for i in range(11):\n",
    "        print(\"{0} * {1} = {2}\".format(n, i, (n*i)))\n",
    "        \n",
    "table()"
   ]
  },
  {
   "cell_type": "code",
   "execution_count": 96,
   "metadata": {},
   "outputs": [
    {
     "name": "stdout",
     "output_type": "stream",
     "text": [
      "enter number: 2\n",
      "2 * 0 = 0\n",
      "2 * 1 = 2\n",
      "2 * 2 = 4\n",
      "2 * 3 = 6\n",
      "2 * 4 = 8\n",
      "2 * 5 = 10\n",
      "2 * 6 = 12\n",
      "2 * 7 = 14\n",
      "2 * 8 = 16\n",
      "2 * 9 = 18\n",
      "2 * 10 = 20\n"
     ]
    }
   ],
   "source": [
    "def table():\n",
    "    n = int(input(\"enter number: \"))\n",
    "    for i in range(11):\n",
    "        print(\"{0} * {1} = {2}\".format(n, i, (n*i)))\n",
    "        \n",
    "table()"
   ]
  },
  {
   "cell_type": "code",
   "execution_count": 110,
   "metadata": {},
   "outputs": [
    {
     "name": "stdout",
     "output_type": "stream",
     "text": [
      "1\n",
      "Two\n",
      "3\n"
     ]
    }
   ],
   "source": [
    "def foo(*args):\n",
    "    for arg in args:\n",
    "        print(arg)\n",
    "        \n",
    "foo(1, \"Two\",3)\n",
    "\n"
   ]
  },
  {
   "cell_type": "code",
   "execution_count": null,
   "metadata": {},
   "outputs": [],
   "source": []
  }
 ],
 "metadata": {
  "kernelspec": {
   "display_name": "Python 3",
   "language": "python",
   "name": "python3"
  },
  "language_info": {
   "codemirror_mode": {
    "name": "ipython",
    "version": 3
   },
   "file_extension": ".py",
   "mimetype": "text/x-python",
   "name": "python",
   "nbconvert_exporter": "python",
   "pygments_lexer": "ipython3",
   "version": "3.6.7"
  }
 },
 "nbformat": 4,
 "nbformat_minor": 2
}
