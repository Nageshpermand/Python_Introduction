{
 "cells": [
  {
   "cell_type": "markdown",
   "metadata": {},
   "source": [
    "# Debugging"
   ]
  },
  {
   "cell_type": "markdown",
   "metadata": {},
   "source": [
    "pdb implements an interactive debugging environment for Python programs. It includes features to let you pause your program, look at the values of variables, and watch program execution step-by-step, so you can understand what your program actually does and find bugs in the logic.\n"
   ]
  },
  {
   "cell_type": "markdown",
   "metadata": {},
   "source": [
    "# Starting the Debugger"
   ]
  },
  {
   "cell_type": "markdown",
   "metadata": {},
   "source": [
    "From the Command Line"
   ]
  },
  {
   "cell_type": "code",
   "execution_count": 2,
   "metadata": {},
   "outputs": [
    {
     "name": "stdout",
     "output_type": "stream",
     "text": [
      "0\n",
      "1\n",
      "2\n",
      "3\n"
     ]
    }
   ],
   "source": [
    "def seq(n):\n",
    "    for i in range(n):\n",
    "        print(i)\n",
    "    return\n",
    "\n",
    "seq(4)\n",
    "    "
   ]
  },
  {
   "cell_type": "markdown",
   "metadata": {},
   "source": [
    "From Within Your Program"
   ]
  },
  {
   "cell_type": "code",
   "execution_count": 5,
   "metadata": {},
   "outputs": [
    {
     "name": "stdout",
     "output_type": "stream",
     "text": [
      "> <ipython-input-5-3b61fd175c4f>(7)seq()\n",
      "-> print(i)\n",
      "(Pdb) list\n",
      "  2  \timport pdb\n",
      "  3  \t\n",
      "  4  \tdef seq(n):\n",
      "  5  \t    for i in range(n):\n",
      "  6  \t        pdb.set_trace()   # breakpoint\n",
      "  7  ->\t        print(i)\n",
      "  8  \t    return\n",
      "  9  \t\n",
      " 10  \tseq(4)\n",
      " 11  \t\n",
      " 12  \t\n",
      "(Pdb) p i\n",
      "0\n",
      "(Pdb) p n\n",
      "4\n",
      "(Pdb) p locals()\n",
      "{'i': 0, 'n': 4}\n",
      "(Pdb) c\n",
      "0\n",
      "> <ipython-input-5-3b61fd175c4f>(6)seq()\n",
      "-> pdb.set_trace()   # breakpoint\n",
      "(Pdb) p locals()\n",
      "{'i': 1, 'n': 4}\n",
      "(Pdb) c\n",
      "1\n",
      "> <ipython-input-5-3b61fd175c4f>(7)seq()\n",
      "-> print(i)\n",
      "(Pdb) p locals()\n",
      "{'i': 2, 'n': 4}\n",
      "(Pdb) c\n",
      "2\n",
      "> <ipython-input-5-3b61fd175c4f>(6)seq()\n",
      "-> pdb.set_trace()   # breakpoint\n",
      "(Pdb) p locals()\n",
      "{'i': 3, 'n': 4}\n",
      "(Pdb) c\n",
      "3\n"
     ]
    }
   ],
   "source": [
    "# python debugging module\n",
    "import pdb  \n",
    "\n",
    "def seq(n):\n",
    "    for i in range(n):\n",
    "        pdb.set_trace()   # breakpoint\n",
    "        print(i)\n",
    "    return\n",
    "\n",
    "seq(4)\n",
    "\n",
    "\n",
    "# c : continue  ----> using for continue the code continues iteration\n",
    "# q: quit\n",
    "# h: help        \n",
    "# list          ----> it tells us where stopped right now and where we in the program\n",
    "# p: print      \n",
    "# p locals()    ----->it shows us all local variable for current execution process\n",
    "# p globals()\n",
    "\n",
    "    "
   ]
  },
  {
   "cell_type": "markdown",
   "metadata": {},
   "source": [
    "# Debugger Commands"
   ]
  },
  {
   "cell_type": "markdown",
   "metadata": {},
   "source": [
    "1. h(elp) [command]\n",
    "\n",
    "Without argument, print the list of available commands. With a command as argument, print help about that command. help pdb displays the full documentation (the docstring of the pdb module). Since the command argument must be an identifier, help exec must be entered to get help on the ! command.\n",
    "\n",
    "2. w(here)\n",
    "\n",
    "Print a stack trace, with the most recent frame at the bottom. An arrow indicates the current frame, which determines the context of most commands.\n",
    "\n",
    "3. d(own) [count]\n",
    "\n",
    "Move the current frame count (default one) levels down in the stack trace (to a newer frame).\n",
    "\n",
    "4.c(ont(inue))\n",
    "\n",
    "Continue execution, only stop when a breakpoint is encountered.\n",
    "\n",
    "5. q(uit)\n",
    "\n",
    "Quit from the debugger. The program being executed is aborted.\n",
    "\n",
    "Termial/Command prompt based debugging\n"
   ]
  },
  {
   "cell_type": "code",
   "execution_count": 5,
   "metadata": {},
   "outputs": [
    {
     "name": "stdout",
     "output_type": "stream",
     "text": [
      "oops (<class 'FileNotFoundError'>, FileNotFoundError(2, 'No such file or directory'), <traceback object at 0x7f3354179cc8>) occured\n",
      "Next entry\n",
      "****************************************\n"
     ]
    }
   ],
   "source": [
    "import sys\n",
    "\n",
    "try:\n",
    "    f = open(\"sample.txt\",'r')\n",
    "    \n",
    "except:\n",
    "    print(\"oops\",sys.exc_info(),\"occured\") #it is capturing all errores\n",
    "    \n",
    "    print(\"Next entry\")\n",
    "    print(\"*\"*40)\n",
    "    \n"
   ]
  },
  {
   "cell_type": "code",
   "execution_count": 8,
   "metadata": {},
   "outputs": [
    {
     "name": "stdout",
     "output_type": "stream",
     "text": [
      "reciprocal of 1 is 1.0\n",
      "************************************************************\n",
      "reciprocal of 2 is 0.5\n",
      "************************************************************\n",
      "reciprocal of 3 is 0.3333333333333333\n",
      "************************************************************\n",
      "reciprocal of 4 is 0.25\n",
      "************************************************************\n",
      "<class 'ValueError'>\n",
      "reciprocal of a is 0.25\n",
      "************************************************************\n"
     ]
    }
   ],
   "source": [
    "import sys\n",
    "\n",
    "p=[1,2,3,4,'a']\n",
    "\n",
    "for i in p:\n",
    "    try:\n",
    "        r=1/int(i)\n",
    "    except:\n",
    "        print(sys.exc_info()[0])\n",
    "    print(\"reciprocal of\", i, \"is\", r)\n",
    "    print(\"*\"*60)"
   ]
  },
  {
   "cell_type": "code",
   "execution_count": 9,
   "metadata": {},
   "outputs": [
    {
     "name": "stdout",
     "output_type": "stream",
     "text": [
      "reciprocal of 1 is 1.0\n",
      "************************************************************\n",
      "reciprocal of 2 is 0.5\n",
      "************************************************************\n",
      "reciprocal of 3 is 0.3333333333333333\n",
      "************************************************************\n",
      "reciprocal of 4 is 0.25\n",
      "************************************************************\n",
      "<class 'ValueError'>\n",
      "reciprocal of a is 0.25\n",
      "************************************************************\n",
      "reciprocal of 6 is 0.16666666666666666\n",
      "************************************************************\n"
     ]
    }
   ],
   "source": [
    "import sys\n",
    "\n",
    "p=[1,2,3,4,'a',6]\n",
    "\n",
    "for i in p:\n",
    "    try:\n",
    "        r=1/int(i)\n",
    "    except:\n",
    "        print(sys.exc_info()[0])\n",
    "    print(\"reciprocal of\", i, \"is\", r)\n",
    "    print(\"*\"*60)"
   ]
  },
  {
   "cell_type": "code",
   "execution_count": 1,
   "metadata": {},
   "outputs": [
    {
     "name": "stdout",
     "output_type": "stream",
     "text": [
      "> <ipython-input-1-f40cb4b7c808>(8)some()\n",
      "-> print(i)\n",
      "(Pdb) c\n",
      "0\n",
      "> <ipython-input-1-f40cb4b7c808>(6)some()\n",
      "-> pdb.set_trace()\n",
      "(Pdb) c\n",
      "1\n",
      "> <ipython-input-1-f40cb4b7c808>(8)some()\n",
      "-> print(i)\n",
      "(Pdb) c\n",
      "2\n",
      "> <ipython-input-1-f40cb4b7c808>(6)some()\n",
      "-> pdb.set_trace()\n",
      "(Pdb) c\n",
      "3\n",
      "> <ipython-input-1-f40cb4b7c808>(8)some()\n",
      "-> print(i)\n",
      "(Pdb) c\n",
      "4\n",
      "> <ipython-input-1-f40cb4b7c808>(6)some()\n",
      "-> pdb.set_trace()\n",
      "(Pdb) c\n",
      "5\n",
      "> <ipython-input-1-f40cb4b7c808>(8)some()\n",
      "-> print(i)\n",
      "(Pdb) c\n",
      "6\n",
      "> <ipython-input-1-f40cb4b7c808>(6)some()\n",
      "-> pdb.set_trace()\n",
      "(Pdb) c\n",
      "7\n",
      "> <ipython-input-1-f40cb4b7c808>(8)some()\n",
      "-> print(i)\n",
      "(Pdb) c\n",
      "8\n",
      "> <ipython-input-1-f40cb4b7c808>(6)some()\n",
      "-> pdb.set_trace()\n",
      "(Pdb) c\n",
      "9\n"
     ]
    }
   ],
   "source": [
    "import pdb\n",
    "\n",
    "def some(num):\n",
    "    \n",
    "    for i in range(num):\n",
    "        pdb.set_trace()\n",
    "        \n",
    "        print(i)\n",
    "        \n",
    "some(10)"
   ]
  },
  {
   "cell_type": "code",
   "execution_count": 3,
   "metadata": {},
   "outputs": [
    {
     "name": "stdout",
     "output_type": "stream",
     "text": [
      "> <ipython-input-3-f40cb4b7c808>(8)some()\n",
      "-> print(i)\n",
      "(Pdb) list\n",
      "  3  \tdef some(num):\n",
      "  4  \t\n",
      "  5  \t    for i in range(num):\n",
      "  6  \t        pdb.set_trace()\n",
      "  7  \t\n",
      "  8  ->\t        print(i)\n",
      "  9  \t\n",
      " 10  \tsome(10)\n",
      "[EOF]\n",
      "(Pdb) p i\n",
      "0\n",
      "(Pdb) p num\n",
      "10\n",
      "(Pdb) p locals()\n",
      "{'i': 0, 'num': 10}\n",
      "(Pdb) p locals\n",
      "<built-in function locals>\n",
      "(Pdb) p locals()\n",
      "{'i': 0, 'num': 10}\n",
      "(Pdb) p globals()\n",
      "{'__name__': '__main__', '__doc__': 'Automatically created module for IPython interactive environment', '__package__': None, '__loader__': None, '__spec__': None, '__builtin__': <module 'builtins' (built-in)>, '__builtins__': <module 'builtins' (built-in)>, '_ih': ['', 'import pdb\\n\\ndef some(num):\\n    \\n    for i in range(num):\\n        pdb.set_trace()\\n        \\n        print(i)\\n        \\nsome(10)', 'import pdb\\n\\ndef some(num):\\n    \\n    for i in range(num):\\n        pdb.set_trace()\\n        \\n        print(i)\\n        \\nsome(10)', 'import pdb\\n\\ndef some(num):\\n    \\n    for i in range(num):\\n        pdb.set_trace()\\n        \\n        print(i)\\n        \\nsome(10)'], '_oh': {}, '_dh': ['/home/nagesh/appliedaicourse/4 Python Functions'], 'In': ['', 'import pdb\\n\\ndef some(num):\\n    \\n    for i in range(num):\\n        pdb.set_trace()\\n        \\n        print(i)\\n        \\nsome(10)', 'import pdb\\n\\ndef some(num):\\n    \\n    for i in range(num):\\n        pdb.set_trace()\\n        \\n        print(i)\\n        \\nsome(10)', 'import pdb\\n\\ndef some(num):\\n    \\n    for i in range(num):\\n        pdb.set_trace()\\n        \\n        print(i)\\n        \\nsome(10)'], 'Out': {}, 'get_ipython': <bound method InteractiveShell.get_ipython of <ipykernel.zmqshell.ZMQInteractiveShell object at 0x7f4e1f496cc0>>, 'exit': <IPython.core.autocall.ZMQExitAutocall object at 0x7f4e1f475550>, 'quit': <IPython.core.autocall.ZMQExitAutocall object at 0x7f4e1f475550>, '_': '', '__': '', '___': '', '_i': 'import pdb\\n\\ndef some(num):\\n    \\n    for i in range(num):\\n        pdb.set_trace()\\n        \\n        print(i)\\n        \\nsome(10)', '_ii': 'import pdb\\n\\ndef some(num):\\n    \\n    for i in range(num):\\n        pdb.set_trace()\\n        \\n        print(i)\\n        \\nsome(10)', '_iii': '', '_i1': 'import pdb\\n\\ndef some(num):\\n    \\n    for i in range(num):\\n        pdb.set_trace()\\n        \\n        print(i)\\n        \\nsome(10)', 'pdb': <module 'pdb' from '/usr/lib/python3.6/pdb.py'>, 'some': <function some at 0x7f4e1c0eb620>, '_i2': 'import pdb\\n\\ndef some(num):\\n    \\n    for i in range(num):\\n        pdb.set_trace()\\n        \\n        print(i)\\n        \\nsome(10)', '_i3': 'import pdb\\n\\ndef some(num):\\n    \\n    for i in range(num):\\n        pdb.set_trace()\\n        \\n        print(i)\\n        \\nsome(10)'}\n",
      "(Pdb) q\n"
     ]
    },
    {
     "ename": "BdbQuit",
     "evalue": "",
     "output_type": "error",
     "traceback": [
      "\u001b[0;31m---------------------------------------------------------------------------\u001b[0m",
      "\u001b[0;31mBdbQuit\u001b[0m                                   Traceback (most recent call last)",
      "\u001b[0;32m<ipython-input-3-f40cb4b7c808>\u001b[0m in \u001b[0;36m<module>\u001b[0;34m\u001b[0m\n\u001b[1;32m      8\u001b[0m         \u001b[0mprint\u001b[0m\u001b[0;34m(\u001b[0m\u001b[0mi\u001b[0m\u001b[0;34m)\u001b[0m\u001b[0;34m\u001b[0m\u001b[0;34m\u001b[0m\u001b[0m\n\u001b[1;32m      9\u001b[0m \u001b[0;34m\u001b[0m\u001b[0m\n\u001b[0;32m---> 10\u001b[0;31m \u001b[0msome\u001b[0m\u001b[0;34m(\u001b[0m\u001b[0;36m10\u001b[0m\u001b[0;34m)\u001b[0m\u001b[0;34m\u001b[0m\u001b[0;34m\u001b[0m\u001b[0m\n\u001b[0m",
      "\u001b[0;32m<ipython-input-3-f40cb4b7c808>\u001b[0m in \u001b[0;36msome\u001b[0;34m(num)\u001b[0m\n\u001b[1;32m      6\u001b[0m         \u001b[0mpdb\u001b[0m\u001b[0;34m.\u001b[0m\u001b[0mset_trace\u001b[0m\u001b[0;34m(\u001b[0m\u001b[0;34m)\u001b[0m\u001b[0;34m\u001b[0m\u001b[0;34m\u001b[0m\u001b[0m\n\u001b[1;32m      7\u001b[0m \u001b[0;34m\u001b[0m\u001b[0m\n\u001b[0;32m----> 8\u001b[0;31m         \u001b[0mprint\u001b[0m\u001b[0;34m(\u001b[0m\u001b[0mi\u001b[0m\u001b[0;34m)\u001b[0m\u001b[0;34m\u001b[0m\u001b[0;34m\u001b[0m\u001b[0m\n\u001b[0m\u001b[1;32m      9\u001b[0m \u001b[0;34m\u001b[0m\u001b[0m\n\u001b[1;32m     10\u001b[0m \u001b[0msome\u001b[0m\u001b[0;34m(\u001b[0m\u001b[0;36m10\u001b[0m\u001b[0;34m)\u001b[0m\u001b[0;34m\u001b[0m\u001b[0;34m\u001b[0m\u001b[0m\n",
      "\u001b[0;32m<ipython-input-3-f40cb4b7c808>\u001b[0m in \u001b[0;36msome\u001b[0;34m(num)\u001b[0m\n\u001b[1;32m      6\u001b[0m         \u001b[0mpdb\u001b[0m\u001b[0;34m.\u001b[0m\u001b[0mset_trace\u001b[0m\u001b[0;34m(\u001b[0m\u001b[0;34m)\u001b[0m\u001b[0;34m\u001b[0m\u001b[0;34m\u001b[0m\u001b[0m\n\u001b[1;32m      7\u001b[0m \u001b[0;34m\u001b[0m\u001b[0m\n\u001b[0;32m----> 8\u001b[0;31m         \u001b[0mprint\u001b[0m\u001b[0;34m(\u001b[0m\u001b[0mi\u001b[0m\u001b[0;34m)\u001b[0m\u001b[0;34m\u001b[0m\u001b[0;34m\u001b[0m\u001b[0m\n\u001b[0m\u001b[1;32m      9\u001b[0m \u001b[0;34m\u001b[0m\u001b[0m\n\u001b[1;32m     10\u001b[0m \u001b[0msome\u001b[0m\u001b[0;34m(\u001b[0m\u001b[0;36m10\u001b[0m\u001b[0;34m)\u001b[0m\u001b[0;34m\u001b[0m\u001b[0;34m\u001b[0m\u001b[0m\n",
      "\u001b[0;32m/usr/lib/python3.6/bdb.py\u001b[0m in \u001b[0;36mtrace_dispatch\u001b[0;34m(self, frame, event, arg)\u001b[0m\n\u001b[1;32m     49\u001b[0m             \u001b[0;32mreturn\u001b[0m \u001b[0;31m# None\u001b[0m\u001b[0;34m\u001b[0m\u001b[0;34m\u001b[0m\u001b[0m\n\u001b[1;32m     50\u001b[0m         \u001b[0;32mif\u001b[0m \u001b[0mevent\u001b[0m \u001b[0;34m==\u001b[0m \u001b[0;34m'line'\u001b[0m\u001b[0;34m:\u001b[0m\u001b[0;34m\u001b[0m\u001b[0;34m\u001b[0m\u001b[0m\n\u001b[0;32m---> 51\u001b[0;31m             \u001b[0;32mreturn\u001b[0m \u001b[0mself\u001b[0m\u001b[0;34m.\u001b[0m\u001b[0mdispatch_line\u001b[0m\u001b[0;34m(\u001b[0m\u001b[0mframe\u001b[0m\u001b[0;34m)\u001b[0m\u001b[0;34m\u001b[0m\u001b[0;34m\u001b[0m\u001b[0m\n\u001b[0m\u001b[1;32m     52\u001b[0m         \u001b[0;32mif\u001b[0m \u001b[0mevent\u001b[0m \u001b[0;34m==\u001b[0m \u001b[0;34m'call'\u001b[0m\u001b[0;34m:\u001b[0m\u001b[0;34m\u001b[0m\u001b[0;34m\u001b[0m\u001b[0m\n\u001b[1;32m     53\u001b[0m             \u001b[0;32mreturn\u001b[0m \u001b[0mself\u001b[0m\u001b[0;34m.\u001b[0m\u001b[0mdispatch_call\u001b[0m\u001b[0;34m(\u001b[0m\u001b[0mframe\u001b[0m\u001b[0;34m,\u001b[0m \u001b[0marg\u001b[0m\u001b[0;34m)\u001b[0m\u001b[0;34m\u001b[0m\u001b[0;34m\u001b[0m\u001b[0m\n",
      "\u001b[0;32m/usr/lib/python3.6/bdb.py\u001b[0m in \u001b[0;36mdispatch_line\u001b[0;34m(self, frame)\u001b[0m\n\u001b[1;32m     68\u001b[0m         \u001b[0;32mif\u001b[0m \u001b[0mself\u001b[0m\u001b[0;34m.\u001b[0m\u001b[0mstop_here\u001b[0m\u001b[0;34m(\u001b[0m\u001b[0mframe\u001b[0m\u001b[0;34m)\u001b[0m \u001b[0;32mor\u001b[0m \u001b[0mself\u001b[0m\u001b[0;34m.\u001b[0m\u001b[0mbreak_here\u001b[0m\u001b[0;34m(\u001b[0m\u001b[0mframe\u001b[0m\u001b[0;34m)\u001b[0m\u001b[0;34m:\u001b[0m\u001b[0;34m\u001b[0m\u001b[0;34m\u001b[0m\u001b[0m\n\u001b[1;32m     69\u001b[0m             \u001b[0mself\u001b[0m\u001b[0;34m.\u001b[0m\u001b[0muser_line\u001b[0m\u001b[0;34m(\u001b[0m\u001b[0mframe\u001b[0m\u001b[0;34m)\u001b[0m\u001b[0;34m\u001b[0m\u001b[0;34m\u001b[0m\u001b[0m\n\u001b[0;32m---> 70\u001b[0;31m             \u001b[0;32mif\u001b[0m \u001b[0mself\u001b[0m\u001b[0;34m.\u001b[0m\u001b[0mquitting\u001b[0m\u001b[0;34m:\u001b[0m \u001b[0;32mraise\u001b[0m \u001b[0mBdbQuit\u001b[0m\u001b[0;34m\u001b[0m\u001b[0;34m\u001b[0m\u001b[0m\n\u001b[0m\u001b[1;32m     71\u001b[0m         \u001b[0;32mreturn\u001b[0m \u001b[0mself\u001b[0m\u001b[0;34m.\u001b[0m\u001b[0mtrace_dispatch\u001b[0m\u001b[0;34m\u001b[0m\u001b[0;34m\u001b[0m\u001b[0m\n\u001b[1;32m     72\u001b[0m \u001b[0;34m\u001b[0m\u001b[0m\n",
      "\u001b[0;31mBdbQuit\u001b[0m: "
     ]
    }
   ],
   "source": [
    "import pdb\n",
    "\n",
    "def some(num):\n",
    "    \n",
    "    for i in range(num):\n",
    "        pdb.set_trace()\n",
    "        \n",
    "        print(i)\n",
    "        \n",
    "some(10)"
   ]
  },
  {
   "cell_type": "code",
   "execution_count": 5,
   "metadata": {},
   "outputs": [
    {
     "name": "stdout",
     "output_type": "stream",
     "text": [
      "1\n",
      "2\n",
      "3\n",
      "4\n",
      "5\n",
      "6\n",
      "7\n",
      "8\n",
      "9\n",
      "--Call--\n",
      "> /home/nagesh/.local/lib/python3.6/site-packages/IPython/core/displayhook.py(247)__call__()\n",
      "-> def __call__(self, result=None):\n",
      "(Pdb) list\n",
      "242  \t    def finish_displayhook(self):\n",
      "243  \t        \"\"\"Finish up all displayhook activities.\"\"\"\n",
      "244  \t        sys.stdout.write(self.shell.separate_out2)\n",
      "245  \t        sys.stdout.flush()\n",
      "246  \t\n",
      "247  ->\t    def __call__(self, result=None):\n",
      "248  \t        \"\"\"Printing with history cache management.\n",
      "249  \t\n",
      "250  \t        This is invoked everytime the interpreter needs to print, and is\n",
      "251  \t        activated by setting the variable sys.displayhook to it.\n",
      "252  \t        \"\"\"\n",
      "(Pdb) c\n"
     ]
    }
   ],
   "source": [
    "import pdb\n",
    "\n",
    "def some(num):\n",
    "    \n",
    "    for i in range(num):\n",
    "        if i>0:\n",
    "            print(i)\n",
    "some(10)\n",
    "pdb.set_trace()"
   ]
  },
  {
   "cell_type": "code",
   "execution_count": 8,
   "metadata": {},
   "outputs": [
    {
     "name": "stdout",
     "output_type": "stream",
     "text": [
      "> <ipython-input-8-f40cb4b7c808>(8)some()\n",
      "-> print(i)\n",
      "(Pdb) list\n",
      "  3  \tdef some(num):\n",
      "  4  \t\n",
      "  5  \t    for i in range(num):\n",
      "  6  \t        pdb.set_trace()\n",
      "  7  \t\n",
      "  8  ->\t        print(i)\n",
      "  9  \t\n",
      " 10  \tsome(10)\n",
      "[EOF]\n",
      "(Pdb) c\n",
      "0\n",
      "> <ipython-input-8-f40cb4b7c808>(6)some()\n",
      "-> pdb.set_trace()\n",
      "(Pdb) c\n",
      "1\n",
      "> <ipython-input-8-f40cb4b7c808>(8)some()\n",
      "-> print(i)\n",
      "(Pdb) c\n",
      "2\n",
      "> <ipython-input-8-f40cb4b7c808>(6)some()\n",
      "-> pdb.set_trace()\n",
      "(Pdb) c\n",
      "3\n",
      "> <ipython-input-8-f40cb4b7c808>(8)some()\n",
      "-> print(i)\n",
      "(Pdb) c\n",
      "4\n",
      "> <ipython-input-8-f40cb4b7c808>(6)some()\n",
      "-> pdb.set_trace()\n",
      "(Pdb) c\n",
      "5\n",
      "> <ipython-input-8-f40cb4b7c808>(8)some()\n",
      "-> print(i)\n",
      "(Pdb) c\n",
      "6\n",
      "> <ipython-input-8-f40cb4b7c808>(6)some()\n",
      "-> pdb.set_trace()\n",
      "(Pdb) c\n",
      "7\n",
      "> <ipython-input-8-f40cb4b7c808>(8)some()\n",
      "-> print(i)\n",
      "(Pdb) c\n",
      "8\n",
      "> <ipython-input-8-f40cb4b7c808>(6)some()\n",
      "-> pdb.set_trace()\n",
      "(Pdb) c\n",
      "9\n"
     ]
    }
   ],
   "source": [
    "import pdb\n",
    "\n",
    "def some(num):\n",
    "    \n",
    "    for i in range(num):\n",
    "        pdb.set_trace()\n",
    "        \n",
    "        print(i)\n",
    "        \n",
    "some(10)"
   ]
  },
  {
   "cell_type": "code",
   "execution_count": null,
   "metadata": {},
   "outputs": [],
   "source": []
  }
 ],
 "metadata": {
  "kernelspec": {
   "display_name": "Python 3",
   "language": "python",
   "name": "python3"
  },
  "language_info": {
   "codemirror_mode": {
    "name": "ipython",
    "version": 3
   },
   "file_extension": ".py",
   "mimetype": "text/x-python",
   "name": "python",
   "nbconvert_exporter": "python",
   "pygments_lexer": "ipython3",
   "version": "3.6.7"
  }
 },
 "nbformat": 4,
 "nbformat_minor": 2
}
