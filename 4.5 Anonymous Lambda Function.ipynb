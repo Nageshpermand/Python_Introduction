{
 "cells": [
  {
   "cell_type": "markdown",
   "metadata": {},
   "source": [
    "# Anonymous / Lambda Function"
   ]
  },
  {
   "cell_type": "markdown",
   "metadata": {},
   "source": [
    "anonymous meaning in english as choose name to function as variable"
   ]
  },
  {
   "cell_type": "markdown",
   "metadata": {},
   "source": [
    "in Python, anonymous function is a function that is defined without a name.\n",
    "\n",
    "While normal functions are defined using the def keyword, in Python anonymous functions are defined using the lambda keyword.\n",
    "\n",
    "Lambda functions are used extensively along with built-in functions like filter(), map()\n",
    "\n",
    "syntax:\n",
    "\n",
    "lambda arguments: expression\n",
    "\n"
   ]
  },
  {
   "cell_type": "markdown",
   "metadata": {},
   "source": [
    "# Example:"
   ]
  },
  {
   "cell_type": "code",
   "execution_count": 2,
   "metadata": {},
   "outputs": [
    {
     "name": "stdout",
     "output_type": "stream",
     "text": [
      "8\n"
     ]
    }
   ],
   "source": [
    "#normal function with define variable\n",
    "\n",
    "def double(x):\n",
    "    return x*2\n",
    "\n",
    "print(double(4))"
   ]
  },
  {
   "cell_type": "code",
   "execution_count": 4,
   "metadata": {},
   "outputs": [
    {
     "name": "stdout",
     "output_type": "stream",
     "text": [
      "8\n"
     ]
    }
   ],
   "source": [
    "#using lambda keyword function\n",
    "\n",
    "double = lambda x : x*2\n",
    "\n",
    "print(double(4))"
   ]
  },
  {
   "cell_type": "code",
   "execution_count": 35,
   "metadata": {},
   "outputs": [
    {
     "name": "stdout",
     "output_type": "stream",
     "text": [
      "4 is even number\n",
      "None\n"
     ]
    }
   ],
   "source": [
    "def double(x):\n",
    "    if x%2 == 0:\n",
    "        print(x,\"is even number\")\n",
    "        \n",
    "    else:\n",
    "        print(x,\"is odd number\")\n",
    "    \n",
    "        \n",
    "a = double(4)\n",
    "\n",
    "print(a)\n",
    "        \n",
    "        \n",
    "    "
   ]
  },
  {
   "cell_type": "code",
   "execution_count": 6,
   "metadata": {},
   "outputs": [
    {
     "name": "stdout",
     "output_type": "stream",
     "text": [
      "4\n"
     ]
    }
   ],
   "source": [
    "double = lambda x: x if x%2 == 0  else 'it is odd number'\n",
    "\n",
    "a = double(4)\n",
    "print(a)"
   ]
  },
  {
   "cell_type": "code",
   "execution_count": 8,
   "metadata": {},
   "outputs": [
    {
     "name": "stdout",
     "output_type": "stream",
     "text": [
      "it is odd number\n"
     ]
    }
   ],
   "source": [
    "double = lambda x: x if x%2 == 0  else 'it is odd number'\n",
    "\n",
    "a = double(9)\n",
    "print(a)"
   ]
  },
  {
   "cell_type": "code",
   "execution_count": 1,
   "metadata": {},
   "outputs": [
    {
     "name": "stdout",
     "output_type": "stream",
     "text": [
      "(9, ' is odd')\n"
     ]
    }
   ],
   "source": [
    "double = lambda x:  (x, ' is even') if (x%2 == 0)  else (x,\" is odd\") \n",
    "\n",
    "a = double(9)\n",
    "print(a)"
   ]
  },
  {
   "cell_type": "code",
   "execution_count": 58,
   "metadata": {},
   "outputs": [
    {
     "name": "stdout",
     "output_type": "stream",
     "text": [
      " x is even\n"
     ]
    }
   ],
   "source": [
    "double = lambda x:  \" x is even\" if (x%2 == 0)  else \"x is odd\"\n",
    "\n",
    "a = double(4)\n",
    "print(a)"
   ]
  },
  {
   "cell_type": "code",
   "execution_count": 36,
   "metadata": {},
   "outputs": [
    {
     "data": {
      "text/plain": [
       "24"
      ]
     },
     "execution_count": 36,
     "metadata": {},
     "output_type": "execute_result"
    }
   ],
   "source": [
    "#for factorial\n",
    "\n",
    "factorial = lambda  num: 1 if num==1 else num*factorial(num-1)\n",
    "\n",
    "factorial(4)"
   ]
  },
  {
   "cell_type": "code",
   "execution_count": 38,
   "metadata": {},
   "outputs": [
    {
     "data": {
      "text/plain": [
       "720"
      ]
     },
     "execution_count": 38,
     "metadata": {},
     "output_type": "execute_result"
    }
   ],
   "source": [
    "#for factorial\n",
    "\n",
    "factorial = lambda  num: 1 if num==1 else num*factorial(num-1)\n",
    "\n",
    "factorial(6)"
   ]
  },
  {
   "cell_type": "code",
   "execution_count": 39,
   "metadata": {},
   "outputs": [
    {
     "name": "stdout",
     "output_type": "stream",
     "text": [
      "enter a number6\n",
      "720\n"
     ]
    }
   ],
   "source": [
    "#for factorial\n",
    "\n",
    "factorial = lambda  num: 1 if num==1 else num*factorial(num-1)\n",
    "\n",
    "a = int(input(\"enter a number\"))\n",
    "\n",
    "print(factorial(a))"
   ]
  },
  {
   "cell_type": "code",
   "execution_count": 41,
   "metadata": {},
   "outputs": [
    {
     "name": "stdout",
     "output_type": "stream",
     "text": [
      "enter a number10\n",
      "the factorial of 1 is: 1\n",
      "the factorial of 2 is: 2\n",
      "the factorial of 3 is: 6\n",
      "the factorial of 4 is: 24\n",
      "the factorial of 5 is: 120\n",
      "the factorial of 6 is: 720\n",
      "the factorial of 7 is: 5040\n",
      "the factorial of 8 is: 40320\n",
      "the factorial of 9 is: 362880\n"
     ]
    }
   ],
   "source": [
    "#using lamda function for factorial\n",
    "\n",
    "factorial = lambda  num: 1 if num==1 else num*factorial(num-1)\n",
    "\n",
    "a = int(input(\"enter a number\"))\n",
    "\n",
    "for i in range(1,a):\n",
    "    print(\"the factorial of\",i,\"is:\",factorial(i))"
   ]
  },
  {
   "cell_type": "code",
   "execution_count": 51,
   "metadata": {},
   "outputs": [
    {
     "name": "stdout",
     "output_type": "stream",
     "text": [
      "enter a number10\n",
      "the factorial of 1 is: 1\n",
      "the factorial of 2 is: 2\n",
      "the factorial of 3 is: 6\n",
      "the factorial of 4 is: 24\n",
      "the factorial of 5 is: 120\n",
      "the factorial of 6 is: 720\n",
      "the factorial of 7 is: 5040\n",
      "the factorial of 8 is: 40320\n",
      "the factorial of 9 is: 362880\n"
     ]
    }
   ],
   "source": [
    "#using lamda function for factorial\n",
    "\n",
    "factorial = lambda  num: 1 if num==1 else num*factorial(num-1)\n",
    "\n",
    "a = int(input(\"enter a number\"))\n",
    "\n",
    "for i in range(1,a):\n",
    "    print(\"the factorial of\",i,\"is:\",factorial(i))"
   ]
  },
  {
   "cell_type": "code",
   "execution_count": 1,
   "metadata": {},
   "outputs": [
    {
     "name": "stdout",
     "output_type": "stream",
     "text": [
      "enter a number0\n"
     ]
    }
   ],
   "source": [
    "#using lamda function for factorial\n",
    "\n",
    "factorial = lambda  num: 1 if num==1 or num==0 else num*factorial(num-1)\n",
    "\n",
    "a = int(input(\"enter a number\"))\n",
    "\n",
    "for i in range(1,a):\n",
    "    print(\"the factorial of\",i,\"is:\",factorial(i))"
   ]
  },
  {
   "cell_type": "code",
   "execution_count": 2,
   "metadata": {},
   "outputs": [
    {
     "name": "stdout",
     "output_type": "stream",
     "text": [
      "enter a number1\n"
     ]
    }
   ],
   "source": [
    "#using lamda function for factorial\n",
    "\n",
    "factorial = lambda  num: 1 if num==1 or num==0 else num*factorial(num-1)\n",
    "\n",
    "a = int(input(\"enter a number\"))\n",
    "\n",
    "for i in range(1,a):\n",
    "    print(\"the factorial of\",i,\"is:\",factorial(i))"
   ]
  },
  {
   "cell_type": "code",
   "execution_count": 3,
   "metadata": {},
   "outputs": [
    {
     "name": "stdout",
     "output_type": "stream",
     "text": [
      "enter a number6\n",
      "the factorial of 1 is: 1\n",
      "the factorial of 2 is: 2\n",
      "the factorial of 3 is: 6\n",
      "the factorial of 4 is: 24\n",
      "the factorial of 5 is: 120\n"
     ]
    }
   ],
   "source": [
    "#using lamda function for factorial\n",
    "\n",
    "factorial = lambda  num: 1 if num==1 or num==0 else num*factorial(num-1)\n",
    "\n",
    "a = int(input(\"enter a number\"))\n",
    "\n",
    "for i in range(1,a):\n",
    "    print(\"the factorial of\",i,\"is:\",factorial(i))"
   ]
  },
  {
   "cell_type": "code",
   "execution_count": 4,
   "metadata": {},
   "outputs": [
    {
     "name": "stdout",
     "output_type": "stream",
     "text": [
      "enter a number20\n",
      "the factorial of 1 is: 1\n",
      "the factorial of 2 is: 2\n",
      "the factorial of 3 is: 6\n",
      "the factorial of 4 is: 24\n",
      "the factorial of 5 is: 120\n",
      "the factorial of 6 is: 720\n",
      "the factorial of 7 is: 5040\n",
      "the factorial of 8 is: 40320\n",
      "the factorial of 9 is: 362880\n",
      "the factorial of 10 is: 3628800\n",
      "the factorial of 11 is: 39916800\n",
      "the factorial of 12 is: 479001600\n",
      "the factorial of 13 is: 6227020800\n",
      "the factorial of 14 is: 87178291200\n",
      "the factorial of 15 is: 1307674368000\n",
      "the factorial of 16 is: 20922789888000\n",
      "the factorial of 17 is: 355687428096000\n",
      "the factorial of 18 is: 6402373705728000\n",
      "the factorial of 19 is: 121645100408832000\n"
     ]
    }
   ],
   "source": [
    "#using lamda function for factorial\n",
    "\n",
    "factorial = lambda  num: 1 if num==1 or num==0 else num*factorial(num-1)\n",
    "\n",
    "a = int(input(\"enter a number\"))\n",
    "\n",
    "for i in range(1,a):\n",
    "    print(\"the factorial of\",i,\"is:\",factorial(i))"
   ]
  },
  {
   "cell_type": "markdown",
   "metadata": {},
   "source": [
    "# Example use with filter()"
   ]
  },
  {
   "cell_type": "code",
   "execution_count": 68,
   "metadata": {},
   "outputs": [
    {
     "name": "stdout",
     "output_type": "stream",
     "text": [
      "[2, 4, 6, 8]\n"
     ]
    }
   ],
   "source": [
    "l = [1,2,3,4,5,6,7,8]\n",
    "\n",
    "even_lst = list(filter(lambda x: (x%2==0), l))\n",
    "\n",
    "print (even_lst)\n"
   ]
  },
  {
   "cell_type": "code",
   "execution_count": 71,
   "metadata": {},
   "outputs": [
    {
     "name": "stdout",
     "output_type": "stream",
     "text": [
      "[2, 4, 6, 8]\n"
     ]
    }
   ],
   "source": [
    "l = [1,2,3,4,5,6,7,8]\n",
    "\n",
    "even_lst = list(filter(lambda x: (x%2==0), l))\n",
    "\n",
    "print (even_lst)\n"
   ]
  },
  {
   "cell_type": "code",
   "execution_count": 72,
   "metadata": {},
   "outputs": [
    {
     "name": "stdout",
     "output_type": "stream",
     "text": [
      "<function <lambda> at 0x7fbe281f99d8>\n"
     ]
    }
   ],
   "source": [
    "lst = [1,2,3,4,5,6,7,8,9]\n",
    "\n",
    "even_num  = lambda x: x if (x%2 == 0) else \"odd\"\n",
    "\n",
    "print(even_num)"
   ]
  },
  {
   "cell_type": "code",
   "execution_count": 74,
   "metadata": {},
   "outputs": [
    {
     "name": "stdout",
     "output_type": "stream",
     "text": [
      "[2, 4, 6, 8]\n"
     ]
    }
   ],
   "source": [
    "l = [1,2,3,4,5,6,7,8]\n",
    "\n",
    "even_lst = list(filter(lambda x: (x%2==0), l))\n",
    "\n",
    "print (even_lst)\n"
   ]
  },
  {
   "cell_type": "code",
   "execution_count": 76,
   "metadata": {},
   "outputs": [],
   "source": [
    "l = [1,2,3,4,5,6,7,8]\n",
    "\n",
    "even_lst = lambda x: (x%2==0)\n",
    "\n"
   ]
  },
  {
   "cell_type": "code",
   "execution_count": 78,
   "metadata": {},
   "outputs": [
    {
     "name": "stdout",
     "output_type": "stream",
     "text": [
      "[2, 4, 6, 8]\n"
     ]
    }
   ],
   "source": [
    "l = [1,2,3,4,5,6,7,8]\n",
    "\n",
    "even_lst = lambda x: (x%2==0)\n",
    "\n",
    "print(list(filter(even_lst, l)))"
   ]
  },
  {
   "cell_type": "code",
   "execution_count": 84,
   "metadata": {},
   "outputs": [
    {
     "name": "stdout",
     "output_type": "stream",
     "text": [
      "<filter object at 0x7fbe280f1e48>\n"
     ]
    }
   ],
   "source": [
    "l = [1,2,3,4,5,6,7,8]\n",
    "\n",
    "even_lst = lambda x: (x%2==0)\n",
    "\n",
    "print(filter(even_lst, l))       #if there is no list or tuple it can not print because it cant print iterate values"
   ]
  },
  {
   "cell_type": "code",
   "execution_count": 82,
   "metadata": {},
   "outputs": [
    {
     "name": "stdout",
     "output_type": "stream",
     "text": [
      "[2, 4, 6, 8]\n"
     ]
    }
   ],
   "source": [
    "l = [1,2,3,4,5,6,7,8]\n",
    "\n",
    "even_lst = lambda x: (x%2==0)\n",
    "\n",
    "print(list(filter(even_lst, l)))       "
   ]
  },
  {
   "cell_type": "code",
   "execution_count": 83,
   "metadata": {},
   "outputs": [
    {
     "name": "stdout",
     "output_type": "stream",
     "text": [
      "(2, 4, 6, 8)\n"
     ]
    }
   ],
   "source": [
    "l = [1,2,3,4,5,6,7,8]\n",
    "\n",
    "even_lst = lambda x: (x%2==0)\n",
    "\n",
    "print(tuple(filter(even_lst, l)))       "
   ]
  },
  {
   "cell_type": "markdown",
   "metadata": {},
   "source": [
    "# Example use with map()"
   ]
  },
  {
   "cell_type": "code",
   "execution_count": 86,
   "metadata": {},
   "outputs": [
    {
     "name": "stdout",
     "output_type": "stream",
     "text": [
      "[1, 4, 9, 16, 25, 36, 49, 64, 81]\n"
     ]
    }
   ],
   "source": [
    "lst = [1,2,3,4,5,6,7,8,9]\n",
    "\n",
    "new_lst = list(map(lambda x : x**2, lst))\n",
    "\n",
    "print(new_lst)"
   ]
  },
  {
   "cell_type": "code",
   "execution_count": 89,
   "metadata": {},
   "outputs": [
    {
     "name": "stdout",
     "output_type": "stream",
     "text": [
      "[1, 4, 9, 16, 25, 36, 49, 64, 81]\n"
     ]
    }
   ],
   "source": [
    "lst = [1,2,3,4,5,6,7,8,9]\n",
    "\n",
    "new_lst = lambda x : x**2\n",
    "\n",
    "\n",
    "print(list(map(new_lst, lst)))"
   ]
  },
  {
   "cell_type": "code",
   "execution_count": 90,
   "metadata": {},
   "outputs": [
    {
     "name": "stdout",
     "output_type": "stream",
     "text": [
      "[0, 1, 4, 9, 16, 25, 36, 49, 64, 81]\n"
     ]
    }
   ],
   "source": [
    "\n",
    "\n",
    "new_lst = lambda x : x**2\n",
    "\n",
    "\n",
    "print(list(map(new_lst, range(0,10))))"
   ]
  },
  {
   "cell_type": "code",
   "execution_count": 96,
   "metadata": {},
   "outputs": [
    {
     "name": "stdout",
     "output_type": "stream",
     "text": [
      "10\n",
      "[0, 1, 4, 9, 16, 25, 36, 49, 64, 81]\n"
     ]
    }
   ],
   "source": [
    "\n",
    "\n",
    "new_lst = lambda x : x**2\n",
    "\n",
    "\n",
    "print(list(map(new_lst, range(int(input())))))"
   ]
  },
  {
   "cell_type": "code",
   "execution_count": null,
   "metadata": {},
   "outputs": [],
   "source": [
    "even_lst = lambda x: x%2==0\n",
    "\n"
   ]
  },
  {
   "cell_type": "code",
   "execution_count": 104,
   "metadata": {},
   "outputs": [
    {
     "name": "stdout",
     "output_type": "stream",
     "text": [
      "enter range:10\n",
      "[True, False, True, False, True, False, True, False, True, False]\n"
     ]
    }
   ],
   "source": [
    "even_lst = lambda x:   x%2==0\n",
    "\n",
    "print(list(map(even_lst, range(int(input(\"enter range:\"))))))"
   ]
  },
  {
   "cell_type": "markdown",
   "metadata": {},
   "source": [
    "# Example use with reduce()"
   ]
  },
  {
   "cell_type": "code",
   "execution_count": 107,
   "metadata": {},
   "outputs": [
    {
     "name": "stdout",
     "output_type": "stream",
     "text": [
      "40320\n"
     ]
    }
   ],
   "source": [
    "from functools import reduce\n",
    "\n",
    "lst = [1,2,3,4,5,6,7,8]\n",
    "\n",
    "product_lst = reduce(lambda x,y : x*y, lst)\n",
    "\n",
    "print(product_lst)\n",
    "\n"
   ]
  },
  {
   "cell_type": "code",
   "execution_count": 114,
   "metadata": {},
   "outputs": [
    {
     "name": "stdout",
     "output_type": "stream",
     "text": [
      "40320\n"
     ]
    }
   ],
   "source": [
    "from functools import reduce\n",
    "\n",
    "lst = [1,2,3,4,5,6,7,8]\n",
    "\n",
    "product_lst = lambda x,y : x*y\n",
    "\n",
    "a = reduce(product_lst, lst)\n",
    "\n",
    "print(a)\n",
    "\n"
   ]
  },
  {
   "cell_type": "code",
   "execution_count": 120,
   "metadata": {},
   "outputs": [
    {
     "name": "stdout",
     "output_type": "stream",
     "text": [
      "40320\n"
     ]
    }
   ],
   "source": [
    "from functools import reduce\n",
    "\n",
    "lst = [1,2,3,4,5,6,7,8]\n",
    "\n",
    "product_lst = lambda x,y : x*y\n",
    "\n",
    "print(reduce(product_lst, lst))\n",
    "\n",
    "\n",
    "\n"
   ]
  },
  {
   "cell_type": "code",
   "execution_count": 12,
   "metadata": {},
   "outputs": [
    {
     "name": "stdout",
     "output_type": "stream",
     "text": [
      "40320\n"
     ]
    }
   ],
   "source": [
    "from functools import reduce\n",
    "\n",
    "lst = [1,2,3,4,5,6,7,8]\n",
    "\n",
    "product_lst = reduce(lambda x,y : x*y, lst)\n",
    "\n",
    "print(product_lst)\n",
    "\n",
    "\n",
    "\n"
   ]
  },
  {
   "cell_type": "code",
   "execution_count": null,
   "metadata": {},
   "outputs": [],
   "source": []
  }
 ],
 "metadata": {
  "kernelspec": {
   "display_name": "Python 3",
   "language": "python",
   "name": "python3"
  },
  "language_info": {
   "codemirror_mode": {
    "name": "ipython",
    "version": 3
   },
   "file_extension": ".py",
   "mimetype": "text/x-python",
   "name": "python",
   "nbconvert_exporter": "python",
   "pygments_lexer": "ipython3",
   "version": "3.6.8"
  }
 },
 "nbformat": 4,
 "nbformat_minor": 2
}
