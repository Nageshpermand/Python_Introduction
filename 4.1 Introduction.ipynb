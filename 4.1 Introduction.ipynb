{
 "cells": [
  {
   "cell_type": "markdown",
   "metadata": {},
   "source": [
    "# Python Functions"
   ]
  },
  {
   "cell_type": "markdown",
   "metadata": {},
   "source": [
    "Function is a group of related statements that perform a specific task.\n",
    "\n",
    "Functions help break our program into smaller and modular chunks. As our program grows larger and larger, functions make it more organized and manageable.\n",
    "\n",
    "It avoids repetition and makes code reusable.\n"
   ]
  },
  {
   "cell_type": "markdown",
   "metadata": {},
   "source": [
    "# Syntax"
   ]
  },
  {
   "cell_type": "markdown",
   "metadata": {},
   "source": [
    "def function_name(parameters):\n",
    "\n",
    "    \"\"\"\n",
    "    Doc String\n",
    "    \"\"\"\n",
    "\n",
    "    Statement(s)\n",
    "\n"
   ]
  },
  {
   "cell_type": "markdown",
   "metadata": {},
   "source": [
    "1. keyword \"def\" marks the start of function header\n",
    "\n",
    "2. Parameters (arguments) through which we pass values to a function. These are optional\n",
    "\n",
    "3. A colon(:) to mark the end of funciton header\n",
    "\n",
    "4. Doc string describe what the function does. This is optional\n",
    "\n",
    "5. \"return\" statement to return a value from the function. This is optional"
   ]
  },
  {
   "cell_type": "markdown",
   "metadata": {},
   "source": [
    "# Example:"
   ]
  },
  {
   "cell_type": "code",
   "execution_count": 2,
   "metadata": {},
   "outputs": [
    {
     "name": "stdout",
     "output_type": "stream",
     "text": [
      "Hello ramesh\n",
      "None\n"
     ]
    }
   ],
   "source": [
    "def print_name(name):\n",
    "    \"\"\"\n",
    "    This Function prints the name.\n",
    "    \"\"\"\n",
    "    print(\"Hello \"+ str(name))\n",
    "    \n",
    "#call function\n",
    "print(print_name('ramesh'))"
   ]
  },
  {
   "cell_type": "code",
   "execution_count": 3,
   "metadata": {},
   "outputs": [
    {
     "name": "stdout",
     "output_type": "stream",
     "text": [
      "Hello ramesh\n"
     ]
    }
   ],
   "source": [
    "def print_name(name):\n",
    "    \"\"\"\n",
    "    This Function prints the name.\n",
    "    \"\"\"\n",
    "    print(\"Hello \"+ str(name))\n",
    "    \n",
    "#call function\n",
    "print_name('ramesh')"
   ]
  },
  {
   "cell_type": "code",
   "execution_count": 4,
   "metadata": {},
   "outputs": [],
   "source": [
    "def print_name(name):\n",
    "    \"\"\"\n",
    "    This Function prints the name.\n",
    "    \"\"\"\n",
    "    print(\"Hello \"+ str(name))\n",
    "    \n"
   ]
  },
  {
   "cell_type": "markdown",
   "metadata": {},
   "source": [
    "# Function Call"
   ]
  },
  {
   "cell_type": "markdown",
   "metadata": {},
   "source": [
    "Once we have defined a function, we can call it from anywhere"
   ]
  },
  {
   "cell_type": "code",
   "execution_count": 8,
   "metadata": {},
   "outputs": [
    {
     "name": "stdout",
     "output_type": "stream",
     "text": [
      "Hello ramesh\n"
     ]
    }
   ],
   "source": [
    "print_name('ramesh')"
   ]
  },
  {
   "cell_type": "code",
   "execution_count": 9,
   "metadata": {},
   "outputs": [
    {
     "name": "stdout",
     "output_type": "stream",
     "text": [
      "Hello ramesh\n"
     ]
    }
   ],
   "source": [
    "def print_name(name):\n",
    "    \"\"\"\n",
    "    This Function prints the name.\n",
    "    \"\"\"\n",
    "    print(\"Hello \"+ str(name))\n",
    "    \n",
    "print_name('ramesh')\n",
    "    \n"
   ]
  },
  {
   "cell_type": "markdown",
   "metadata": {},
   "source": [
    "# Doc String"
   ]
  },
  {
   "cell_type": "markdown",
   "metadata": {},
   "source": [
    "The first string after the function header is called the docstring and is short for documentation string.\n",
    "\n",
    "Although optional, documentation is a good programming practice, always document your code\n",
    "\n",
    "Doc string will be written in triple quotes so that docstring can extend up to multiple lines\n",
    "\n",
    "in doc strings first letter starts with capital and end of line ends with comma(.)\n",
    "\n",
    "when two are more lines uses then 1st line starts and 2nd line with spaces and 3rd line continue the quatations"
   ]
  },
  {
   "cell_type": "code",
   "execution_count": 1,
   "metadata": {},
   "outputs": [
    {
     "name": "stdout",
     "output_type": "stream",
     "text": [
      "\n",
      "    This Function prints the name.\n",
      "    \n"
     ]
    }
   ],
   "source": [
    "def print_name(name):\n",
    "    \"\"\"\n",
    "    This Function prints the name.\n",
    "    \"\"\"\n",
    "    print(\"Hello \"+ str(name))\n",
    "    \n",
    "#print_name('ramesh')\n",
    "\n",
    "print(print_name.__doc__)\n",
    "    \n"
   ]
  },
  {
   "cell_type": "markdown",
   "metadata": {},
   "source": [
    "# return Statement"
   ]
  },
  {
   "cell_type": "markdown",
   "metadata": {},
   "source": [
    "1. The return statement is used to exit a function and go back to the place from where it was called\n",
    "2. return function used for getting information back from Function\n",
    "\n",
    "3. Syntax:\n",
    "\n",
    "return [expression]\n",
    "\n",
    "-> return statement can contain an expression which gets evaluated and the value is returned.\n",
    "\n",
    "-> if there is no expression in the statement or the return statement itself is not present inside a function, then the function will return None Object\n"
   ]
  },
  {
   "cell_type": "code",
   "execution_count": 16,
   "metadata": {},
   "outputs": [
    {
     "name": "stdout",
     "output_type": "stream",
     "text": [
      "10\n"
     ]
    }
   ],
   "source": [
    "def get_sum(lst):\n",
    "    \"\"\"\n",
    "    This function returns the sum of all elements in the list\n",
    "    \"\"\"\n",
    "    \n",
    "    #intilizing sum\n",
    "    _sum = 0\n",
    "    \n",
    "    #iterating over the list\n",
    "    for num in lst:\n",
    "        _sum += num\n",
    "    return _sum\n",
    "    \n",
    "s = get_sum([1,2,3,4])\n",
    "print(s)"
   ]
  },
  {
   "cell_type": "code",
   "execution_count": 17,
   "metadata": {},
   "outputs": [
    {
     "name": "stdout",
     "output_type": "stream",
     "text": [
      "36\n"
     ]
    }
   ],
   "source": [
    "def get_sum(lst):\n",
    "    \"\"\"\n",
    "    This function returns the sum of all elements in the list\n",
    "    \"\"\"\n",
    "    \n",
    "    #intilizing sum\n",
    "    _sum = 0\n",
    "    \n",
    "    #iterating over the list\n",
    "    for num in lst:\n",
    "        _sum += num\n",
    "    return _sum\n",
    "    \n",
    "s = get_sum([1,2,3,4,5,6,7,8])\n",
    "print(s)"
   ]
  },
  {
   "cell_type": "code",
   "execution_count": 24,
   "metadata": {},
   "outputs": [
    {
     "name": "stdout",
     "output_type": "stream",
     "text": [
      "36\n"
     ]
    }
   ],
   "source": [
    "def get_sum(lst):\n",
    "    \"\"\"\n",
    "    This function returns the sum of all elements in the list\n",
    "    \"\"\"\n",
    "    \n",
    "    #intilizing sum\n",
    "    _sum = 0\n",
    "    \n",
    "    #iterating over the list\n",
    "    for num in lst:\n",
    "        _sum += num\n",
    "    return _sum\n",
    "    \n",
    "print(get_sum([1,2,3,4,5,6,7,8]))\n"
   ]
  },
  {
   "cell_type": "code",
   "execution_count": 28,
   "metadata": {},
   "outputs": [
    {
     "name": "stdout",
     "output_type": "stream",
     "text": [
      "None\n"
     ]
    }
   ],
   "source": [
    "def cube(num):\n",
    "    num*num*num\n",
    "    \n",
    "\n",
    "cube(4)\n",
    "print(cube(4))"
   ]
  },
  {
   "cell_type": "code",
   "execution_count": 1,
   "metadata": {},
   "outputs": [
    {
     "name": "stdout",
     "output_type": "stream",
     "text": [
      "None\n"
     ]
    }
   ],
   "source": [
    "def cube(num):\n",
    "    num*num*num\n",
    "    \n",
    "\n",
    "print(cube(4))"
   ]
  },
  {
   "cell_type": "code",
   "execution_count": 32,
   "metadata": {},
   "outputs": [
    {
     "name": "stdout",
     "output_type": "stream",
     "text": [
      "64\n"
     ]
    }
   ],
   "source": [
    "def cube(num):   \n",
    "    return num*num*num    #return function used for getting information back from Function\n",
    "    \n",
    "\n",
    "cube(4)\n",
    "print(cube(4))"
   ]
  },
  {
   "cell_type": "code",
   "execution_count": 33,
   "metadata": {},
   "outputs": [
    {
     "name": "stdout",
     "output_type": "stream",
     "text": [
      "64\n"
     ]
    }
   ],
   "source": [
    "def cube(num):   \n",
    "    return num*num*num    #return function used for getting information back from Function\n",
    "    \n",
    "\n",
    "\n",
    "print(cube(4))"
   ]
  },
  {
   "cell_type": "code",
   "execution_count": 34,
   "metadata": {},
   "outputs": [
    {
     "name": "stdout",
     "output_type": "stream",
     "text": [
      "64\n"
     ]
    }
   ],
   "source": [
    "def cube(num):   \n",
    "    return num*num*num\n",
    "    print(\"code\")            #after the return it jumps to outside block it can not print  function\n",
    "    \n",
    "print(cube(4))"
   ]
  },
  {
   "cell_type": "code",
   "execution_count": 36,
   "metadata": {},
   "outputs": [
    {
     "name": "stdout",
     "output_type": "stream",
     "text": [
      "code\n",
      "64\n"
     ]
    }
   ],
   "source": [
    "def cube(num):\n",
    "    \n",
    "    print(\"code\") \n",
    "    return num*num*num\n",
    "               \n",
    "print(cube(4))"
   ]
  },
  {
   "cell_type": "markdown",
   "metadata": {},
   "source": [
    "# Difference between return and print statements in functions"
   ]
  },
  {
   "cell_type": "code",
   "execution_count": 37,
   "metadata": {},
   "outputs": [
    {
     "name": "stdout",
     "output_type": "stream",
     "text": [
      "8\n",
      "8\n",
      "None\n"
     ]
    }
   ],
   "source": [
    "def returnfunction(num):\n",
    "    num = num*2\n",
    "    return num\n",
    "\n",
    "def printfunction(num):\n",
    "    num = num*2\n",
    "    print(num)\n",
    "    \n",
    "print(returnfunction(4))\n",
    "\n",
    "print(printfunction(4))"
   ]
  },
  {
   "cell_type": "code",
   "execution_count": 3,
   "metadata": {},
   "outputs": [
    {
     "name": "stdout",
     "output_type": "stream",
     "text": [
      "8\n"
     ]
    }
   ],
   "source": [
    "def returnfunction(num):\n",
    "    num = num*2\n",
    "    return num\n",
    "\n",
    "print(returnfunction(4))\n"
   ]
  },
  {
   "cell_type": "code",
   "execution_count": 2,
   "metadata": {},
   "outputs": [
    {
     "name": "stdout",
     "output_type": "stream",
     "text": [
      "8\n",
      "None\n"
     ]
    }
   ],
   "source": [
    "def printfunction(num):\n",
    "    num = num*2\n",
    "    print(num)\n",
    "    \n",
    "\n",
    "print(printfunction(4))"
   ]
  },
  {
   "cell_type": "code",
   "execution_count": 38,
   "metadata": {},
   "outputs": [
    {
     "name": "stdout",
     "output_type": "stream",
     "text": [
      "8\n"
     ]
    }
   ],
   "source": [
    "def returnfunction(num):\n",
    "    num = num*2\n",
    "    return num\n",
    "\n",
    "\"\"\"\n",
    "def printfunction(num):\n",
    "    num = num*2\n",
    "    print(num)\n",
    "\"\"\"\n",
    "\n",
    "\n",
    "a = returnfunction(4)\n",
    "print(a)\n",
    "\n",
    "#print(printfunction(4))"
   ]
  },
  {
   "cell_type": "code",
   "execution_count": 40,
   "metadata": {},
   "outputs": [
    {
     "name": "stdout",
     "output_type": "stream",
     "text": [
      "8\n",
      "None\n"
     ]
    }
   ],
   "source": [
    "\"\"\"\n",
    "def returnfunction(num):\n",
    "    num = num*2\n",
    "    return num\n",
    "\"\"\"\n",
    "\n",
    "\n",
    "def printfunction(num):\n",
    "    num = num*2\n",
    "    print(num)\n",
    "\n",
    "\n",
    "\n",
    "#a = returnfunction(4)\n",
    "#print(a)\n",
    "\n",
    "b = printfunction(4)\n",
    "print(b)"
   ]
  },
  {
   "cell_type": "code",
   "execution_count": 41,
   "metadata": {},
   "outputs": [
    {
     "name": "stdout",
     "output_type": "stream",
     "text": [
      "<class 'str'>\n",
      "hello world\n"
     ]
    }
   ],
   "source": [
    "a = \"hello world\"\n",
    "print(type(a))\n",
    "\n",
    "print(a)"
   ]
  },
  {
   "cell_type": "markdown",
   "metadata": {},
   "source": [
    "# How Function works in Python?"
   ]
  },
  {
   "cell_type": "markdown",
   "metadata": {},
   "source": [
    "# Scope and Life Time of Variables"
   ]
  },
  {
   "cell_type": "markdown",
   "metadata": {},
   "source": [
    "-> Scope of a variable is the portion of a program where the variable is recognized\n",
    "\n",
    "-> variables defined inside a function is not visible from outside. Hence, they have a local scope.\n",
    "\n",
    "-> Lifetime of a variable is the period throughout which the variable exits in the memory.\n",
    "\n",
    "-> The lifetime of variables inside a function is as long as the function executes.\n",
    "\n",
    "-> Variables are destroyed once we return from the function.\n"
   ]
  },
  {
   "cell_type": "markdown",
   "metadata": {},
   "source": [
    "# Example"
   ]
  },
  {
   "cell_type": "code",
   "execution_count": 42,
   "metadata": {},
   "outputs": [
    {
     "name": "stdout",
     "output_type": "stream",
     "text": [
      "This is local variable\n",
      "This is global variable\n",
      "This is global variable\n"
     ]
    }
   ],
   "source": [
    "global_var = \"This is global variable\"\n",
    "\n",
    "def test_life_time():\n",
    "    \"\"\"\n",
    "    This function tests the life time of variable.\n",
    "    \"\"\"\n",
    "    local_var = \"This is local variable\"\n",
    "    print(local_var)\n",
    "    print(global_var)\n",
    "    \n",
    "#calling function\n",
    "test_life_time()\n",
    "\n",
    "#outside the function\n",
    "print(global_var)\n"
   ]
  },
  {
   "cell_type": "code",
   "execution_count": 43,
   "metadata": {},
   "outputs": [
    {
     "name": "stdout",
     "output_type": "stream",
     "text": [
      "This is local variable\n",
      "This is global variable\n",
      "This is global variable\n"
     ]
    },
    {
     "ename": "NameError",
     "evalue": "name 'local_var' is not defined",
     "output_type": "error",
     "traceback": [
      "\u001b[0;31m---------------------------------------------------------------------------\u001b[0m",
      "\u001b[0;31mNameError\u001b[0m                                 Traceback (most recent call last)",
      "\u001b[0;32m<ipython-input-43-829d2bd114bf>\u001b[0m in \u001b[0;36m<module>\u001b[0;34m\u001b[0m\n\u001b[1;32m     16\u001b[0m \u001b[0;34m\u001b[0m\u001b[0m\n\u001b[1;32m     17\u001b[0m \u001b[0;31m#inside the function ----> it does not prints because it is inside the function\u001b[0m\u001b[0;34m\u001b[0m\u001b[0;34m\u001b[0m\u001b[0;34m\u001b[0m\u001b[0m\n\u001b[0;32m---> 18\u001b[0;31m \u001b[0mprint\u001b[0m\u001b[0;34m(\u001b[0m\u001b[0mlocal_var\u001b[0m\u001b[0;34m)\u001b[0m\u001b[0;34m\u001b[0m\u001b[0;34m\u001b[0m\u001b[0m\n\u001b[0m",
      "\u001b[0;31mNameError\u001b[0m: name 'local_var' is not defined"
     ]
    }
   ],
   "source": [
    "global_var = \"This is global variable\"\n",
    "\n",
    "def test_life_time():\n",
    "    \"\"\"\n",
    "    This function tests the life time of variable.\n",
    "    \"\"\"\n",
    "    local_var = \"This is local variable\"\n",
    "    print(local_var)\n",
    "    print(global_var)\n",
    "    \n",
    "#calling function\n",
    "test_life_time()\n",
    "\n",
    "#outside the function\n",
    "print(global_var)\n",
    "\n",
    "#inside the function ----> it does not prints because it is inside the function \n",
    "print(local_var)"
   ]
  },
  {
   "cell_type": "markdown",
   "metadata": {},
   "source": [
    "# Python program to print Highest Common Factor(HCF) of two numbers"
   ]
  },
  {
   "cell_type": "markdown",
   "metadata": {},
   "source": [
    "example 12 and 14 are divedes with largest number 2"
   ]
  },
  {
   "cell_type": "code",
   "execution_count": 45,
   "metadata": {},
   "outputs": [
    {
     "name": "stdout",
     "output_type": "stream",
     "text": [
      "H.C.F of 6 and 36 is: 6\n"
     ]
    }
   ],
   "source": [
    "def computeHCF(a,b):\n",
    "    \"\"\"\n",
    "    Computing HCF of two numbers\n",
    "    \"\"\"\n",
    "    \n",
    "    smaller = b if a>b else a   #consice way of writing if else statement\n",
    "    \n",
    "    hcf = 1\n",
    "    for i in range(1, smaller+1):\n",
    "        if (a%i == 0) and (b%i == 0):\n",
    "            hcf = i\n",
    "    return hcf\n",
    "\n",
    "num1 = 6\n",
    "num2 = 36\n",
    "\n",
    "print(\"H.C.F of {0} and {1} is: {2}\".format(num1,num2, computeHCF(num1,num2)))"
   ]
  },
  {
   "cell_type": "code",
   "execution_count": 4,
   "metadata": {},
   "outputs": [
    {
     "name": "stdout",
     "output_type": "stream",
     "text": [
      "H.C.F of 4 and 2 is: 2\n"
     ]
    }
   ],
   "source": [
    "def computeHCF(a,b):\n",
    "    \"\"\"\n",
    "    Computing HCF of two numbers\n",
    "    \"\"\"\n",
    "    \n",
    "    smaller = b if a>b else a   #consice way of writing if else statement\n",
    "    \n",
    "    hcf = 1\n",
    "    for i in range(1, smaller+1):\n",
    "        if (a%i == 0) and (b%i == 0):\n",
    "            hcf = i\n",
    "    return hcf\n",
    "\n",
    "num1 = 4\n",
    "num2 = 2\n",
    "\n",
    "print(\"H.C.F of {0} and {1} is: {2}\".format(num1,num2, computeHCF(num1,num2)))"
   ]
  },
  {
   "cell_type": "code",
   "execution_count": 5,
   "metadata": {},
   "outputs": [
    {
     "name": "stdout",
     "output_type": "stream",
     "text": [
      "H.C.F of 20 and 10 is: 10\n"
     ]
    }
   ],
   "source": [
    "def computeHCF(a,b):\n",
    "    \"\"\"\n",
    "    Computing HCF of two numbers\n",
    "    \"\"\"\n",
    "    \n",
    "    smaller = b if a>b else a   #consice way of writing if else statement\n",
    "    \n",
    "    hcf = 1\n",
    "    for i in range(1, smaller+1):\n",
    "        if (a%i == 0) and (b%i == 0):\n",
    "            hcf = i\n",
    "    return hcf\n",
    "\n",
    "num1 = 20\n",
    "num2 = 10\n",
    "\n",
    "print(\"H.C.F of {0} and {1} is: {2}\".format(num1,num2, computeHCF(num1,num2)))"
   ]
  },
  {
   "cell_type": "code",
   "execution_count": 48,
   "metadata": {},
   "outputs": [
    {
     "name": "stdout",
     "output_type": "stream",
     "text": [
      "H.C.F of 36 and 6 is: 6\n"
     ]
    }
   ],
   "source": [
    "def computeHCF(a,b):\n",
    "    \"\"\"\n",
    "    Computing HCF of two numbers\n",
    "    \"\"\"\n",
    "    \n",
    "    smaller = b if a>b else a   #consice way of writing if else statement\n",
    "    \n",
    "    hcf = 1\n",
    "    for i in range(1, smaller+1):\n",
    "        if (a%i == 0) and (b%i == 0):\n",
    "            hcf = i\n",
    "    return hcf\n",
    "\n",
    "num1 = 36\n",
    "num2 = 6\n",
    "\n",
    "print(\"H.C.F of {0} and {1} is: {2}\".format(num1,num2, computeHCF(num1,num2)))"
   ]
  },
  {
   "cell_type": "code",
   "execution_count": null,
   "metadata": {},
   "outputs": [],
   "source": [
    "def computeHCF(a,b):\n",
    "    \"\"\"\n",
    "    Computing HCF of two numbers\n",
    "    \"\"\"\n",
    "    \n",
    "    smaller = b if a>b else a   #consice way of writing if else statement\n",
    "    \n",
    "    hcf = 1\n",
    "    for i in range(1, smaller+1):\n",
    "        if (a%i == 0) and (b%i == 0):\n",
    "            hcf = i\n",
    "    return hcf\n",
    "\n",
    "num1 = 6\n",
    "num2 = 36\n",
    "\n",
    "print(\"H.C.F of {0} and {1} is: {2}\".format(num1,num2, computeHCF(num1,num2)))"
   ]
  },
  {
   "cell_type": "code",
   "execution_count": null,
   "metadata": {},
   "outputs": [],
   "source": []
  }
 ],
 "metadata": {
  "kernelspec": {
   "display_name": "Python 3",
   "language": "python",
   "name": "python3"
  },
  "language_info": {
   "codemirror_mode": {
    "name": "ipython",
    "version": 3
   },
   "file_extension": ".py",
   "mimetype": "text/x-python",
   "name": "python",
   "nbconvert_exporter": "python",
   "pygments_lexer": "ipython3",
   "version": "3.6.8"
  }
 },
 "nbformat": 4,
 "nbformat_minor": 2
}
